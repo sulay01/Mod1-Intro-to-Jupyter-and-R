{
 "cells": [
  {
   "cell_type": "code",
   "execution_count": null,
   "metadata": {
    "deletable": false,
    "editable": false,
    "nbgrader": {
     "cell_type": "code",
     "checksum": "8ad87880b1f8ee1bbecfc0572cab1ac1",
     "grade": false,
     "grade_id": "cell-413544c26eafb8d7",
     "locked": true,
     "schema_version": 3,
     "solution": false,
     "task": false
    }
   },
   "outputs": [],
   "source": [
    "# Load required libraries\n",
    "library(testthat)"
   ]
  },
  {
   "cell_type": "markdown",
   "metadata": {
    "deletable": false,
    "editable": false,
    "nbgrader": {
     "cell_type": "markdown",
     "checksum": "77e3b2cfdd7a77d5755c1a649e16bce6",
     "grade": false,
     "grade_id": "cell-3aaef261cc35e90e",
     "locked": true,
     "schema_version": 3,
     "solution": false,
     "task": false
    }
   },
   "source": [
    "# Problem 1\n",
    "\n",
    "For each of the following questions, decide which of the following tests would be most appropriate.\n",
    "\n",
    "1. z-test\n",
    "2. t-test\n",
    "3. The test is not possible.\n",
    "\n",
    "For each answer, save the **integer** corresponding to the correct answer."
   ]
  },
  {
   "cell_type": "markdown",
   "metadata": {
    "deletable": false,
    "editable": false,
    "nbgrader": {
     "cell_type": "markdown",
     "checksum": "2a7bd25e2d8d838ae9a186538298bd73",
     "grade": false,
     "grade_id": "cell-afbb2e202d1fddf9",
     "locked": true,
     "schema_version": 3,
     "solution": false,
     "task": false
    }
   },
   "source": [
    "**Part A)** You are measuring the average calorie intake across teenage boys and teenage girls. You get two samples, one of boys and one of girls. The sample of boys has 12 participants, and leads to a sample mean of 2637 calories with a sample standard deviation of 1138. The sample of girls has 11 participants, has a sample mean of 2258 calories and a sample standard deviation of 1519. At an $\\alpha = 0.05$ significance level, do boys consume more than girls by at least 200 calories per day? Assume that the sampling distribution is normal.\n",
    "\n",
    "Select the **integer** of the test should be used for this situation. Save your answer as `p1.a`."
   ]
  },
  {
   "cell_type": "code",
   "execution_count": 29,
   "metadata": {
    "deletable": false,
    "nbgrader": {
     "cell_type": "code",
     "checksum": "ecda5225f000a77f6cfabc0246e4e707",
     "grade": false,
     "grade_id": "cell-e330c87ceae41b6e",
     "locked": false,
     "schema_version": 3,
     "solution": true,
     "task": false
    }
   },
   "outputs": [],
   "source": [
    "p1.a = NA\n",
    "\n",
    "p1.a <- 2  # t-test (small sample size, unknown variances)\n"
   ]
  },
  {
   "cell_type": "code",
   "execution_count": 30,
   "metadata": {
    "deletable": false,
    "editable": false,
    "nbgrader": {
     "cell_type": "code",
     "checksum": "8b90a673d684a8a95615c5725cb6e13d",
     "grade": true,
     "grade_id": "cell-29d04e0deba119d6",
     "locked": true,
     "points": 1,
     "schema_version": 3,
     "solution": false,
     "task": false
    }
   },
   "outputs": [],
   "source": [
    "# Hidden Test Cell"
   ]
  },
  {
   "cell_type": "markdown",
   "metadata": {
    "deletable": false,
    "editable": false,
    "nbgrader": {
     "cell_type": "markdown",
     "checksum": "6763edfcff733ce945ae29b204dae34d",
     "grade": false,
     "grade_id": "cell-1fc13ea18e063f9e",
     "locked": true,
     "schema_version": 3,
     "solution": false,
     "task": false
    }
   },
   "source": [
    "**Part B)** You repeat the same experiment as **Part A)**, but have more time to collect larger sample sizes. The sample of boys has a sample size of 63, with a sample mean of 2663 calories and a sample standard deviation of 895. The sample of girls has a sample size of 71, with a sample mean of 2190 with a sample standard deviation of 1448. At an $\\alpha=0.05$ significance level, do boys consume more than girls by at least 200 calories per day? Assume that the sampling distribution is normal.\n",
    "\n",
    "Select the **integer** of the test should be used for this situation. Save your answer as `p1.b`."
   ]
  },
  {
   "cell_type": "code",
   "execution_count": 31,
   "metadata": {
    "deletable": false,
    "nbgrader": {
     "cell_type": "code",
     "checksum": "8e66cde96f26ee602932d85d005717dd",
     "grade": false,
     "grade_id": "cell-0175c858f25222cd",
     "locked": false,
     "schema_version": 3,
     "solution": true,
     "task": false
    }
   },
   "outputs": [],
   "source": [
    "p1.b = NA\n",
    "\n",
    "p1.b <- 1  # z-test (large sample size, normality assumed)\n"
   ]
  },
  {
   "cell_type": "code",
   "execution_count": 32,
   "metadata": {
    "deletable": false,
    "editable": false,
    "nbgrader": {
     "cell_type": "code",
     "checksum": "3ea825e257e65896e8e7905d97df700a",
     "grade": true,
     "grade_id": "cell-62022b79c25f0c45",
     "locked": true,
     "points": 1,
     "schema_version": 3,
     "solution": false,
     "task": false
    }
   },
   "outputs": [],
   "source": [
    "# Hidden Test Cell"
   ]
  },
  {
   "cell_type": "markdown",
   "metadata": {
    "deletable": false,
    "editable": false,
    "nbgrader": {
     "cell_type": "markdown",
     "checksum": "e332261d4c860b2f9521cb2c8f180e27",
     "grade": false,
     "grade_id": "cell-b3453097f07ad22c",
     "locked": true,
     "schema_version": 3,
     "solution": false,
     "task": false
    }
   },
   "source": [
    "**Part C)** You spend some more time analyzing the data from **Part B**, and eventually come to the conclusion that the sampling distribution is not normal, it actually follows a Gamma distribution.\n",
    "\n",
    "Select the **integer** corresponding to the test should be used for this situation. Save your answer as `p1.c`."
   ]
  },
  {
   "cell_type": "code",
   "execution_count": 78,
   "metadata": {
    "deletable": false,
    "nbgrader": {
     "cell_type": "code",
     "checksum": "1af7e63b6f18b4a9b03a39bf56567cf2",
     "grade": false,
     "grade_id": "cell-a131970d8b019c11",
     "locked": false,
     "schema_version": 3,
     "solution": true,
     "task": false
    }
   },
   "outputs": [],
   "source": [
    "p1.c = NA\n",
    "\n",
    "p1.c <- 1  # z-test (because of the Central Limit Theorem)\n"
   ]
  },
  {
   "cell_type": "code",
   "execution_count": 34,
   "metadata": {
    "deletable": false,
    "editable": false,
    "nbgrader": {
     "cell_type": "code",
     "checksum": "e9f5621736adedb918857c918e0e9f51",
     "grade": true,
     "grade_id": "cell-b50894c5287d6873",
     "locked": true,
     "points": 1,
     "schema_version": 3,
     "solution": false,
     "task": false
    }
   },
   "outputs": [],
   "source": [
    "# Hidden Test Cell"
   ]
  },
  {
   "cell_type": "markdown",
   "metadata": {
    "nbgrader": {
     "grade": false,
     "grade_id": "cell-aec291ad54398494",
     "locked": false,
     "schema_version": 3,
     "solution": false,
     "task": false
    }
   },
   "source": [
    "**Part D)** Suppose that in an alternate universe, instead of spending time gathering a larger sample, you spent that time researching the \"true\" distributions of teenagers' calorie consumption. In that research, you found that boys have a true standard deviation of 932 calories and girls have a true standard deviation of 1071 calories. You have the same sample values as in **Part A)**.\n",
    "\n",
    "Select the **integer** of the test should be used for this situation. Save your answer as `p1.d`."
   ]
  },
  {
   "cell_type": "code",
   "execution_count": 35,
   "metadata": {
    "deletable": false,
    "nbgrader": {
     "cell_type": "code",
     "checksum": "201765e92c987cd20862ec6126a6fda3",
     "grade": false,
     "grade_id": "cell-08758811f5ea39bd",
     "locked": false,
     "schema_version": 3,
     "solution": true,
     "task": false
    }
   },
   "outputs": [],
   "source": [
    "p1.d = NA\n",
    "\n",
    "p1.d <- 1  # z-test (population standard deviations known)\n"
   ]
  },
  {
   "cell_type": "code",
   "execution_count": 36,
   "metadata": {
    "deletable": false,
    "editable": false,
    "nbgrader": {
     "cell_type": "code",
     "checksum": "a0d38f018f91fff0b33de63b29577ed0",
     "grade": true,
     "grade_id": "cell-8f5a5e5aea8eb9ac",
     "locked": true,
     "points": 1,
     "schema_version": 3,
     "solution": false,
     "task": false
    }
   },
   "outputs": [],
   "source": [
    "# Hidden Test Cell"
   ]
  },
  {
   "cell_type": "markdown",
   "metadata": {
    "deletable": false,
    "editable": false,
    "nbgrader": {
     "cell_type": "markdown",
     "checksum": "34d9332743165f7bd077c4bbe7db7118",
     "grade": false,
     "grade_id": "cell-d1f96a186d3cf66d",
     "locked": true,
     "schema_version": 3,
     "solution": false,
     "task": false
    }
   },
   "source": [
    "# Problem 2\n",
    "\n",
    "Recently, Ralphie has been feeling sluggish during her regular \"Running With Ralphie\" event. She knows there are things that she could do to potentially improve her responsiveness, such as drinking coffee or taking a nap, but she wants to be sure. Being the Data Scientist that she is, she decides to create a experiment to test whether the different situations actually improve her reaction time. For each method, she does as the method requires, and a few hours later she has her handlers record her reaction time. These values are recorded in the `nap` and `coffee` variables. She tested the coffee method 10 times and the nap method 12 times. \n",
    "\n",
    "Ralphie also knows, from her supreme buffalo intuition, that her average reaction time is 490 units and that her reaction time measurements are normally distributed."
   ]
  },
  {
   "cell_type": "code",
   "execution_count": 37,
   "metadata": {
    "deletable": false,
    "editable": false,
    "nbgrader": {
     "cell_type": "code",
     "checksum": "62e008535d4483e57dc360a60cd92152",
     "grade": false,
     "grade_id": "cell-d6d4978e219bd91b",
     "locked": true,
     "schema_version": 3,
     "solution": false,
     "task": false
    }
   },
   "outputs": [],
   "source": [
    "# Sample size of each test\n",
    "n.coffee = 10\n",
    "n.nap = 12\n",
    "# The reaction time data for each method\n",
    "coffee = c(485.77, 490.86, 460.79, 528.74, 483.47, 526.24, 504.78, 460.7, 587.08, 484.13)\n",
    "nap = c(598.15, 518.69, 601.49, 598.62, 555.73, 458, 488.57, 520.26, 534.71, 655.23, 573.18, 495.05)"
   ]
  },
  {
   "cell_type": "markdown",
   "metadata": {
    "deletable": false,
    "editable": false,
    "nbgrader": {
     "cell_type": "markdown",
     "checksum": "33a950da17f1202d044b07047429fd1c",
     "grade": false,
     "grade_id": "cell-36947eaa18b513bb",
     "locked": true,
     "schema_version": 3,
     "solution": false,
     "task": false
    }
   },
   "source": [
    "**Part A)** Determine, at the $\\alpha=0.05$ significance level, if drinking coffee improved Ralphie's reaction time. For this, you will need to calculate an appropriate test statistic. Store this value as `p2.a.stat` and round the value to two decimal places. Then calculate the p-value for this test statistic. Store this value in `p2.a.p` and round it to two decimal places.\n",
    "\n",
    "Hint: Think about whether \"improvement\" means a faster (shorter) or slower (longer) reaction times compared to Ralphie’s usual average of 490 units. "
   ]
  },
  {
   "cell_type": "code",
   "execution_count": 38,
   "metadata": {
    "deletable": false,
    "nbgrader": {
     "cell_type": "code",
     "checksum": "9597e03b25a77bf3a31105b2ccf7576f",
     "grade": false,
     "grade_id": "cell-6b2d5d055be66e34",
     "locked": false,
     "schema_version": 3,
     "solution": true,
     "task": false
    }
   },
   "outputs": [],
   "source": [
    "p2.a.stat = NA\n",
    "p2.a.p = NA\n",
    "\n",
    "mean_reaction <- 490  # Known mean reaction time\n",
    "test_stat <- (mean(coffee) - mean_reaction) / (sd(coffee) / sqrt(length(coffee)))\n",
    "p_value <- pt(test_stat, df=length(coffee)-1, lower.tail=TRUE)  # One-tailed test\n",
    "p2.a.stat <- round(test_stat, 2)\n",
    "p2.a.p <- round(p_value, 2)\n"
   ]
  },
  {
   "cell_type": "code",
   "execution_count": null,
   "metadata": {
    "deletable": false,
    "editable": false,
    "nbgrader": {
     "cell_type": "code",
     "checksum": "0b8f8d21aebc37efbf7592b7478d8ae7",
     "grade": true,
     "grade_id": "cell-da4da8a0ae351115",
     "locked": true,
     "points": 1,
     "schema_version": 3,
     "solution": false,
     "task": false
    }
   },
   "outputs": [],
   "source": [
    "# Hidden Test Cell"
   ]
  },
  {
   "cell_type": "markdown",
   "metadata": {
    "deletable": false,
    "editable": false,
    "nbgrader": {
     "cell_type": "markdown",
     "checksum": "4e96742b44b8f2c352e2c2191832a07c",
     "grade": false,
     "grade_id": "cell-1af4e006a6db0e17",
     "locked": true,
     "schema_version": 3,
     "solution": false,
     "task": false
    }
   },
   "source": [
    "**Part B)** Based on your answers to **Part A**, does drinking coffee improve Ralphie's reaction time at the $\\alpha=0.05$ significance level? Your answer should be the boolean `TRUE` if coffee improves her reaction time, and `FALSE` if it does not. Save your answer into variable `p2.b`. "
   ]
  },
  {
   "cell_type": "code",
   "execution_count": 39,
   "metadata": {
    "deletable": false,
    "nbgrader": {
     "cell_type": "code",
     "checksum": "62d7c3b8e1a7cc15b45de00557060d39",
     "grade": false,
     "grade_id": "cell-eda781839d124033",
     "locked": false,
     "schema_version": 3,
     "solution": true,
     "task": false
    }
   },
   "outputs": [],
   "source": [
    "p2.b = NA\n",
    "\n",
    "p2.b <- p2.a.p < 0.05  # Check significance at α = 0.05\n"
   ]
  },
  {
   "cell_type": "code",
   "execution_count": null,
   "metadata": {
    "deletable": false,
    "editable": false,
    "nbgrader": {
     "cell_type": "code",
     "checksum": "4b1823ca13b4715b4233617e5ad226b5",
     "grade": true,
     "grade_id": "cell-9e803171c3bd89b2",
     "locked": true,
     "points": 1,
     "schema_version": 3,
     "solution": false,
     "task": false
    }
   },
   "outputs": [],
   "source": [
    "# Hidden Test Cell"
   ]
  },
  {
   "cell_type": "markdown",
   "metadata": {
    "deletable": false,
    "editable": false,
    "nbgrader": {
     "cell_type": "markdown",
     "checksum": "64f97cdab00de1ed9521d7ce7736b568",
     "grade": false,
     "grade_id": "cell-c60380cdb9470735",
     "locked": true,
     "schema_version": 3,
     "solution": false,
     "task": false
    }
   },
   "source": [
    "**Part C)** Assuming that the true (unknown) variances for nap and coffee reaction times are equal, determine if there sufficient evidence, at the $\\alpha = 0.05$ significance level, to conclude that taking a nap promotes faster reaction time than drinking coffee. Again, calculate an appropriate test statistic and save it into variable `p2.c.stat`. Round this value to two decimal places. Then calculate the p-value for this test statistic and save it into variable `p2.c.p`. Round this value to three decimal places."
   ]
  },
  {
   "cell_type": "code",
   "execution_count": 40,
   "metadata": {
    "deletable": false,
    "nbgrader": {
     "cell_type": "code",
     "checksum": "75ca3e6f05991266df716b61f4da839b",
     "grade": false,
     "grade_id": "cell-2be7993e9ecdfcd1",
     "locked": false,
     "schema_version": 3,
     "solution": true,
     "task": false
    }
   },
   "outputs": [],
   "source": [
    "p2.c.stat = NA\n",
    "p2.c.p = NA\n",
    "\n",
    "pooled_var <- ((n.nap - 1) * var(nap) + (n.coffee - 1) * var(coffee)) / (n.nap + n.coffee - 2)\n",
    "test_stat_2 <- (mean(nap) - mean(coffee)) / sqrt(pooled_var * (1/n.nap + 1/n.coffee))\n",
    "df <- n.nap + n.coffee - 2\n",
    "p_value_2 <- pt(test_stat_2, df=df, lower.tail=TRUE)  # One-tailed test\n",
    "p2.c.stat <- round(test_stat_2, 2)\n",
    "p2.c.p <- round(p_value_2, 3)\n",
    "\n"
   ]
  },
  {
   "cell_type": "code",
   "execution_count": null,
   "metadata": {
    "deletable": false,
    "editable": false,
    "nbgrader": {
     "cell_type": "code",
     "checksum": "a0bc341269ee3b1ded8f649acf8d37b3",
     "grade": true,
     "grade_id": "cell-ff56fae2074348bb",
     "locked": true,
     "points": 1,
     "schema_version": 3,
     "solution": false,
     "task": false
    }
   },
   "outputs": [],
   "source": [
    "# Hidden Test Cell"
   ]
  },
  {
   "cell_type": "markdown",
   "metadata": {
    "deletable": false,
    "editable": false,
    "nbgrader": {
     "cell_type": "markdown",
     "checksum": "74711f58a55e71d673ca2e88189b3ed0",
     "grade": false,
     "grade_id": "cell-79be6ff01c7116c2",
     "locked": true,
     "schema_version": 3,
     "solution": false,
     "task": false
    }
   },
   "source": [
    "**Part D)** Based on your answers to **Part C)**, is there sufficient evidence at the $\\alpha = 0.05$ significance level to conclude that taking a nap promotes faster reaction time in Ralphie than drinking coffee? Save your answer into variable `p2.d`. Save the boolean value `TRUE` if naps do result in Ralphie having a statistically significant faster reaction time than coffee, and `FALSE` otherwise."
   ]
  },
  {
   "cell_type": "code",
   "execution_count": 41,
   "metadata": {
    "deletable": false,
    "nbgrader": {
     "cell_type": "code",
     "checksum": "036c12b354db25004654c1c8988968a2",
     "grade": false,
     "grade_id": "cell-28f7898baba1b97b",
     "locked": false,
     "schema_version": 3,
     "solution": true,
     "task": false
    }
   },
   "outputs": [],
   "source": [
    "p2.d = NA\n",
    "\n",
    "p2.d <- p2.c.p < 0.05  # Check significance at α = 0.05\n"
   ]
  },
  {
   "cell_type": "code",
   "execution_count": null,
   "metadata": {
    "deletable": false,
    "editable": false,
    "nbgrader": {
     "cell_type": "code",
     "checksum": "9f6b98377600a8bd8a452836b4e05d89",
     "grade": true,
     "grade_id": "cell-4cf3bece49077b96",
     "locked": true,
     "points": 1,
     "schema_version": 3,
     "solution": false,
     "task": false
    }
   },
   "outputs": [],
   "source": [
    "# Hidden Test Cell"
   ]
  },
  {
   "cell_type": "markdown",
   "metadata": {
    "deletable": false,
    "editable": false,
    "nbgrader": {
     "cell_type": "markdown",
     "checksum": "c35335fe9073a67bd09170f096ffb426",
     "grade": false,
     "grade_id": "cell-575150710226cf57",
     "locked": true,
     "schema_version": 3,
     "solution": false,
     "task": false
    }
   },
   "source": [
    "# Question 3\n",
    "\n",
    "Now that you've learned about hypothesis testing and p-values, you should also be aware that these methods can be used incorrectly. Or, even worse, maliciously. Usually it involves manipulating the data or the test in such a way to produce a desired result. There's many methods for this, and they've got some cool names like [p-hacking and data dredging](https://www.explainxkcd.com/wiki/index.php/882:_Significant). In this problem, we will focus on the idea of using subsets of data to find a desired result.\n",
    "\n",
    "Nefarian just landed his first data science position as an intern at a new e-commerce company. His project was the design and test a new website layout that would lead to more purchases. To test his new layout, the company gathered four different groups of 50 customers and recorded how many of those ended up purchasing an item. This test was then repeated on multiple days. The effectiveness of Nefarian's layout is measured by the number of customers that made a purchase. This data is stored in the data frame `purchases`.\n",
    "\n",
    "Nefarian wants to land a permanent position at the company after his internship is over, so he really wants to impress his supervisors with his new layout. He knows that the site has an average purchase rate of $0.8$ and wants to see if his layout is an improvement."
   ]
  },
  {
   "cell_type": "code",
   "execution_count": 50,
   "metadata": {
    "deletable": false,
    "editable": false,
    "nbgrader": {
     "cell_type": "code",
     "checksum": "df7798343253da145ffb0a6591fc5049",
     "grade": false,
     "grade_id": "cell-5b1e9d904bdb9230",
     "locked": true,
     "schema_version": 3,
     "solution": false,
     "task": false
    }
   },
   "outputs": [
    {
     "data": {
      "text/html": [
       "<table>\n",
       "<caption>A data.frame: 6 × 2</caption>\n",
       "<thead>\n",
       "\t<tr><th></th><th scope=col>group</th><th scope=col>num_purchases</th></tr>\n",
       "\t<tr><th></th><th scope=col>&lt;fct&gt;</th><th scope=col>&lt;int&gt;</th></tr>\n",
       "</thead>\n",
       "<tbody>\n",
       "\t<tr><th scope=row>1</th><td>a</td><td>36</td></tr>\n",
       "\t<tr><th scope=row>2</th><td>a</td><td>42</td></tr>\n",
       "\t<tr><th scope=row>3</th><td>a</td><td>41</td></tr>\n",
       "\t<tr><th scope=row>4</th><td>a</td><td>40</td></tr>\n",
       "\t<tr><th scope=row>5</th><td>a</td><td>36</td></tr>\n",
       "\t<tr><th scope=row>6</th><td>a</td><td>42</td></tr>\n",
       "</tbody>\n",
       "</table>\n"
      ],
      "text/latex": [
       "A data.frame: 6 × 2\n",
       "\\begin{tabular}{r|ll}\n",
       "  & group & num\\_purchases\\\\\n",
       "  & <fct> & <int>\\\\\n",
       "\\hline\n",
       "\t1 & a & 36\\\\\n",
       "\t2 & a & 42\\\\\n",
       "\t3 & a & 41\\\\\n",
       "\t4 & a & 40\\\\\n",
       "\t5 & a & 36\\\\\n",
       "\t6 & a & 42\\\\\n",
       "\\end{tabular}\n"
      ],
      "text/markdown": [
       "\n",
       "A data.frame: 6 × 2\n",
       "\n",
       "| <!--/--> | group &lt;fct&gt; | num_purchases &lt;int&gt; |\n",
       "|---|---|---|\n",
       "| 1 | a | 36 |\n",
       "| 2 | a | 42 |\n",
       "| 3 | a | 41 |\n",
       "| 4 | a | 40 |\n",
       "| 5 | a | 36 |\n",
       "| 6 | a | 42 |\n",
       "\n"
      ],
      "text/plain": [
       "  group num_purchases\n",
       "1 a     36           \n",
       "2 a     42           \n",
       "3 a     41           \n",
       "4 a     40           \n",
       "5 a     36           \n",
       "6 a     42           "
      ]
     },
     "metadata": {},
     "output_type": "display_data"
    }
   ],
   "source": [
    "purchases = read.csv(\"purchases.csv\")\n",
    "purchases = purchases[,-1]\n",
    "names(purchases) = c(\"group\", \"num_purchases\")\n",
    "head(purchases)"
   ]
  },
  {
   "cell_type": "markdown",
   "metadata": {
    "deletable": false,
    "editable": false,
    "nbgrader": {
     "cell_type": "markdown",
     "checksum": "d35b4aca96a7a446f712666ce64168f8",
     "grade": false,
     "grade_id": "cell-7793a8ee6f2b0efa",
     "locked": true,
     "schema_version": 3,
     "solution": false,
     "task": false
    }
   },
   "source": [
    "**Part A)** Use the entire dataset to determine whether Nefarian's layout is an improvement over the original layout. Use an appropriate hypothesis test and a significance level of $\\alpha=0.05$. Store the p-value for this test in the variable `p3.a` and round your answer to two decimal places.\n",
    "\n",
    "**Note**: In case you haven't see a data frame before, think of it like a spreadsheet where each row is an instance each data and each column is a vector of specific values. To access the values in the \"num_purchases\" column, use `purchases$num_purchases`."
   ]
  },
  {
   "cell_type": "code",
   "execution_count": 79,
   "metadata": {
    "deletable": false,
    "nbgrader": {
     "cell_type": "code",
     "checksum": "e764dd88b69ce319c1dbfcc98790c9d1",
     "grade": false,
     "grade_id": "cell-128f02fad561e32d",
     "locked": false,
     "schema_version": 3,
     "solution": true,
     "task": false
    },
    "scrolled": true
   },
   "outputs": [],
   "source": [
    "p3.a = NA\n",
    "\n",
    "# Expected proportion (baseline purchase rate)\n",
    "p0 <- 0.8  \n",
    "\n",
    "# Number of trials (each row represents a new trial)\n",
    "n <- nrow(purchases)  \n",
    "\n",
    "# Sample proportion: average purchase rate per trial\n",
    "p_hat <- mean(purchases$num_purchases / 50)  # Proportion per row\n",
    "\n",
    "# Standard error\n",
    "se <- sqrt((p0 * (1 - p0)) / n)\n",
    "\n",
    "# Compute Z-score\n",
    "z_score <- (p_hat - p0) / se\n",
    "\n",
    "# Compute p-value (one-tailed test)\n",
    "p3.a <- round(pnorm(z_score, lower.tail = FALSE), 2)\n"
   ]
  },
  {
   "cell_type": "code",
   "execution_count": 80,
   "metadata": {
    "deletable": false,
    "editable": false,
    "nbgrader": {
     "cell_type": "code",
     "checksum": "36e75c5aec382989c57df1843c5f37a8",
     "grade": true,
     "grade_id": "cell-2edde207b7fca8a5",
     "locked": true,
     "points": 1,
     "schema_version": 3,
     "solution": false,
     "task": false
    }
   },
   "outputs": [],
   "source": [
    "# Hidden Test Cell"
   ]
  },
  {
   "cell_type": "markdown",
   "metadata": {
    "deletable": false,
    "editable": false,
    "nbgrader": {
     "cell_type": "markdown",
     "checksum": "4abf4a08b4be71162b97b2ea003855c2",
     "grade": false,
     "grade_id": "cell-4bc39dce910176b9",
     "locked": true,
     "schema_version": 3,
     "solution": false,
     "task": false
    }
   },
   "source": [
    "**Part B)** Based on your results from **Part A**, is Nefarian's layout an improvement over the original layout? Save your answer as `p3.b`. Save the boolean `TRUE` if it is a statistically significant improvement or `FALSE` if it is not."
   ]
  },
  {
   "cell_type": "code",
   "execution_count": 81,
   "metadata": {
    "deletable": false,
    "nbgrader": {
     "cell_type": "code",
     "checksum": "041523d21e80a85f8e974e938b8dff16",
     "grade": false,
     "grade_id": "cell-b09bcd4f64b15499",
     "locked": false,
     "schema_version": 3,
     "solution": true,
     "task": false
    }
   },
   "outputs": [],
   "source": [
    "p3.b = NA\n",
    "\n",
    "p3.b <- p3.a < 0.05\n"
   ]
  },
  {
   "cell_type": "code",
   "execution_count": 82,
   "metadata": {
    "deletable": false,
    "editable": false,
    "nbgrader": {
     "cell_type": "code",
     "checksum": "923245cb1e2e9b887f906ff8fb5a2ef3",
     "grade": true,
     "grade_id": "cell-8a94b03e7ade2da7",
     "locked": true,
     "points": 1,
     "schema_version": 3,
     "solution": false,
     "task": false
    }
   },
   "outputs": [],
   "source": [
    "# Hidden Test Cell"
   ]
  },
  {
   "cell_type": "markdown",
   "metadata": {
    "deletable": false,
    "editable": false,
    "nbgrader": {
     "cell_type": "markdown",
     "checksum": "42c3da78e43bd69228bf42937a5a78f8",
     "grade": false,
     "grade_id": "cell-4caa0da2c0f2563a",
     "locked": true,
     "schema_version": 3,
     "solution": false,
     "task": false
    }
   },
   "source": [
    "**Part C)** Bummer. But Nefarian *really* wants his design to be an improvement, so what's a little bad science? What if he can find a subset of data that supports his claim? Thinking back, Nefarian remembers that Group C supposedly contained some very impulsive customers. Using the same hypothesis from **Part A**, determine if Nafarian's layout was a statistically significant improvement at the $\\alpha=0.05$ significance level, if he only looks at samples from Group C. Save the p-value of this test as `p3.c`, rounded to three decimal places.\n",
    "\n",
    "**Note:** To filter the dataframe to only contain data for Group C, use `purchases[purchases$group==\"c\",]`."
   ]
  },
  {
   "cell_type": "code",
   "execution_count": 83,
   "metadata": {
    "deletable": false,
    "nbgrader": {
     "cell_type": "code",
     "checksum": "853f69cf7701b87488dbc40ed6d54c99",
     "grade": false,
     "grade_id": "cell-e1b740fdddf38fca",
     "locked": false,
     "schema_version": 3,
     "solution": true,
     "task": false
    }
   },
   "outputs": [],
   "source": [
    "p3.c = NA\n",
    "\n",
    "# Subset only Group C\n",
    "purchases_c <- purchases[purchases$group == \"c\",]\n",
    "\n",
    "# Number of trials in Group C\n",
    "n_c <- nrow(purchases_c)  \n",
    "\n",
    "# Sample proportion for Group C\n",
    "p_hat_c <- mean(purchases_c$num_purchases / 50)  \n",
    "\n",
    "# Standard error for Group C\n",
    "se_c <- sqrt((p0 * (1 - p0)) / n_c)\n",
    "\n",
    "# Compute Z-score for Group C\n",
    "z_score_c <- (p_hat_c - p0) / se_c\n",
    "\n",
    "# Compute p-value for Group C (one-tailed test)\n",
    "p3.c <- round(pnorm(z_score_c, lower.tail = FALSE), 3)\n"
   ]
  },
  {
   "cell_type": "code",
   "execution_count": 84,
   "metadata": {
    "deletable": false,
    "editable": false,
    "nbgrader": {
     "cell_type": "code",
     "checksum": "5e1c4e4c9a37214328a12f93c61220a6",
     "grade": true,
     "grade_id": "cell-c406b09a528713d2",
     "locked": true,
     "points": 1,
     "schema_version": 3,
     "solution": false,
     "task": false
    }
   },
   "outputs": [],
   "source": [
    "# Hidden Test Cell"
   ]
  },
  {
   "cell_type": "markdown",
   "metadata": {
    "deletable": false,
    "editable": false,
    "nbgrader": {
     "cell_type": "markdown",
     "checksum": "4e7f6f5d8526455bae97576307d0d9df",
     "grade": false,
     "grade_id": "cell-52f981bebd1e4417",
     "locked": true,
     "schema_version": 3,
     "solution": false,
     "task": false
    }
   },
   "source": [
    "**Part D)** Based on your results from Group C, is Nefarian's layout a statistically significant improvement over the original layout? Save your answer as `p3.d`. Save the boolean `TRUE` if it is a statistically significant improvement and `FALSE` otherwise."
   ]
  },
  {
   "cell_type": "code",
   "execution_count": 85,
   "metadata": {
    "deletable": false,
    "nbgrader": {
     "cell_type": "code",
     "checksum": "0953a503ee7b841a30dae2f6d8949fa1",
     "grade": false,
     "grade_id": "cell-192b4ab6c05eb1fa",
     "locked": false,
     "schema_version": 3,
     "solution": true,
     "task": false
    }
   },
   "outputs": [],
   "source": [
    "p3.d = NA\n",
    "\n",
    "p3.d <- p3.c < 0.05\n"
   ]
  },
  {
   "cell_type": "code",
   "execution_count": null,
   "metadata": {
    "deletable": false,
    "editable": false,
    "nbgrader": {
     "cell_type": "code",
     "checksum": "529d7874b16e1bfc8030c5a2f8be7a16",
     "grade": true,
     "grade_id": "cell-aca09dcf9b8ea764",
     "locked": true,
     "points": 1,
     "schema_version": 3,
     "solution": false,
     "task": false
    }
   },
   "outputs": [],
   "source": [
    "# Hidden Test Cell"
   ]
  }
 ],
 "metadata": {
  "kernelspec": {
   "display_name": "R",
   "language": "R",
   "name": "ir"
  },
  "language_info": {
   "codemirror_mode": "r",
   "file_extension": ".r",
   "mimetype": "text/x-r-source",
   "name": "R",
   "pygments_lexer": "r",
   "version": "3.6.3"
  }
 },
 "nbformat": 4,
 "nbformat_minor": 4
}
