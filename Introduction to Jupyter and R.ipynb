{
 "cells": [
  {
   "cell_type": "markdown",
   "metadata": {
    "deletable": false,
    "editable": false,
    "nbgrader": {
     "cell_type": "markdown",
     "checksum": "3a020d48e6b199ee5b99c2fdf21211f4",
     "grade": false,
     "grade_id": "cell-1974ed458c9f30c8",
     "locked": true,
     "schema_version": 3,
     "solution": false,
     "task": false
    }
   },
   "source": [
    "# Introduction to R/Jupyter\n",
    "\n",
    " This is a Jupyter Notebook. A Jupyter Notebook is an [\"open-source web application that allows you to create and share documents that contain live code, equations, visualizations and narrative text.\"](http://jupyter.org) We will use the R programming languge and LaTex typsetting in Jupyter to prepare assignments and projects (you can also use other languages in Jupyter). The purpose of this note book is to familiarize yourself with programming in R.\n",
    "\n",
    "R is a powerful open source programming language that is used for statistical computation and graphics. In many ways, it is similar to Matlab and Python (so, if you know these languages, learning R will be fairly easy!). \n",
    "\n",
    "The best way to learn R and Jupyter is to jump right in! Below we walk through how to use Jupyter and R. **Text in boldface indicates exercises that I am asking you to complete.**\n"
   ]
  },
  {
   "cell_type": "code",
   "execution_count": null,
   "metadata": {
    "deletable": false,
    "editable": false,
    "nbgrader": {
     "cell_type": "code",
     "checksum": "ea47eda0558e21cbfde96c4d7e0f2767",
     "grade": false,
     "grade_id": "cell-b5f07b1cb0c38a80",
     "locked": true,
     "schema_version": 3,
     "solution": false,
     "task": false
    }
   },
   "outputs": [],
   "source": [
    "#This package will be used to autograde some of your answers\n",
    "library(testthat)"
   ]
  },
  {
   "cell_type": "markdown",
   "metadata": {
    "deletable": false,
    "editable": false,
    "nbgrader": {
     "cell_type": "markdown",
     "checksum": "22c8a919115a23a99b0fba2f14f13516",
     "grade": false,
     "grade_id": "cell-f57e780a9c2875b3",
     "locked": true,
     "schema_version": 3,
     "solution": false,
     "task": false
    }
   },
   "source": [
    "## Part I: Basics\n",
    "\n",
    "Jupyter has different types of cells. This cell is a \"markdown\" cell, and is used to write equations (LaTeX) and text. The other type of cell that we will use is a \"code\" cell. This is where we will program using R. You can create a new cell from the plus sign above (delete using the scissor) and select the type of cell using the drop down menu above and to the right. \n",
    "\n",
    "Note:\n",
    "\n",
    "1. In autograded assignments, don't add or delete cells. This will impact the autograder.\n",
    "2. Here's a [LaTeX cheatsheet](http://wch.github.io/latexsheet/).\n",
    "\n",
    "#### Double click on the \"Type Markdown and LaTex: $a^2$\" and type your favorite equation (come on, you know you have one...)."
   ]
  },
  {
   "cell_type": "markdown",
   "metadata": {
    "deletable": false,
    "nbgrader": {
     "cell_type": "markdown",
     "checksum": "75b28ab66c32c01ffe5ace1d1e320108",
     "grade": true,
     "grade_id": "cell-91fd505c3c55eb54",
     "locked": false,
     "points": 0,
     "schema_version": 3,
     "solution": true,
     "task": false
    }
   },
   "source": [
    "\n",
    "Euler's identity:  \n",
    "$$ e^{i\\pi} + 1 = 0 $$\n"
   ]
  },
  {
   "cell_type": "markdown",
   "metadata": {},
   "source": [
    "**Quadratic Formula**\n",
    "\n",
    "$$ x = \\frac{-b \\pm \\sqrt{b^2 - 4ac}}{2a} $$\n"
   ]
  },
  {
   "cell_type": "code",
   "execution_count": null,
   "metadata": {},
   "outputs": [],
   "source": [
    "Maxwell's Equations (describing electromagnetism):"
   ]
  },
  {
   "cell_type": "markdown",
   "metadata": {},
   "source": [
    "$$\n",
    "\\begin{aligned}\n",
    "\\nabla \\cdot \\mathbf{E} &= \\frac{\\rho}{\\varepsilon_0} \\quad &\\text{(Gauss's Law)} \\\\\n",
    "\\nabla \\cdot \\mathbf{B} &= 0 \\quad &\\text{(No magnetic monopoles)} \\\\\n",
    "\\nabla \\times \\mathbf{E} &= -\\frac{\\partial \\mathbf{B}}{\\partial t} \\quad &\\text{(Faraday's Law)} \\\\\n",
    "\\nabla \\times \\mathbf{B} &= \\mu_0 \\mathbf{J} + \\mu_0 \\varepsilon_0 \\frac{\\partial \\mathbf{E}}{\\partial t} \\quad &\\text{(Ampère's Law)}\n",
    "\\end{aligned}\n",
    "$$\n"
   ]
  },
  {
   "cell_type": "code",
   "execution_count": null,
   "metadata": {},
   "outputs": [],
   "source": [
    "The Schrödinger Equation (for quantum mechanics enthusiasts):"
   ]
  },
  {
   "cell_type": "markdown",
   "metadata": {},
   "source": [
    "$$\n",
    "i\\hbar \\frac{\\partial}{\\partial t} \\Psi(\\mathbf{r}, t) = \\left( -\\frac{\\hbar^2}{2m} \\nabla^2 + V(\\mathbf{r}, t) \\right) \\Psi(\\mathbf{r}, t)\n",
    "$$\n"
   ]
  },
  {
   "cell_type": "markdown",
   "metadata": {
    "deletable": false,
    "nbgrader": {
     "cell_type": "markdown",
     "checksum": "96fdd12060444bb767b7823782ad2923",
     "grade": false,
     "grade_id": "cell-585024722e94eee3",
     "locked": true,
     "schema_version": 3,
     "solution": false,
     "task": false
    }
   },
   "source": [
    "In R/code cells, you can do (almost) anything that you can do in R, from basic computations to complex statistical modeling. \n",
    "\n",
    "#### Create an R code cell below this cell. Compute the natural log of e. You may have guessed that the right functions for this are `log()` and `exp()`. But with R, you don't have to guess. You can type `? log` to get some general information about functions related to logarithms (the same applies to other concepts); if you type \"? X\" you will get information about the specific function X (e.g., try `? exp`). Often, a Google search is a really effective way to learn about R functions."
   ]
  },
  {
   "cell_type": "code",
   "execution_count": 4,
   "metadata": {
    "deletable": false,
    "nbgrader": {
     "cell_type": "code",
     "checksum": "b4744a34229249a31596192b94d4a6a1",
     "grade": true,
     "grade_id": "cell-0f095b08ef5c4662",
     "locked": false,
     "points": 0,
     "schema_version": 3,
     "solution": true,
     "task": false
    }
   },
   "outputs": [
    {
     "data": {
      "text/html": [
       "1"
      ],
      "text/latex": [
       "1"
      ],
      "text/markdown": [
       "1"
      ],
      "text/plain": [
       "[1] 1"
      ]
     },
     "metadata": {},
     "output_type": "display_data"
    }
   ],
   "source": [
    "log(exp(1))\n"
   ]
  },
  {
   "cell_type": "markdown",
   "metadata": {
    "deletable": false,
    "editable": false,
    "nbgrader": {
     "cell_type": "markdown",
     "checksum": "87dd0ec6f1a2a97958bea4a8f1f2b1bb",
     "grade": false,
     "grade_id": "cell-0b1500818db058b0",
     "locked": true,
     "schema_version": 3,
     "solution": false,
     "task": false
    }
   },
   "source": [
    "The function `c()` will allow you to create vectors (\"c\" for combine). \n",
    "\n",
    "#### In the cell below, create three vectors:\n",
    "\n",
    "1. a vector containing the numbers 1, 2, 5.3, 6, -2, 4;\n",
    "2. a vector containing the strings \"one\", \"two, and \"three\" (strings are formed in R by putting quotes around the words);\n",
    "3. a vector of logicals: `TRUE`, `TRUE`, `FALSE`, `TRUE`."
   ]
  },
  {
   "cell_type": "code",
   "execution_count": 8,
   "metadata": {
    "deletable": false,
    "nbgrader": {
     "cell_type": "code",
     "checksum": "b357085b2a19dac77026977307220053",
     "grade": true,
     "grade_id": "cell-01d39d3c98243ae2",
     "locked": false,
     "points": 0,
     "schema_version": 3,
     "solution": true,
     "task": false
    }
   },
   "outputs": [],
   "source": [
    "num_vector <- c(1, 2, 5.3, 6, -2, 4)\n",
    "str_vector <- c(\"one\", \"two\", \"three\")\n",
    "log_vector <- c(TRUE, TRUE, FALSE, TRUE)"
   ]
  },
  {
   "cell_type": "markdown",
   "metadata": {
    "deletable": false,
    "editable": false,
    "nbgrader": {
     "cell_type": "markdown",
     "checksum": "a0c4e1439601150f49d4ad5673246fe3",
     "grade": false,
     "grade_id": "cell-e64757656325b475",
     "locked": true,
     "schema_version": 3,
     "solution": false,
     "task": false
    }
   },
   "source": [
    "#### Next, type `seq(1,10)` in the R cell below. What does it do? What about `seq(1, 20, by = 2)`? `seq(10, 20, len = 100)`? Why are these convenient?"
   ]
  },
  {
   "cell_type": "code",
   "execution_count": 7,
   "metadata": {
    "deletable": false,
    "nbgrader": {
     "cell_type": "code",
     "checksum": "3764574b8d57eca45ebf5dae60e2f7ab",
     "grade": true,
     "grade_id": "cell-099a17eee4c21017",
     "locked": false,
     "points": 0,
     "schema_version": 3,
     "solution": true,
     "task": false
    }
   },
   "outputs": [
    {
     "data": {
      "text/html": [
       "<style>\n",
       ".list-inline {list-style: none; margin:0; padding: 0}\n",
       ".list-inline>li {display: inline-block}\n",
       ".list-inline>li:not(:last-child)::after {content: \"\\00b7\"; padding: 0 .5ex}\n",
       "</style>\n",
       "<ol class=list-inline><li>1</li><li>2</li><li>3</li><li>4</li><li>5</li><li>6</li><li>7</li><li>8</li><li>9</li><li>10</li></ol>\n"
      ],
      "text/latex": [
       "\\begin{enumerate*}\n",
       "\\item 1\n",
       "\\item 2\n",
       "\\item 3\n",
       "\\item 4\n",
       "\\item 5\n",
       "\\item 6\n",
       "\\item 7\n",
       "\\item 8\n",
       "\\item 9\n",
       "\\item 10\n",
       "\\end{enumerate*}\n"
      ],
      "text/markdown": [
       "1. 1\n",
       "2. 2\n",
       "3. 3\n",
       "4. 4\n",
       "5. 5\n",
       "6. 6\n",
       "7. 7\n",
       "8. 8\n",
       "9. 9\n",
       "10. 10\n",
       "\n",
       "\n"
      ],
      "text/plain": [
       " [1]  1  2  3  4  5  6  7  8  9 10"
      ]
     },
     "metadata": {},
     "output_type": "display_data"
    },
    {
     "data": {
      "text/html": [
       "<style>\n",
       ".list-inline {list-style: none; margin:0; padding: 0}\n",
       ".list-inline>li {display: inline-block}\n",
       ".list-inline>li:not(:last-child)::after {content: \"\\00b7\"; padding: 0 .5ex}\n",
       "</style>\n",
       "<ol class=list-inline><li>1</li><li>3</li><li>5</li><li>7</li><li>9</li><li>11</li><li>13</li><li>15</li><li>17</li><li>19</li></ol>\n"
      ],
      "text/latex": [
       "\\begin{enumerate*}\n",
       "\\item 1\n",
       "\\item 3\n",
       "\\item 5\n",
       "\\item 7\n",
       "\\item 9\n",
       "\\item 11\n",
       "\\item 13\n",
       "\\item 15\n",
       "\\item 17\n",
       "\\item 19\n",
       "\\end{enumerate*}\n"
      ],
      "text/markdown": [
       "1. 1\n",
       "2. 3\n",
       "3. 5\n",
       "4. 7\n",
       "5. 9\n",
       "6. 11\n",
       "7. 13\n",
       "8. 15\n",
       "9. 17\n",
       "10. 19\n",
       "\n",
       "\n"
      ],
      "text/plain": [
       " [1]  1  3  5  7  9 11 13 15 17 19"
      ]
     },
     "metadata": {},
     "output_type": "display_data"
    },
    {
     "data": {
      "text/html": [
       "<style>\n",
       ".list-inline {list-style: none; margin:0; padding: 0}\n",
       ".list-inline>li {display: inline-block}\n",
       ".list-inline>li:not(:last-child)::after {content: \"\\00b7\"; padding: 0 .5ex}\n",
       "</style>\n",
       "<ol class=list-inline><li>10</li><li>10.1010101010101</li><li>10.2020202020202</li><li>10.3030303030303</li><li>10.4040404040404</li><li>10.5050505050505</li><li>10.6060606060606</li><li>10.7070707070707</li><li>10.8080808080808</li><li>10.9090909090909</li><li>11.010101010101</li><li>11.1111111111111</li><li>11.2121212121212</li><li>11.3131313131313</li><li>11.4141414141414</li><li>11.5151515151515</li><li>11.6161616161616</li><li>11.7171717171717</li><li>11.8181818181818</li><li>11.9191919191919</li><li>12.020202020202</li><li>12.1212121212121</li><li>12.2222222222222</li><li>12.3232323232323</li><li>12.4242424242424</li><li>12.5252525252525</li><li>12.6262626262626</li><li>12.7272727272727</li><li>12.8282828282828</li><li>12.9292929292929</li><li>13.030303030303</li><li>13.1313131313131</li><li>13.2323232323232</li><li>13.3333333333333</li><li>13.4343434343434</li><li>13.5353535353535</li><li>13.6363636363636</li><li>13.7373737373737</li><li>13.8383838383838</li><li>13.9393939393939</li><li>14.040404040404</li><li>14.1414141414141</li><li>14.2424242424242</li><li>14.3434343434343</li><li>14.4444444444444</li><li>14.5454545454545</li><li>14.6464646464646</li><li>14.7474747474747</li><li>14.8484848484848</li><li>14.9494949494949</li><li>15.0505050505051</li><li>15.1515151515152</li><li>15.2525252525253</li><li>15.3535353535354</li><li>15.4545454545455</li><li>15.5555555555556</li><li>15.6565656565657</li><li>15.7575757575758</li><li>15.8585858585859</li><li>15.959595959596</li><li>16.0606060606061</li><li>16.1616161616162</li><li>16.2626262626263</li><li>16.3636363636364</li><li>16.4646464646465</li><li>16.5656565656566</li><li>16.6666666666667</li><li>16.7676767676768</li><li>16.8686868686869</li><li>16.969696969697</li><li>17.0707070707071</li><li>17.1717171717172</li><li>17.2727272727273</li><li>17.3737373737374</li><li>17.4747474747475</li><li>17.5757575757576</li><li>17.6767676767677</li><li>17.7777777777778</li><li>17.8787878787879</li><li>17.979797979798</li><li>18.0808080808081</li><li>18.1818181818182</li><li>18.2828282828283</li><li>18.3838383838384</li><li>18.4848484848485</li><li>18.5858585858586</li><li>18.6868686868687</li><li>18.7878787878788</li><li>18.8888888888889</li><li>18.989898989899</li><li>19.0909090909091</li><li>19.1919191919192</li><li>19.2929292929293</li><li>19.3939393939394</li><li>19.4949494949495</li><li>19.5959595959596</li><li>19.6969696969697</li><li>19.7979797979798</li><li>19.8989898989899</li><li>20</li></ol>\n"
      ],
      "text/latex": [
       "\\begin{enumerate*}\n",
       "\\item 10\n",
       "\\item 10.1010101010101\n",
       "\\item 10.2020202020202\n",
       "\\item 10.3030303030303\n",
       "\\item 10.4040404040404\n",
       "\\item 10.5050505050505\n",
       "\\item 10.6060606060606\n",
       "\\item 10.7070707070707\n",
       "\\item 10.8080808080808\n",
       "\\item 10.9090909090909\n",
       "\\item 11.010101010101\n",
       "\\item 11.1111111111111\n",
       "\\item 11.2121212121212\n",
       "\\item 11.3131313131313\n",
       "\\item 11.4141414141414\n",
       "\\item 11.5151515151515\n",
       "\\item 11.6161616161616\n",
       "\\item 11.7171717171717\n",
       "\\item 11.8181818181818\n",
       "\\item 11.9191919191919\n",
       "\\item 12.020202020202\n",
       "\\item 12.1212121212121\n",
       "\\item 12.2222222222222\n",
       "\\item 12.3232323232323\n",
       "\\item 12.4242424242424\n",
       "\\item 12.5252525252525\n",
       "\\item 12.6262626262626\n",
       "\\item 12.7272727272727\n",
       "\\item 12.8282828282828\n",
       "\\item 12.9292929292929\n",
       "\\item 13.030303030303\n",
       "\\item 13.1313131313131\n",
       "\\item 13.2323232323232\n",
       "\\item 13.3333333333333\n",
       "\\item 13.4343434343434\n",
       "\\item 13.5353535353535\n",
       "\\item 13.6363636363636\n",
       "\\item 13.7373737373737\n",
       "\\item 13.8383838383838\n",
       "\\item 13.9393939393939\n",
       "\\item 14.040404040404\n",
       "\\item 14.1414141414141\n",
       "\\item 14.2424242424242\n",
       "\\item 14.3434343434343\n",
       "\\item 14.4444444444444\n",
       "\\item 14.5454545454545\n",
       "\\item 14.6464646464646\n",
       "\\item 14.7474747474747\n",
       "\\item 14.8484848484848\n",
       "\\item 14.9494949494949\n",
       "\\item 15.0505050505051\n",
       "\\item 15.1515151515152\n",
       "\\item 15.2525252525253\n",
       "\\item 15.3535353535354\n",
       "\\item 15.4545454545455\n",
       "\\item 15.5555555555556\n",
       "\\item 15.6565656565657\n",
       "\\item 15.7575757575758\n",
       "\\item 15.8585858585859\n",
       "\\item 15.959595959596\n",
       "\\item 16.0606060606061\n",
       "\\item 16.1616161616162\n",
       "\\item 16.2626262626263\n",
       "\\item 16.3636363636364\n",
       "\\item 16.4646464646465\n",
       "\\item 16.5656565656566\n",
       "\\item 16.6666666666667\n",
       "\\item 16.7676767676768\n",
       "\\item 16.8686868686869\n",
       "\\item 16.969696969697\n",
       "\\item 17.0707070707071\n",
       "\\item 17.1717171717172\n",
       "\\item 17.2727272727273\n",
       "\\item 17.3737373737374\n",
       "\\item 17.4747474747475\n",
       "\\item 17.5757575757576\n",
       "\\item 17.6767676767677\n",
       "\\item 17.7777777777778\n",
       "\\item 17.8787878787879\n",
       "\\item 17.979797979798\n",
       "\\item 18.0808080808081\n",
       "\\item 18.1818181818182\n",
       "\\item 18.2828282828283\n",
       "\\item 18.3838383838384\n",
       "\\item 18.4848484848485\n",
       "\\item 18.5858585858586\n",
       "\\item 18.6868686868687\n",
       "\\item 18.7878787878788\n",
       "\\item 18.8888888888889\n",
       "\\item 18.989898989899\n",
       "\\item 19.0909090909091\n",
       "\\item 19.1919191919192\n",
       "\\item 19.2929292929293\n",
       "\\item 19.3939393939394\n",
       "\\item 19.4949494949495\n",
       "\\item 19.5959595959596\n",
       "\\item 19.6969696969697\n",
       "\\item 19.7979797979798\n",
       "\\item 19.8989898989899\n",
       "\\item 20\n",
       "\\end{enumerate*}\n"
      ],
      "text/markdown": [
       "1. 10\n",
       "2. 10.1010101010101\n",
       "3. 10.2020202020202\n",
       "4. 10.3030303030303\n",
       "5. 10.4040404040404\n",
       "6. 10.5050505050505\n",
       "7. 10.6060606060606\n",
       "8. 10.7070707070707\n",
       "9. 10.8080808080808\n",
       "10. 10.9090909090909\n",
       "11. 11.010101010101\n",
       "12. 11.1111111111111\n",
       "13. 11.2121212121212\n",
       "14. 11.3131313131313\n",
       "15. 11.4141414141414\n",
       "16. 11.5151515151515\n",
       "17. 11.6161616161616\n",
       "18. 11.7171717171717\n",
       "19. 11.8181818181818\n",
       "20. 11.9191919191919\n",
       "21. 12.020202020202\n",
       "22. 12.1212121212121\n",
       "23. 12.2222222222222\n",
       "24. 12.3232323232323\n",
       "25. 12.4242424242424\n",
       "26. 12.5252525252525\n",
       "27. 12.6262626262626\n",
       "28. 12.7272727272727\n",
       "29. 12.8282828282828\n",
       "30. 12.9292929292929\n",
       "31. 13.030303030303\n",
       "32. 13.1313131313131\n",
       "33. 13.2323232323232\n",
       "34. 13.3333333333333\n",
       "35. 13.4343434343434\n",
       "36. 13.5353535353535\n",
       "37. 13.6363636363636\n",
       "38. 13.7373737373737\n",
       "39. 13.8383838383838\n",
       "40. 13.9393939393939\n",
       "41. 14.040404040404\n",
       "42. 14.1414141414141\n",
       "43. 14.2424242424242\n",
       "44. 14.3434343434343\n",
       "45. 14.4444444444444\n",
       "46. 14.5454545454545\n",
       "47. 14.6464646464646\n",
       "48. 14.7474747474747\n",
       "49. 14.8484848484848\n",
       "50. 14.9494949494949\n",
       "51. 15.0505050505051\n",
       "52. 15.1515151515152\n",
       "53. 15.2525252525253\n",
       "54. 15.3535353535354\n",
       "55. 15.4545454545455\n",
       "56. 15.5555555555556\n",
       "57. 15.6565656565657\n",
       "58. 15.7575757575758\n",
       "59. 15.8585858585859\n",
       "60. 15.959595959596\n",
       "61. 16.0606060606061\n",
       "62. 16.1616161616162\n",
       "63. 16.2626262626263\n",
       "64. 16.3636363636364\n",
       "65. 16.4646464646465\n",
       "66. 16.5656565656566\n",
       "67. 16.6666666666667\n",
       "68. 16.7676767676768\n",
       "69. 16.8686868686869\n",
       "70. 16.969696969697\n",
       "71. 17.0707070707071\n",
       "72. 17.1717171717172\n",
       "73. 17.2727272727273\n",
       "74. 17.3737373737374\n",
       "75. 17.4747474747475\n",
       "76. 17.5757575757576\n",
       "77. 17.6767676767677\n",
       "78. 17.7777777777778\n",
       "79. 17.8787878787879\n",
       "80. 17.979797979798\n",
       "81. 18.0808080808081\n",
       "82. 18.1818181818182\n",
       "83. 18.2828282828283\n",
       "84. 18.3838383838384\n",
       "85. 18.4848484848485\n",
       "86. 18.5858585858586\n",
       "87. 18.6868686868687\n",
       "88. 18.7878787878788\n",
       "89. 18.8888888888889\n",
       "90. 18.989898989899\n",
       "91. 19.0909090909091\n",
       "92. 19.1919191919192\n",
       "93. 19.2929292929293\n",
       "94. 19.3939393939394\n",
       "95. 19.4949494949495\n",
       "96. 19.5959595959596\n",
       "97. 19.6969696969697\n",
       "98. 19.7979797979798\n",
       "99. 19.8989898989899\n",
       "100. 20\n",
       "\n",
       "\n"
      ],
      "text/plain": [
       "  [1] 10.00000 10.10101 10.20202 10.30303 10.40404 10.50505 10.60606 10.70707\n",
       "  [9] 10.80808 10.90909 11.01010 11.11111 11.21212 11.31313 11.41414 11.51515\n",
       " [17] 11.61616 11.71717 11.81818 11.91919 12.02020 12.12121 12.22222 12.32323\n",
       " [25] 12.42424 12.52525 12.62626 12.72727 12.82828 12.92929 13.03030 13.13131\n",
       " [33] 13.23232 13.33333 13.43434 13.53535 13.63636 13.73737 13.83838 13.93939\n",
       " [41] 14.04040 14.14141 14.24242 14.34343 14.44444 14.54545 14.64646 14.74747\n",
       " [49] 14.84848 14.94949 15.05051 15.15152 15.25253 15.35354 15.45455 15.55556\n",
       " [57] 15.65657 15.75758 15.85859 15.95960 16.06061 16.16162 16.26263 16.36364\n",
       " [65] 16.46465 16.56566 16.66667 16.76768 16.86869 16.96970 17.07071 17.17172\n",
       " [73] 17.27273 17.37374 17.47475 17.57576 17.67677 17.77778 17.87879 17.97980\n",
       " [81] 18.08081 18.18182 18.28283 18.38384 18.48485 18.58586 18.68687 18.78788\n",
       " [89] 18.88889 18.98990 19.09091 19.19192 19.29293 19.39394 19.49495 19.59596\n",
       " [97] 19.69697 19.79798 19.89899 20.00000"
      ]
     },
     "metadata": {},
     "output_type": "display_data"
    }
   ],
   "source": [
    "seq(1,10)\n",
    "seq(1, 20, by = 2)\n",
    "seq(10, 20, len = 100)\n"
   ]
  },
  {
   "cell_type": "markdown",
   "metadata": {
    "deletable": false,
    "editable": false,
    "nbgrader": {
     "cell_type": "markdown",
     "checksum": "84ade334f6efd872fac0710f998a0f24",
     "grade": false,
     "grade_id": "cell-d0f131df5c28546e",
     "locked": true,
     "schema_version": 3,
     "solution": false,
     "task": false
    }
   },
   "source": [
    "#### What does the `rep()` function do? This function can take in several arguments. To see what they are, use the help file! Explore the arguments `times` and `each`. What do they do?"
   ]
  },
  {
   "cell_type": "code",
   "execution_count": 9,
   "metadata": {
    "deletable": false,
    "nbgrader": {
     "cell_type": "code",
     "checksum": "9397372efd241bc8f403344f1d19f4b9",
     "grade": true,
     "grade_id": "cell-2c38a58722e63c68",
     "locked": false,
     "points": 0,
     "schema_version": 3,
     "solution": true,
     "task": false
    }
   },
   "outputs": [
    {
     "data": {
      "text/html": [
       "<style>\n",
       ".list-inline {list-style: none; margin:0; padding: 0}\n",
       ".list-inline>li {display: inline-block}\n",
       ".list-inline>li:not(:last-child)::after {content: \"\\00b7\"; padding: 0 .5ex}\n",
       "</style>\n",
       "<ol class=list-inline><li>1</li><li>2</li><li>3</li><li>1</li><li>2</li><li>3</li><li>1</li><li>2</li><li>3</li></ol>\n"
      ],
      "text/latex": [
       "\\begin{enumerate*}\n",
       "\\item 1\n",
       "\\item 2\n",
       "\\item 3\n",
       "\\item 1\n",
       "\\item 2\n",
       "\\item 3\n",
       "\\item 1\n",
       "\\item 2\n",
       "\\item 3\n",
       "\\end{enumerate*}\n"
      ],
      "text/markdown": [
       "1. 1\n",
       "2. 2\n",
       "3. 3\n",
       "4. 1\n",
       "5. 2\n",
       "6. 3\n",
       "7. 1\n",
       "8. 2\n",
       "9. 3\n",
       "\n",
       "\n"
      ],
      "text/plain": [
       "[1] 1 2 3 1 2 3 1 2 3"
      ]
     },
     "metadata": {},
     "output_type": "display_data"
    },
    {
     "data": {
      "text/html": [
       "<style>\n",
       ".list-inline {list-style: none; margin:0; padding: 0}\n",
       ".list-inline>li {display: inline-block}\n",
       ".list-inline>li:not(:last-child)::after {content: \"\\00b7\"; padding: 0 .5ex}\n",
       "</style>\n",
       "<ol class=list-inline><li>1</li><li>1</li><li>1</li><li>2</li><li>2</li><li>2</li><li>3</li><li>3</li><li>3</li></ol>\n"
      ],
      "text/latex": [
       "\\begin{enumerate*}\n",
       "\\item 1\n",
       "\\item 1\n",
       "\\item 1\n",
       "\\item 2\n",
       "\\item 2\n",
       "\\item 2\n",
       "\\item 3\n",
       "\\item 3\n",
       "\\item 3\n",
       "\\end{enumerate*}\n"
      ],
      "text/markdown": [
       "1. 1\n",
       "2. 1\n",
       "3. 1\n",
       "4. 2\n",
       "5. 2\n",
       "6. 2\n",
       "7. 3\n",
       "8. 3\n",
       "9. 3\n",
       "\n",
       "\n"
      ],
      "text/plain": [
       "[1] 1 1 1 2 2 2 3 3 3"
      ]
     },
     "metadata": {},
     "output_type": "display_data"
    }
   ],
   "source": [
    "rep(1:3, times = 3)\n",
    "rep(1:3, each = 3)\n"
   ]
  },
  {
   "cell_type": "markdown",
   "metadata": {
    "deletable": false,
    "editable": false,
    "nbgrader": {
     "cell_type": "markdown",
     "checksum": "6a19b96be7c8f0dac2fb0bff3da76d88",
     "grade": false,
     "grade_id": "cell-c19db1161fe38f54",
     "locked": true,
     "schema_version": 3,
     "solution": false,
     "task": false
    }
   },
   "source": [
    "You can store vectors in R using ${\\tt =}$ or ${\\tt <-}$. \n",
    "\n",
    "#### Store the numbers 1 through 5 in a vector `v1`. Create another vector, `v2`, and join it together in a new vector, `new`.\n",
    "\n",
    "*Note: This will be an autograded answer. The autograder will check whether you store the correct values in `v1`*."
   ]
  },
  {
   "cell_type": "code",
   "execution_count": 10,
   "metadata": {
    "deletable": false,
    "nbgrader": {
     "cell_type": "code",
     "checksum": "d766df129e87870f551f4d0d11a5fa91",
     "grade": false,
     "grade_id": "cell-12f79b87845bfa3f",
     "locked": false,
     "schema_version": 3,
     "solution": true,
     "task": false
    }
   },
   "outputs": [
    {
     "data": {
      "text/html": [
       "<style>\n",
       ".list-inline {list-style: none; margin:0; padding: 0}\n",
       ".list-inline>li {display: inline-block}\n",
       ".list-inline>li:not(:last-child)::after {content: \"\\00b7\"; padding: 0 .5ex}\n",
       "</style>\n",
       "<ol class=list-inline><li>1</li><li>2</li><li>3</li><li>4</li><li>5</li><li>9</li><li>10</li><li>1</li></ol>\n"
      ],
      "text/latex": [
       "\\begin{enumerate*}\n",
       "\\item 1\n",
       "\\item 2\n",
       "\\item 3\n",
       "\\item 4\n",
       "\\item 5\n",
       "\\item 9\n",
       "\\item 10\n",
       "\\item 1\n",
       "\\end{enumerate*}\n"
      ],
      "text/markdown": [
       "1. 1\n",
       "2. 2\n",
       "3. 3\n",
       "4. 4\n",
       "5. 5\n",
       "6. 9\n",
       "7. 10\n",
       "8. 1\n",
       "\n",
       "\n"
      ],
      "text/plain": [
       "[1]  1  2  3  4  5  9 10  1"
      ]
     },
     "metadata": {},
     "output_type": "display_data"
    },
    {
     "data": {
      "text/html": [
       "<style>\n",
       ".list-inline {list-style: none; margin:0; padding: 0}\n",
       ".list-inline>li {display: inline-block}\n",
       ".list-inline>li:not(:last-child)::after {content: \"\\00b7\"; padding: 0 .5ex}\n",
       "</style>\n",
       "<ol class=list-inline><li>1</li><li>2</li><li>3</li><li>4</li><li>5</li></ol>\n"
      ],
      "text/latex": [
       "\\begin{enumerate*}\n",
       "\\item 1\n",
       "\\item 2\n",
       "\\item 3\n",
       "\\item 4\n",
       "\\item 5\n",
       "\\end{enumerate*}\n"
      ],
      "text/markdown": [
       "1. 1\n",
       "2. 2\n",
       "3. 3\n",
       "4. 4\n",
       "5. 5\n",
       "\n",
       "\n"
      ],
      "text/plain": [
       "[1] 1 2 3 4 5"
      ]
     },
     "metadata": {},
     "output_type": "display_data"
    },
    {
     "data": {
      "text/html": [
       "<style>\n",
       ".list-inline {list-style: none; margin:0; padding: 0}\n",
       ".list-inline>li {display: inline-block}\n",
       ".list-inline>li:not(:last-child)::after {content: \"\\00b7\"; padding: 0 .5ex}\n",
       "</style>\n",
       "<ol class=list-inline><li>1</li><li>2</li><li>3</li><li>4</li><li>5</li><li>9</li><li>10</li><li>1</li></ol>\n"
      ],
      "text/latex": [
       "\\begin{enumerate*}\n",
       "\\item 1\n",
       "\\item 2\n",
       "\\item 3\n",
       "\\item 4\n",
       "\\item 5\n",
       "\\item 9\n",
       "\\item 10\n",
       "\\item 1\n",
       "\\end{enumerate*}\n"
      ],
      "text/markdown": [
       "1. 1\n",
       "2. 2\n",
       "3. 3\n",
       "4. 4\n",
       "5. 5\n",
       "6. 9\n",
       "7. 10\n",
       "8. 1\n",
       "\n",
       "\n"
      ],
      "text/plain": [
       "[1]  1  2  3  4  5  9 10  1"
      ]
     },
     "metadata": {},
     "output_type": "display_data"
    }
   ],
   "source": [
    "#assign 1, 2, 3, 4, 5 to the variable v1\n",
    "v1 <- c(1, 2, 3, 4, 5)\n",
    "v2 <- c(9, 10, 1)\n",
    "new <- c(v1, v2)\n",
    "new\n",
    "\n",
    "#accessing data stored in variable v1\n",
    "v1\n",
    "#create two vectors, then join them together in a new vector\n",
    "v2 = c(9, 10, 1)\n",
    "new = c(v1, v2)\n",
    "new"
   ]
  },
  {
   "cell_type": "code",
   "execution_count": 11,
   "metadata": {
    "deletable": false,
    "editable": false,
    "nbgrader": {
     "cell_type": "code",
     "checksum": "6e129d0848513f3f5716d1d10145abf5",
     "grade": true,
     "grade_id": "cell-1d076232e48b3d64",
     "locked": true,
     "points": 1,
     "schema_version": 3,
     "solution": false,
     "task": false
    }
   },
   "outputs": [],
   "source": [
    "# Test Cell"
   ]
  },
  {
   "cell_type": "markdown",
   "metadata": {
    "deletable": false,
    "editable": false,
    "nbgrader": {
     "cell_type": "markdown",
     "checksum": "bd33e28e63cb45dc26e24f5b1e4e5558",
     "grade": false,
     "grade_id": "cell-7dd455f2c87eb94f",
     "locked": true,
     "schema_version": 3,
     "solution": false,
     "task": false
    }
   },
   "source": [
    "Factors, also known as categorical/qualitative variables, are important in statistics. \"Shoe color\" (Black, Brown, etc.), \"drink size\" (S, M, L) and \"espresso roast\" (Light, Medium, Dark) are examples of factors. Below, in `f1`, create a factor with six groups, labeled 1 through 6 using the `factor()` and `rep()` functions; note that R treats these values as factors; so, for example, you can't multiply `f1` by a number. Try multiplying `f1` by 3..."
   ]
  },
  {
   "cell_type": "code",
   "execution_count": 70,
   "metadata": {
    "deletable": false,
    "nbgrader": {
     "cell_type": "code",
     "checksum": "56941de6d1dfdca62310c185db986c20",
     "grade": false,
     "grade_id": "cell-5df81cab1c31eddd",
     "locked": false,
     "schema_version": 3,
     "solution": true,
     "task": false
    },
    "scrolled": true
   },
   "outputs": [
    {
     "name": "stdout",
     "output_type": "stream",
     "text": [
      "[1] 1 2 3 4 5 6\n",
      "Levels: 1 2 3 4 5 6\n",
      "[1]  3  6  9 12 15 18\n",
      "[1] a    7    blue blue\n",
      "Levels: 7 a blue\n",
      "[1] \"7\"    \"a\"    \"blue\"\n",
      "[1] \"a\"    \"7\"    \"blue\" \"blue\"\n",
      "[1] NA  7 NA NA\n",
      "f2\n",
      "   7    a blue \n",
      "   1    1    2 \n"
     ]
    }
   ],
   "source": [
    "# Create a factor with six groups labeled 1 through 6\n",
    "f1 <- factor(rep(1:6, each = 1))\n",
    "print(f1)\n",
    "\n",
    "# Correct way to perform arithmetic by converting factor to numeric first\n",
    "f1_numeric <- as.numeric(as.character(f1)) * 3\n",
    "print(f1_numeric)\n",
    "\n",
    "# Creating another factor with mixed data types\n",
    "f2 <- factor(c(\"a\", 7, \"blue\", \"blue\"))\n",
    "print(f2)\n",
    "\n",
    "# Check the levels of f2\n",
    "print(levels(f2))\n",
    "\n",
    "# Convert factor f2 to a character vector\n",
    "f2_char <- as.character(f2)\n",
    "print(f2_char)\n",
    "\n",
    "# Attempt to convert f2 to numeric (non-numeric values will become NA)\n",
    "f2_numeric <- suppressWarnings(as.numeric(as.character(f2)))\n",
    "print(f2_numeric)\n",
    "\n",
    "# Count occurrences of each level in f2\n",
    "print(table(f2))\n"
   ]
  },
  {
   "cell_type": "code",
   "execution_count": 71,
   "metadata": {
    "deletable": false,
    "editable": false,
    "nbgrader": {
     "cell_type": "code",
     "checksum": "31ca68570a4dc4c76e3eae6fd598c71c",
     "grade": true,
     "grade_id": "cell-778f6a3767007501",
     "locked": true,
     "points": 1,
     "schema_version": 3,
     "solution": false,
     "task": false
    }
   },
   "outputs": [],
   "source": [
    "# Test Cell"
   ]
  },
  {
   "cell_type": "markdown",
   "metadata": {
    "deletable": false,
    "editable": false,
    "nbgrader": {
     "cell_type": "markdown",
     "checksum": "c05b791e1467d843887d842aa33d61a9",
     "grade": false,
     "grade_id": "cell-a0efddce3ba47f00",
     "locked": true,
     "schema_version": 3,
     "solution": false,
     "task": false
    }
   },
   "source": [
    "#### In the code cell below, I've written several commonly used functions. Explore. Change/add some arguments. See the power of R! \n",
    "\n",
    "Note that the first function creates (pseudo) random numbers from a normal distribution. Don't worry if you don't know what that is yet; we'll learn about it. But R can generate random numbers...that's cool!"
   ]
  },
  {
   "cell_type": "code",
   "execution_count": 72,
   "metadata": {},
   "outputs": [
    {
     "data": {
      "text/html": [
       "50"
      ],
      "text/latex": [
       "50"
      ],
      "text/markdown": [
       "50"
      ],
      "text/plain": [
       "[1] 50"
      ]
     },
     "metadata": {},
     "output_type": "display_data"
    },
    {
     "data": {
      "text/html": [
       "270.72674483997"
      ],
      "text/latex": [
       "270.72674483997"
      ],
      "text/markdown": [
       "270.72674483997"
      ],
      "text/plain": [
       "[1] 270.7267"
      ]
     },
     "metadata": {},
     "output_type": "display_data"
    },
    {
     "data": {
      "text/html": [
       "5.41453489679939"
      ],
      "text/latex": [
       "5.41453489679939"
      ],
      "text/markdown": [
       "5.41453489679939"
      ],
      "text/plain": [
       "[1] 5.414535"
      ]
     },
     "metadata": {},
     "output_type": "display_data"
    },
    {
     "data": {
      "text/html": [
       "0.823466992978204"
      ],
      "text/latex": [
       "0.823466992978204"
      ],
      "text/markdown": [
       "0.823466992978204"
      ],
      "text/plain": [
       "[1] 0.823467"
      ]
     },
     "metadata": {},
     "output_type": "display_data"
    },
    {
     "data": {
      "text/html": [
       "0.907450821244988"
      ],
      "text/latex": [
       "0.907450821244988"
      ],
      "text/markdown": [
       "0.907450821244988"
      ],
      "text/plain": [
       "[1] 0.9074508"
      ]
     },
     "metadata": {},
     "output_type": "display_data"
    },
    {
     "data": {
      "text/html": [
       "5.26143295737012"
      ],
      "text/latex": [
       "5.26143295737012"
      ],
      "text/markdown": [
       "5.26143295737012"
      ],
      "text/plain": [
       "[1] 5.261433"
      ]
     },
     "metadata": {},
     "output_type": "display_data"
    },
    {
     "data": {
      "text/html": [
       "<style>\n",
       ".list-inline {list-style: none; margin:0; padding: 0}\n",
       ".list-inline>li {display: inline-block}\n",
       ".list-inline>li:not(:last-child)::after {content: \"\\00b7\"; padding: 0 .5ex}\n",
       "</style>\n",
       "<ol class=list-inline><li>3.26543862262435</li><li>7.54898892238511</li></ol>\n"
      ],
      "text/latex": [
       "\\begin{enumerate*}\n",
       "\\item 3.26543862262435\n",
       "\\item 7.54898892238511\n",
       "\\end{enumerate*}\n"
      ],
      "text/markdown": [
       "1. 3.26543862262435\n",
       "2. 7.54898892238511\n",
       "\n",
       "\n"
      ],
      "text/plain": [
       "[1] 3.265439 7.548989"
      ]
     },
     "metadata": {},
     "output_type": "display_data"
    },
    {
     "data": {
      "text/html": [
       "<style>\n",
       ".list-inline {list-style: none; margin:0; padding: 0}\n",
       ".list-inline>li {display: inline-block}\n",
       ".list-inline>li:not(:last-child)::after {content: \"\\00b7\"; padding: 0 .5ex}\n",
       "</style>\n",
       "<ol class=list-inline><li>1.26206948921613</li><li>1.9577371774608</li><li>1.89135385673067</li><li>1.57926138335622</li><li>1.67602212478694</li><li>1.65816450156534</li><li>1.3986153492161</li><li>1.63370898743286</li><li>1.59601482747439</li><li>1.50166953487823</li><li>1.82576111758143</li><li>1.81760051381369</li><li>1.63217159612437</li><li>1.4691063422777</li><li>1.80790469633315</li><li>2.02141363672829</li><li>1.58980762139296</li><li>1.62038583976729</li><li>1.87648172580604</li><li>1.60760575251191</li><li>1.5287558681019</li><li>1.71054845293754</li><li>1.63518293027516</li><li>1.7738425754261</li><li>1.68217247454524</li><li>1.63997713560555</li><li>1.44257869368603</li><li>1.18339409447864</li><li>1.64692310512494</li><li>1.75644312520016</li><li>1.69336989259878</li><li>1.88495105422813</li><li>1.69491662563219</li><li>1.6083197611514</li><li>1.64918962480645</li><li>1.79538999527221</li><li>1.82795080897635</li><li>1.63407217959896</li><li>1.55788299447921</li><li>1.65004720491625</li><li>1.77955148879517</li><li>1.78821576110766</li><li>1.61049252610247</li><li>1.94491444383107</li><li>1.6893932038577</li><li>1.84385520568813</li><li>1.66263732690541</li><li>1.84157471058977</li><li>1.87526630067868</li><li>1.27444238872268</li></ol>\n"
      ],
      "text/latex": [
       "\\begin{enumerate*}\n",
       "\\item 1.26206948921613\n",
       "\\item 1.9577371774608\n",
       "\\item 1.89135385673067\n",
       "\\item 1.57926138335622\n",
       "\\item 1.67602212478694\n",
       "\\item 1.65816450156534\n",
       "\\item 1.3986153492161\n",
       "\\item 1.63370898743286\n",
       "\\item 1.59601482747439\n",
       "\\item 1.50166953487823\n",
       "\\item 1.82576111758143\n",
       "\\item 1.81760051381369\n",
       "\\item 1.63217159612437\n",
       "\\item 1.4691063422777\n",
       "\\item 1.80790469633315\n",
       "\\item 2.02141363672829\n",
       "\\item 1.58980762139296\n",
       "\\item 1.62038583976729\n",
       "\\item 1.87648172580604\n",
       "\\item 1.60760575251191\n",
       "\\item 1.5287558681019\n",
       "\\item 1.71054845293754\n",
       "\\item 1.63518293027516\n",
       "\\item 1.7738425754261\n",
       "\\item 1.68217247454524\n",
       "\\item 1.63997713560555\n",
       "\\item 1.44257869368603\n",
       "\\item 1.18339409447864\n",
       "\\item 1.64692310512494\n",
       "\\item 1.75644312520016\n",
       "\\item 1.69336989259878\n",
       "\\item 1.88495105422813\n",
       "\\item 1.69491662563219\n",
       "\\item 1.6083197611514\n",
       "\\item 1.64918962480645\n",
       "\\item 1.79538999527221\n",
       "\\item 1.82795080897635\n",
       "\\item 1.63407217959896\n",
       "\\item 1.55788299447921\n",
       "\\item 1.65004720491625\n",
       "\\item 1.77955148879517\n",
       "\\item 1.78821576110766\n",
       "\\item 1.61049252610247\n",
       "\\item 1.94491444383107\n",
       "\\item 1.6893932038577\n",
       "\\item 1.84385520568813\n",
       "\\item 1.66263732690541\n",
       "\\item 1.84157471058977\n",
       "\\item 1.87526630067868\n",
       "\\item 1.27444238872268\n",
       "\\end{enumerate*}\n"
      ],
      "text/markdown": [
       "1. 1.26206948921613\n",
       "2. 1.9577371774608\n",
       "3. 1.89135385673067\n",
       "4. 1.57926138335622\n",
       "5. 1.67602212478694\n",
       "6. 1.65816450156534\n",
       "7. 1.3986153492161\n",
       "8. 1.63370898743286\n",
       "9. 1.59601482747439\n",
       "10. 1.50166953487823\n",
       "11. 1.82576111758143\n",
       "12. 1.81760051381369\n",
       "13. 1.63217159612437\n",
       "14. 1.4691063422777\n",
       "15. 1.80790469633315\n",
       "16. 2.02141363672829\n",
       "17. 1.58980762139296\n",
       "18. 1.62038583976729\n",
       "19. 1.87648172580604\n",
       "20. 1.60760575251191\n",
       "21. 1.5287558681019\n",
       "22. 1.71054845293754\n",
       "23. 1.63518293027516\n",
       "24. 1.7738425754261\n",
       "25. 1.68217247454524\n",
       "26. 1.63997713560555\n",
       "27. 1.44257869368603\n",
       "28. 1.18339409447864\n",
       "29. 1.64692310512494\n",
       "30. 1.75644312520016\n",
       "31. 1.69336989259878\n",
       "32. 1.88495105422813\n",
       "33. 1.69491662563219\n",
       "34. 1.6083197611514\n",
       "35. 1.64918962480645\n",
       "36. 1.79538999527221\n",
       "37. 1.82795080897635\n",
       "38. 1.63407217959896\n",
       "39. 1.55788299447921\n",
       "40. 1.65004720491625\n",
       "41. 1.77955148879517\n",
       "42. 1.78821576110766\n",
       "43. 1.61049252610247\n",
       "44. 1.94491444383107\n",
       "45. 1.6893932038577\n",
       "46. 1.84385520568813\n",
       "47. 1.66263732690541\n",
       "48. 1.84157471058977\n",
       "49. 1.87526630067868\n",
       "50. 1.27444238872268\n",
       "\n",
       "\n"
      ],
      "text/plain": [
       " [1] 1.262069 1.957737 1.891354 1.579261 1.676022 1.658165 1.398615 1.633709\n",
       " [9] 1.596015 1.501670 1.825761 1.817601 1.632172 1.469106 1.807905 2.021414\n",
       "[17] 1.589808 1.620386 1.876482 1.607606 1.528756 1.710548 1.635183 1.773843\n",
       "[25] 1.682172 1.639977 1.442579 1.183394 1.646923 1.756443 1.693370 1.884951\n",
       "[33] 1.694917 1.608320 1.649190 1.795390 1.827951 1.634072 1.557883 1.650047\n",
       "[41] 1.779551 1.788216 1.610493 1.944914 1.689393 1.843855 1.662637 1.841575\n",
       "[49] 1.875266 1.274442"
      ]
     },
     "metadata": {},
     "output_type": "display_data"
    },
    {
     "data": {
      "text/plain": [
       "   Min. 1st Qu.  Median    Mean 3rd Qu.    Max. \n",
       "  3.265   4.992   5.261   5.415   6.079   7.549 "
      ]
     },
     "metadata": {},
     "output_type": "display_data"
    },
    {
     "data": {
      "image/png": "[encoded data removed]",
      "text/plain": [
       "Plot with title “Histogram of x”"
      ]
     },
     "metadata": {
      "image/png": {
       "height": 420,
       "width": 420
      },
      "text/plain": {
       "height": 420,
       "width": 420
      }
     },
     "output_type": "display_data"
    },
    {
     "data": {
      "image/png": "[encoded data removed]",
      "text/plain": [
       "Plot with title “Histogram of x”"
      ]
     },
     "metadata": {
      "image/png": {
       "height": 420,
       "width": 420
      },
      "text/plain": {
       "height": 420,
       "width": 420
      }
     },
     "output_type": "display_data"
    }
   ],
   "source": [
    "x <- rnorm(50, mean=5, sd=1) #generates 50 random numbers from a gaussian with mean 5 and sd 1. Don't worry...you'll know what this means soon!\n",
    "hist(x, density = 20)\n",
    "length(x) #return the length of x\n",
    "sum(x) #sum the numbers in x\n",
    "mean(x) #calculate the mean of the numbers in x\n",
    "var(x) #calculate the variance of the numbers in x\n",
    "sd(x) #calculate the standard deviation of x\n",
    "median(x) #calculate the median of x\n",
    "range(x) #calculate the range of x\n",
    "log(x) #calculate the natural log of x\n",
    "summary(x) #return 5-number summary of x\n",
    "\n",
    "hist(x, density = 20, freq = FALSE) #histogram of those random numbers; freq = FALSE makes x a 'density' (integrates to 1); density shades the boxes\n",
    "curve(dnorm(x,mean = mean(x),sd = sd(x)),from = min(x), to = max(x), add = TRUE) #overlay of normal density"
   ]
  },
  {
   "cell_type": "markdown",
   "metadata": {
    "deletable": false,
    "editable": false,
    "nbgrader": {
     "cell_type": "markdown",
     "checksum": "938c1268b10728bf6656c9c30ca3ce42",
     "grade": false,
     "grade_id": "cell-d05143cf1e54cf41",
     "locked": true,
     "schema_version": 3,
     "solution": false,
     "task": false
    }
   },
   "source": [
    "# Part II: Vector Indexing\n",
    "\n",
    "R (like Matlab and Python) has a nice indexing system. Given a matrix $A$, we can access the $[i,j]$ element of $A$ by writing `A[i,j]`. We can access the $i^{th}$ row by typing `A[i,]`. And, we can access the $j^{th}$ column by typing `A[,j]`. And, we can do even fancier things too...\n",
    "\n",
    "#### Modify the third line of code below to access the second, fourth, and sixth elements of the vector `a`. Take note of whether R starts indexing at 0 or 1!  Also, note that the last line uses the minus sign to access elements *other than* those specified in the index."
   ]
  },
  {
   "cell_type": "code",
   "execution_count": 73,
   "metadata": {},
   "outputs": [
    {
     "data": {
      "text/html": [
       "<style>\n",
       ".list-inline {list-style: none; margin:0; padding: 0}\n",
       ".list-inline>li {display: inline-block}\n",
       ".list-inline>li:not(:last-child)::after {content: \"\\00b7\"; padding: 0 .5ex}\n",
       "</style>\n",
       "<ol class=list-inline><li>2</li><li>4</li><li>6</li><li>8</li><li>10</li><li>12</li><li>14</li><li>16</li></ol>\n"
      ],
      "text/latex": [
       "\\begin{enumerate*}\n",
       "\\item 2\n",
       "\\item 4\n",
       "\\item 6\n",
       "\\item 8\n",
       "\\item 10\n",
       "\\item 12\n",
       "\\item 14\n",
       "\\item 16\n",
       "\\end{enumerate*}\n"
      ],
      "text/markdown": [
       "1. 2\n",
       "2. 4\n",
       "3. 6\n",
       "4. 8\n",
       "5. 10\n",
       "6. 12\n",
       "7. 14\n",
       "8. 16\n",
       "\n",
       "\n"
      ],
      "text/plain": [
       "[1]  2  4  6  8 10 12 14 16"
      ]
     },
     "metadata": {},
     "output_type": "display_data"
    },
    {
     "data": {
      "text/html": [
       "<style>\n",
       ".list-inline {list-style: none; margin:0; padding: 0}\n",
       ".list-inline>li {display: inline-block}\n",
       ".list-inline>li:not(:last-child)::after {content: \"\\00b7\"; padding: 0 .5ex}\n",
       "</style>\n",
       "<ol class=list-inline><li>2</li><li>8</li></ol>\n"
      ],
      "text/latex": [
       "\\begin{enumerate*}\n",
       "\\item 2\n",
       "\\item 8\n",
       "\\end{enumerate*}\n"
      ],
      "text/markdown": [
       "1. 2\n",
       "2. 8\n",
       "\n",
       "\n"
      ],
      "text/plain": [
       "[1] 2 8"
      ]
     },
     "metadata": {},
     "output_type": "display_data"
    },
    {
     "data": {
      "text/html": [
       "<style>\n",
       ".list-inline {list-style: none; margin:0; padding: 0}\n",
       ".list-inline>li {display: inline-block}\n",
       ".list-inline>li:not(:last-child)::after {content: \"\\00b7\"; padding: 0 .5ex}\n",
       "</style>\n",
       "<ol class=list-inline><li>4</li><li>6</li><li>8</li><li>12</li><li>14</li><li>16</li></ol>\n"
      ],
      "text/latex": [
       "\\begin{enumerate*}\n",
       "\\item 4\n",
       "\\item 6\n",
       "\\item 8\n",
       "\\item 12\n",
       "\\item 14\n",
       "\\item 16\n",
       "\\end{enumerate*}\n"
      ],
      "text/markdown": [
       "1. 4\n",
       "2. 6\n",
       "3. 8\n",
       "4. 12\n",
       "5. 14\n",
       "6. 16\n",
       "\n",
       "\n"
      ],
      "text/plain": [
       "[1]  4  6  8 12 14 16"
      ]
     },
     "metadata": {},
     "output_type": "display_data"
    }
   ],
   "source": [
    "a = seq(2, 16, by = 2)\n",
    "a\n",
    "a[c(1, 4)]\n",
    "\n",
    "###\n",
    "a[-c(1,5)]"
   ]
  },
  {
   "cell_type": "markdown",
   "metadata": {
    "deletable": false,
    "editable": false,
    "nbgrader": {
     "cell_type": "markdown",
     "checksum": "2e09b12faeeb44698c5914c8717ffc8c",
     "grade": false,
     "grade_id": "cell-10bddd1785dbae2f",
     "locked": true,
     "schema_version": 3,
     "solution": false,
     "task": false
    }
   },
   "source": [
    "#### Write code that prints the third through sixth elements of `a` and store it in a variable `b` (there's a short and long way)."
   ]
  },
  {
   "cell_type": "code",
   "execution_count": 74,
   "metadata": {
    "deletable": false,
    "nbgrader": {
     "cell_type": "code",
     "checksum": "88632000eafe23455efdc42f81cbfbd0",
     "grade": false,
     "grade_id": "cell-ca2b0c3789a469ff",
     "locked": false,
     "schema_version": 3,
     "solution": true,
     "task": false
    }
   },
   "outputs": [
    {
     "data": {
      "text/html": [
       "<style>\n",
       ".list-inline {list-style: none; margin:0; padding: 0}\n",
       ".list-inline>li {display: inline-block}\n",
       ".list-inline>li:not(:last-child)::after {content: \"\\00b7\"; padding: 0 .5ex}\n",
       "</style>\n",
       "<ol class=list-inline><li>4</li><li>8</li><li>12</li></ol>\n"
      ],
      "text/latex": [
       "\\begin{enumerate*}\n",
       "\\item 4\n",
       "\\item 8\n",
       "\\item 12\n",
       "\\end{enumerate*}\n"
      ],
      "text/markdown": [
       "1. 4\n",
       "2. 8\n",
       "3. 12\n",
       "\n",
       "\n"
      ],
      "text/plain": [
       "[1]  4  8 12"
      ]
     },
     "metadata": {},
     "output_type": "display_data"
    }
   ],
   "source": [
    "a <- seq(2, 16, by = 2)\n",
    "a[c(2, 4, 6)]\n",
    "b <- a[3:6]\n"
   ]
  },
  {
   "cell_type": "code",
   "execution_count": 75,
   "metadata": {
    "deletable": false,
    "editable": false,
    "nbgrader": {
     "cell_type": "code",
     "checksum": "ac0aade7e09c29f1ddaaf5c58fe1c7b6",
     "grade": true,
     "grade_id": "cell-208c44d46b6a9f4a",
     "locked": true,
     "points": 1,
     "schema_version": 3,
     "solution": false,
     "task": false
    }
   },
   "outputs": [],
   "source": [
    "# Test Cell"
   ]
  },
  {
   "cell_type": "markdown",
   "metadata": {
    "deletable": false,
    "editable": false,
    "nbgrader": {
     "cell_type": "markdown",
     "checksum": "c42e4b1aae7859768be3e0cd2ea5b9cd",
     "grade": false,
     "grade_id": "cell-7a5919d10f0ff115",
     "locked": true,
     "schema_version": 3,
     "solution": false,
     "task": false
    }
   },
   "source": [
    "Logical indexing is another powerful tool for working with data in R. \n",
    "\n",
    "#### Let's start with typing things like `a > 10`, `a <= 4`, `a == 10`, and `a != 10`. What do these lines do?"
   ]
  },
  {
   "cell_type": "code",
   "execution_count": 76,
   "metadata": {
    "deletable": false,
    "nbgrader": {
     "cell_type": "code",
     "checksum": "d92d2d4987533b27f3e907557c72e0df",
     "grade": true,
     "grade_id": "cell-82ec56dcfad8858e",
     "locked": false,
     "points": 0,
     "schema_version": 3,
     "solution": true,
     "task": false
    }
   },
   "outputs": [
    {
     "data": {
      "text/html": [
       "<style>\n",
       ".list-inline {list-style: none; margin:0; padding: 0}\n",
       ".list-inline>li {display: inline-block}\n",
       ".list-inline>li:not(:last-child)::after {content: \"\\00b7\"; padding: 0 .5ex}\n",
       "</style>\n",
       "<ol class=list-inline><li>FALSE</li><li>FALSE</li><li>FALSE</li><li>FALSE</li><li>FALSE</li><li>TRUE</li><li>TRUE</li><li>TRUE</li></ol>\n"
      ],
      "text/latex": [
       "\\begin{enumerate*}\n",
       "\\item FALSE\n",
       "\\item FALSE\n",
       "\\item FALSE\n",
       "\\item FALSE\n",
       "\\item FALSE\n",
       "\\item TRUE\n",
       "\\item TRUE\n",
       "\\item TRUE\n",
       "\\end{enumerate*}\n"
      ],
      "text/markdown": [
       "1. FALSE\n",
       "2. FALSE\n",
       "3. FALSE\n",
       "4. FALSE\n",
       "5. FALSE\n",
       "6. TRUE\n",
       "7. TRUE\n",
       "8. TRUE\n",
       "\n",
       "\n"
      ],
      "text/plain": [
       "[1] FALSE FALSE FALSE FALSE FALSE  TRUE  TRUE  TRUE"
      ]
     },
     "metadata": {},
     "output_type": "display_data"
    },
    {
     "data": {
      "text/html": [
       "<style>\n",
       ".list-inline {list-style: none; margin:0; padding: 0}\n",
       ".list-inline>li {display: inline-block}\n",
       ".list-inline>li:not(:last-child)::after {content: \"\\00b7\"; padding: 0 .5ex}\n",
       "</style>\n",
       "<ol class=list-inline><li>TRUE</li><li>TRUE</li><li>FALSE</li><li>FALSE</li><li>FALSE</li><li>FALSE</li><li>FALSE</li><li>FALSE</li></ol>\n"
      ],
      "text/latex": [
       "\\begin{enumerate*}\n",
       "\\item TRUE\n",
       "\\item TRUE\n",
       "\\item FALSE\n",
       "\\item FALSE\n",
       "\\item FALSE\n",
       "\\item FALSE\n",
       "\\item FALSE\n",
       "\\item FALSE\n",
       "\\end{enumerate*}\n"
      ],
      "text/markdown": [
       "1. TRUE\n",
       "2. TRUE\n",
       "3. FALSE\n",
       "4. FALSE\n",
       "5. FALSE\n",
       "6. FALSE\n",
       "7. FALSE\n",
       "8. FALSE\n",
       "\n",
       "\n"
      ],
      "text/plain": [
       "[1]  TRUE  TRUE FALSE FALSE FALSE FALSE FALSE FALSE"
      ]
     },
     "metadata": {},
     "output_type": "display_data"
    },
    {
     "data": {
      "text/html": [
       "<style>\n",
       ".list-inline {list-style: none; margin:0; padding: 0}\n",
       ".list-inline>li {display: inline-block}\n",
       ".list-inline>li:not(:last-child)::after {content: \"\\00b7\"; padding: 0 .5ex}\n",
       "</style>\n",
       "<ol class=list-inline><li>FALSE</li><li>FALSE</li><li>FALSE</li><li>FALSE</li><li>TRUE</li><li>FALSE</li><li>FALSE</li><li>FALSE</li></ol>\n"
      ],
      "text/latex": [
       "\\begin{enumerate*}\n",
       "\\item FALSE\n",
       "\\item FALSE\n",
       "\\item FALSE\n",
       "\\item FALSE\n",
       "\\item TRUE\n",
       "\\item FALSE\n",
       "\\item FALSE\n",
       "\\item FALSE\n",
       "\\end{enumerate*}\n"
      ],
      "text/markdown": [
       "1. FALSE\n",
       "2. FALSE\n",
       "3. FALSE\n",
       "4. FALSE\n",
       "5. TRUE\n",
       "6. FALSE\n",
       "7. FALSE\n",
       "8. FALSE\n",
       "\n",
       "\n"
      ],
      "text/plain": [
       "[1] FALSE FALSE FALSE FALSE  TRUE FALSE FALSE FALSE"
      ]
     },
     "metadata": {},
     "output_type": "display_data"
    },
    {
     "data": {
      "text/html": [
       "<style>\n",
       ".list-inline {list-style: none; margin:0; padding: 0}\n",
       ".list-inline>li {display: inline-block}\n",
       ".list-inline>li:not(:last-child)::after {content: \"\\00b7\"; padding: 0 .5ex}\n",
       "</style>\n",
       "<ol class=list-inline><li>TRUE</li><li>TRUE</li><li>TRUE</li><li>TRUE</li><li>FALSE</li><li>TRUE</li><li>TRUE</li><li>TRUE</li></ol>\n"
      ],
      "text/latex": [
       "\\begin{enumerate*}\n",
       "\\item TRUE\n",
       "\\item TRUE\n",
       "\\item TRUE\n",
       "\\item TRUE\n",
       "\\item FALSE\n",
       "\\item TRUE\n",
       "\\item TRUE\n",
       "\\item TRUE\n",
       "\\end{enumerate*}\n"
      ],
      "text/markdown": [
       "1. TRUE\n",
       "2. TRUE\n",
       "3. TRUE\n",
       "4. TRUE\n",
       "5. FALSE\n",
       "6. TRUE\n",
       "7. TRUE\n",
       "8. TRUE\n",
       "\n",
       "\n"
      ],
      "text/plain": [
       "[1]  TRUE  TRUE  TRUE  TRUE FALSE  TRUE  TRUE  TRUE"
      ]
     },
     "metadata": {},
     "output_type": "display_data"
    }
   ],
   "source": [
    "a > 10\n",
    "a <= 4\n",
    "a == 10\n",
    "a != 10\n"
   ]
  },
  {
   "cell_type": "markdown",
   "metadata": {
    "deletable": false,
    "editable": false,
    "nbgrader": {
     "cell_type": "markdown",
     "checksum": "bc0e00526c44f6f3dfe360a253d389c1",
     "grade": false,
     "grade_id": "cell-0717f5cbae296e02",
     "locked": true,
     "schema_version": 3,
     "solution": false,
     "task": false
    }
   },
   "source": [
    "Now let's look at more complicated logical statements. Note that ${\\tt \\&}$ represents \"and\", and ${\\tt |}$ represents \"or\" in R. \n",
    "\n",
    "#### Write code that prints ${\\tt TRUE}$ for values of $a$ greater than 6 and less than or equal to 10, and ${\\tt FALSE}$ otherwise. Then, write code that prints ${\\tt TRUE}$ for values of $a$  less than or equal to 4 or greater or equal to 12, and ${\\tt FALSE}$ otherwise."
   ]
  },
  {
   "cell_type": "code",
   "execution_count": 77,
   "metadata": {
    "deletable": false,
    "nbgrader": {
     "cell_type": "code",
     "checksum": "15ba72843142cf599c4ee2f373e79955",
     "grade": true,
     "grade_id": "cell-d201b4f9c6c2e47c",
     "locked": false,
     "points": 0,
     "schema_version": 3,
     "solution": true,
     "task": false
    }
   },
   "outputs": [
    {
     "data": {
      "text/html": [
       "<style>\n",
       ".list-inline {list-style: none; margin:0; padding: 0}\n",
       ".list-inline>li {display: inline-block}\n",
       ".list-inline>li:not(:last-child)::after {content: \"\\00b7\"; padding: 0 .5ex}\n",
       "</style>\n",
       "<ol class=list-inline><li>8</li><li>10</li></ol>\n"
      ],
      "text/latex": [
       "\\begin{enumerate*}\n",
       "\\item 8\n",
       "\\item 10\n",
       "\\end{enumerate*}\n"
      ],
      "text/markdown": [
       "1. 8\n",
       "2. 10\n",
       "\n",
       "\n"
      ],
      "text/plain": [
       "[1]  8 10"
      ]
     },
     "metadata": {},
     "output_type": "display_data"
    },
    {
     "data": {
      "text/html": [
       "<style>\n",
       ".list-inline {list-style: none; margin:0; padding: 0}\n",
       ".list-inline>li {display: inline-block}\n",
       ".list-inline>li:not(:last-child)::after {content: \"\\00b7\"; padding: 0 .5ex}\n",
       "</style>\n",
       "<ol class=list-inline><li>2</li><li>4</li><li>12</li><li>14</li><li>16</li></ol>\n"
      ],
      "text/latex": [
       "\\begin{enumerate*}\n",
       "\\item 2\n",
       "\\item 4\n",
       "\\item 12\n",
       "\\item 14\n",
       "\\item 16\n",
       "\\end{enumerate*}\n"
      ],
      "text/markdown": [
       "1. 2\n",
       "2. 4\n",
       "3. 12\n",
       "4. 14\n",
       "5. 16\n",
       "\n",
       "\n"
      ],
      "text/plain": [
       "[1]  2  4 12 14 16"
      ]
     },
     "metadata": {},
     "output_type": "display_data"
    }
   ],
   "source": [
    "a[a > 6 & a <= 10]\n",
    "a[a <= 4 | a >= 12]\n"
   ]
  },
  {
   "cell_type": "markdown",
   "metadata": {
    "deletable": false,
    "editable": false,
    "nbgrader": {
     "cell_type": "markdown",
     "checksum": "86245824b134c3991dfb9acc9afc56d7",
     "grade": false,
     "grade_id": "cell-e00cd77cdad99b3b",
     "locked": true,
     "schema_version": 3,
     "solution": false,
     "task": false
    }
   },
   "source": [
    "The real power of logical indexing comes when we take these vectors of logicals and put them in the index of a vector. The first line below tells R to print all elements of `a` such that `a < 6`.\n",
    "\n",
    "#### Write code to print elements of `a` equal to 10. Then, print elements of `a` less than six or equal to 10."
   ]
  },
  {
   "cell_type": "code",
   "execution_count": 78,
   "metadata": {
    "deletable": false,
    "nbgrader": {
     "cell_type": "code",
     "checksum": "65d3231062361b1b359dbf675aad9ea8",
     "grade": true,
     "grade_id": "cell-ac0010499195bcfa",
     "locked": false,
     "points": 0,
     "schema_version": 3,
     "solution": true,
     "task": false
    }
   },
   "outputs": [
    {
     "data": {
      "text/html": [
       "10"
      ],
      "text/latex": [
       "10"
      ],
      "text/markdown": [
       "10"
      ],
      "text/plain": [
       "[1] 10"
      ]
     },
     "metadata": {},
     "output_type": "display_data"
    },
    {
     "data": {
      "text/html": [
       "<style>\n",
       ".list-inline {list-style: none; margin:0; padding: 0}\n",
       ".list-inline>li {display: inline-block}\n",
       ".list-inline>li:not(:last-child)::after {content: \"\\00b7\"; padding: 0 .5ex}\n",
       "</style>\n",
       "<ol class=list-inline><li>2</li><li>4</li><li>10</li></ol>\n"
      ],
      "text/latex": [
       "\\begin{enumerate*}\n",
       "\\item 2\n",
       "\\item 4\n",
       "\\item 10\n",
       "\\end{enumerate*}\n"
      ],
      "text/markdown": [
       "1. 2\n",
       "2. 4\n",
       "3. 10\n",
       "\n",
       "\n"
      ],
      "text/plain": [
       "[1]  2  4 10"
      ]
     },
     "metadata": {},
     "output_type": "display_data"
    }
   ],
   "source": [
    "a[a == 10]\n",
    "a[a < 6 | a == 10]\n"
   ]
  },
  {
   "cell_type": "markdown",
   "metadata": {
    "deletable": false,
    "editable": false,
    "nbgrader": {
     "cell_type": "markdown",
     "checksum": "d30da62b4cb8cb4d436ee587839895d1",
     "grade": false,
     "grade_id": "cell-6629e8e56c350283",
     "locked": true,
     "schema_version": 3,
     "solution": false,
     "task": false
    }
   },
   "source": [
    "## Part III: Functions, Loops and Beyond!\n",
    "\n",
    "As we've seen, R has many built in functions; but, you can write your own, too! Below is the syntax.\n",
    "\n",
    "#### Write a function that concatenates two vectors."
   ]
  },
  {
   "cell_type": "code",
   "execution_count": 79,
   "metadata": {
    "deletable": false,
    "nbgrader": {
     "cell_type": "code",
     "checksum": "bcaf985ff098c304045d74b8f85a4a47",
     "grade": true,
     "grade_id": "cell-f0099c15888e7efb",
     "locked": false,
     "points": 0,
     "schema_version": 3,
     "solution": true,
     "task": false
    }
   },
   "outputs": [],
   "source": [
    "y = function(input){\n",
    "    #stuff\n",
    "    return(output)\n",
    "}\n",
    "\n",
    "concat_vectors <- function(vec1, vec2) {\n",
    "  return(c(vec1, vec2))\n",
    "}\n"
   ]
  },
  {
   "cell_type": "markdown",
   "metadata": {
    "deletable": false,
    "editable": false,
    "nbgrader": {
     "cell_type": "markdown",
     "checksum": "cafae1af6928b631ac82c59f27d757da",
     "grade": false,
     "grade_id": "cell-8f25eb7bd9eb75dd",
     "locked": true,
     "schema_version": 3,
     "solution": false,
     "task": false
    }
   },
   "source": [
    "The function f1 below produces results like 'T' 'H' 'T' 'T'. We can think of `f1` a function that flips a coin four times. \n",
    "\n",
    "#### Write a function `f2` that can be interpreted as rolling a fair die eight times. How could you modify the code to roll a biased die?\n",
    "\n",
    "#### Notice that every time you run these function, the results are different! Uncomment the line `set.seed(99)` and notice what happens."
   ]
  },
  {
   "cell_type": "code",
   "execution_count": 80,
   "metadata": {},
   "outputs": [
    {
     "data": {
      "text/html": [
       "<style>\n",
       ".list-inline {list-style: none; margin:0; padding: 0}\n",
       ".list-inline>li {display: inline-block}\n",
       ".list-inline>li:not(:last-child)::after {content: \"\\00b7\"; padding: 0 .5ex}\n",
       "</style>\n",
       "<ol class=list-inline><li>'T'</li><li>'H'</li><li>'T'</li><li>'T'</li></ol>\n"
      ],
      "text/latex": [
       "\\begin{enumerate*}\n",
       "\\item 'T'\n",
       "\\item 'H'\n",
       "\\item 'T'\n",
       "\\item 'T'\n",
       "\\end{enumerate*}\n"
      ],
      "text/markdown": [
       "1. 'T'\n",
       "2. 'H'\n",
       "3. 'T'\n",
       "4. 'T'\n",
       "\n",
       "\n"
      ],
      "text/plain": [
       "[1] \"T\" \"H\" \"T\" \"T\""
      ]
     },
     "metadata": {},
     "output_type": "display_data"
    },
    {
     "data": {
      "text/html": [
       "<style>\n",
       ".list-inline {list-style: none; margin:0; padding: 0}\n",
       ".list-inline>li {display: inline-block}\n",
       ".list-inline>li:not(:last-child)::after {content: \"\\00b7\"; padding: 0 .5ex}\n",
       "</style>\n",
       "<ol class=list-inline><li>5</li><li>6</li><li>2</li><li>5</li><li>2</li><li>2</li><li>4</li><li>5</li></ol>\n"
      ],
      "text/latex": [
       "\\begin{enumerate*}\n",
       "\\item 5\n",
       "\\item 6\n",
       "\\item 2\n",
       "\\item 5\n",
       "\\item 2\n",
       "\\item 2\n",
       "\\item 4\n",
       "\\item 5\n",
       "\\end{enumerate*}\n"
      ],
      "text/markdown": [
       "1. 5\n",
       "2. 6\n",
       "3. 2\n",
       "4. 5\n",
       "5. 2\n",
       "6. 2\n",
       "7. 4\n",
       "8. 5\n",
       "\n",
       "\n"
      ],
      "text/plain": [
       "[1] 5 6 2 5 2 2 4 5"
      ]
     },
     "metadata": {},
     "output_type": "display_data"
    }
   ],
   "source": [
    "#set.seed(99)\n",
    "f1 = function(){\n",
    "    s = sample(c(\"H\", \"T\"), size = 4, replace = TRUE)\n",
    "    return(s)\n",
    "}\n",
    "\n",
    "f1()\n",
    "\n",
    "f2 = function(){\n",
    "    s = sample(c(1,2,3,4,5,6), size = 8, replace = TRUE)\n",
    "    return(s)\n",
    "}\n",
    "\n",
    "f2()"
   ]
  },
  {
   "cell_type": "markdown",
   "metadata": {
    "deletable": false,
    "editable": false,
    "nbgrader": {
     "cell_type": "markdown",
     "checksum": "2feda058852116e61fed11c62d27c399",
     "grade": false,
     "grade_id": "cell-4c6457c1505c7089",
     "locked": true,
     "schema_version": 3,
     "solution": false,
     "task": false
    }
   },
   "source": [
    "In R, just like in C++, Matlab, Python, etc., you can write loops to repeat a sequence of instructions until a certain condition is met.  \n",
    "\n",
    "#### Below is the syntax for a loop. Inside the loop, write a line of code that populates the matrix `M` with the numbers 1 through 20."
   ]
  },
  {
   "cell_type": "code",
   "execution_count": 81,
   "metadata": {
    "deletable": false,
    "nbgrader": {
     "cell_type": "code",
     "checksum": "3e0429d9827d16c023ea95698819e4cd",
     "grade": true,
     "grade_id": "cell-86173bd48cc9dffe",
     "locked": false,
     "points": 0,
     "schema_version": 3,
     "solution": true,
     "task": false
    }
   },
   "outputs": [
    {
     "name": "stdout",
     "output_type": "stream",
     "text": [
      "      [,1] [,2]\n",
      " [1,]    1   11\n",
      " [2,]    2   12\n",
      " [3,]    3   13\n",
      " [4,]    4   14\n",
      " [5,]    5   15\n",
      " [6,]    6   16\n",
      " [7,]    7   17\n",
      " [8,]    8   18\n",
      " [9,]    9   19\n",
      "[10,]   10   20\n"
     ]
    }
   ],
   "source": [
    "n <- 20\n",
    "M <- matrix(NA, ncol = 2, nrow = 10)  # Create a 10x2 matrix with NA values\n",
    "\n",
    "for (i in 1:n){\n",
    "    M[i] <- i  # Populate each element of the matrix with values 1 through 20\n",
    "}\n",
    "\n",
    "print(M)\n"
   ]
  },
  {
   "cell_type": "markdown",
   "metadata": {
    "deletable": false,
    "editable": false,
    "nbgrader": {
     "cell_type": "markdown",
     "checksum": "242344a20267a21c100101435d1e6699",
     "grade": false,
     "grade_id": "cell-b03ad0c060f0eac5",
     "locked": true,
     "schema_version": 3,
     "solution": false,
     "task": false
    }
   },
   "source": [
    "#### Now, write a loop to calculate the mean of each column of `M`."
   ]
  },
  {
   "cell_type": "code",
   "execution_count": 82,
   "metadata": {
    "deletable": false,
    "nbgrader": {
     "cell_type": "code",
     "checksum": "d79dc129af0beae27faf01b431ce219e",
     "grade": true,
     "grade_id": "cell-87b55cec8ec1ec0e",
     "locked": false,
     "points": 0,
     "schema_version": 3,
     "solution": true,
     "task": false
    }
   },
   "outputs": [
    {
     "name": "stdout",
     "output_type": "stream",
     "text": [
      "     [,1]\n",
      "[1,]  5.5\n",
      "[2,] 15.5\n"
     ]
    }
   ],
   "source": [
    "# Define the matrix M (Example)\n",
    "M <- matrix(1:20, ncol = 2, nrow = 10)\n",
    "\n",
    "# Create an empty matrix to store column means\n",
    "m <- matrix(NA, nrow = 2, ncol = 1)\n",
    "\n",
    "# Calculate the mean of each column and store in m\n",
    "for (i in 1:2) {\n",
    "    m[i, 1] <- mean(M[, i])  # Calculate mean of each column and store in m\n",
    "}\n",
    "\n",
    "# Print the result\n",
    "print(m)\n"
   ]
  },
  {
   "cell_type": "markdown",
   "metadata": {
    "deletable": false,
    "editable": false,
    "nbgrader": {
     "cell_type": "markdown",
     "checksum": "8992eab41ca4f880904f92feef105edc",
     "grade": false,
     "grade_id": "cell-2c2f0ef6b7e1c1e2",
     "locked": true,
     "schema_version": 3,
     "solution": false,
     "task": false
    }
   },
   "source": [
    "### Here's an incredibly important lesson about R: many tasks that require loops in other languages (e.g., C++) *do not* require loops in R. \n",
    "\n",
    "#### As an example, use the function `colMeans()` to calculate the means of the columns of `M` without a loop. Store these means in a variable `M_means`. Then, look at the help file for `colMeans()` to see related functions."
   ]
  },
  {
   "cell_type": "code",
   "execution_count": 83,
   "metadata": {
    "deletable": false,
    "nbgrader": {
     "cell_type": "code",
     "checksum": "c6a507ac1f05959b364980bb937a8b1d",
     "grade": false,
     "grade_id": "cell-00795123493d9486",
     "locked": false,
     "schema_version": 3,
     "solution": true,
     "task": false
    }
   },
   "outputs": [
    {
     "data": {
      "text/html": [
       "<style>\n",
       ".list-inline {list-style: none; margin:0; padding: 0}\n",
       ".list-inline>li {display: inline-block}\n",
       ".list-inline>li:not(:last-child)::after {content: \"\\00b7\"; padding: 0 .5ex}\n",
       "</style>\n",
       "<ol class=list-inline><li>5.5</li><li>15.5</li></ol>\n"
      ],
      "text/latex": [
       "\\begin{enumerate*}\n",
       "\\item 5.5\n",
       "\\item 15.5\n",
       "\\end{enumerate*}\n"
      ],
      "text/markdown": [
       "1. 5.5\n",
       "2. 15.5\n",
       "\n",
       "\n"
      ],
      "text/plain": [
       "[1]  5.5 15.5"
      ]
     },
     "metadata": {},
     "output_type": "display_data"
    }
   ],
   "source": [
    "colMeans(M)\n"
   ]
  },
  {
   "cell_type": "code",
   "execution_count": 84,
   "metadata": {
    "deletable": false,
    "editable": false,
    "nbgrader": {
     "cell_type": "code",
     "checksum": "01cd507b51d20762c3b8bbd9a9e9fa3c",
     "grade": true,
     "grade_id": "cell-4f1e5d04b5750095",
     "locked": true,
     "points": 2,
     "schema_version": 3,
     "solution": false,
     "task": false
    }
   },
   "outputs": [],
   "source": [
    "# Test Cell"
   ]
  },
  {
   "cell_type": "markdown",
   "metadata": {
    "deletable": false,
    "editable": false,
    "nbgrader": {
     "cell_type": "markdown",
     "checksum": "ff651b78c0e5bd564b90eb844df1a65d",
     "grade": false,
     "grade_id": "cell-ad87e7ccf67a7182",
     "locked": true,
     "schema_version": 3,
     "solution": false,
     "task": false
    }
   },
   "source": [
    "Note that the family of functions that includes `colMeans()` does not include a function to calculate the standard deviation or variance of a column (or row). But we can still do this without loops, using the `apply()` function.\n",
    "\n",
    "**Below, the `apply()` function is set up to calculate the variance of each row of M. Modify the code to calculate the standard deviation of each column of M. Store your answer in `col_sd`.**"
   ]
  },
  {
   "cell_type": "code",
   "execution_count": 85,
   "metadata": {
    "deletable": false,
    "nbgrader": {
     "cell_type": "code",
     "checksum": "c43496f96994a29079a4cadf696f539d",
     "grade": false,
     "grade_id": "cell-7e7671c441c5ff3e",
     "locked": false,
     "schema_version": 3,
     "solution": true,
     "task": false
    }
   },
   "outputs": [
    {
     "data": {
      "text/html": [
       "<style>\n",
       ".list-inline {list-style: none; margin:0; padding: 0}\n",
       ".list-inline>li {display: inline-block}\n",
       ".list-inline>li:not(:last-child)::after {content: \"\\00b7\"; padding: 0 .5ex}\n",
       "</style>\n",
       "<ol class=list-inline><li>50</li><li>50</li><li>50</li><li>50</li><li>50</li><li>50</li><li>50</li><li>50</li><li>50</li><li>50</li></ol>\n"
      ],
      "text/latex": [
       "\\begin{enumerate*}\n",
       "\\item 50\n",
       "\\item 50\n",
       "\\item 50\n",
       "\\item 50\n",
       "\\item 50\n",
       "\\item 50\n",
       "\\item 50\n",
       "\\item 50\n",
       "\\item 50\n",
       "\\item 50\n",
       "\\end{enumerate*}\n"
      ],
      "text/markdown": [
       "1. 50\n",
       "2. 50\n",
       "3. 50\n",
       "4. 50\n",
       "5. 50\n",
       "6. 50\n",
       "7. 50\n",
       "8. 50\n",
       "9. 50\n",
       "10. 50\n",
       "\n",
       "\n"
      ],
      "text/plain": [
       " [1] 50 50 50 50 50 50 50 50 50 50"
      ]
     },
     "metadata": {},
     "output_type": "display_data"
    }
   ],
   "source": [
    "apply(M, 1, var)\n",
    "col_sd <- apply(M, 2, sd)\n"
   ]
  },
  {
   "cell_type": "code",
   "execution_count": 86,
   "metadata": {
    "deletable": false,
    "editable": false,
    "nbgrader": {
     "cell_type": "code",
     "checksum": "934d550c05161dee904e55dd48404067",
     "grade": true,
     "grade_id": "cell-271117207f36b4d5",
     "locked": true,
     "points": 2,
     "schema_version": 3,
     "solution": false,
     "task": false
    }
   },
   "outputs": [],
   "source": [
    "# Test Cell"
   ]
  },
  {
   "cell_type": "markdown",
   "metadata": {
    "deletable": false,
    "editable": false,
    "nbgrader": {
     "cell_type": "markdown",
     "checksum": "661a82100ecf83ec8d7289142a4641dd",
     "grade": false,
     "grade_id": "cell-dc81723526cc4fc7",
     "locked": true,
     "schema_version": 3,
     "solution": false,
     "task": false
    }
   },
   "source": [
    "Recall above that we wrote a function `f1` that flips a coin four times. As odd as it sounds, it will become desirable for us to repeat many times (say, $m$ times) the process of flipping a coin four times. The result might be a matrix with $m$ rows and four columns. \n",
    "\n",
    "#### Write a loop to repeat the process of \"flipping a coin four times\" 10,000 times. The result should be a 10,000 by 4 matrix."
   ]
  },
  {
   "cell_type": "code",
   "execution_count": 87,
   "metadata": {
    "deletable": false,
    "nbgrader": {
     "cell_type": "code",
     "checksum": "6042efc9d30375b43939653772b3d8b0",
     "grade": true,
     "grade_id": "cell-8ed61fc3ca856f3d",
     "locked": false,
     "points": 0,
     "schema_version": 3,
     "solution": true,
     "task": false
    }
   },
   "outputs": [],
   "source": [
    "flips <- replicate(10000, sample(c(\"H\", \"T\"), size = 4, replace = TRUE))\n"
   ]
  },
  {
   "cell_type": "markdown",
   "metadata": {
    "deletable": false,
    "editable": false,
    "nbgrader": {
     "cell_type": "markdown",
     "checksum": "744e6cc01ea5985742734fdbdf6ac080",
     "grade": false,
     "grade_id": "cell-7978152942226a94",
     "locked": true,
     "schema_version": 3,
     "solution": false,
     "task": false
    }
   },
   "source": [
    "But, as master R programmers, we avoid loops whenever possible. One reason why we do this is because loops are slower than the fancy R alternatives. As an alternative to the loop above, let's use the `replicate()` function to repeat the coin flipping process.\n",
    "\n",
    "#### Using the help function as your guide, use `replicate()` to  repeat the process of \"flipping a coin four times\" 10,000 times."
   ]
  },
  {
   "cell_type": "code",
   "execution_count": 88,
   "metadata": {
    "deletable": false,
    "nbgrader": {
     "cell_type": "code",
     "checksum": "5696e9881ddd9824bf7cd540ebe67d72",
     "grade": true,
     "grade_id": "cell-f2bab03be3855c33",
     "locked": false,
     "points": 0,
     "schema_version": 3,
     "solution": true,
     "task": false
    }
   },
   "outputs": [
    {
     "data": {
      "text/html": [
       "<table>\n",
       "<caption>A matrix: 4 × 10000 of type chr</caption>\n",
       "<tbody>\n",
       "\t<tr><td>T</td><td>H</td><td>T</td><td>T</td><td>T</td><td>T</td><td>T</td><td>T</td><td>T</td><td>T</td><td>⋯</td><td>H</td><td>T</td><td>T</td><td>T</td><td>H</td><td>H</td><td>T</td><td>T</td><td>T</td><td>T</td></tr>\n",
       "\t<tr><td>T</td><td>H</td><td>H</td><td>H</td><td>H</td><td>T</td><td>T</td><td>T</td><td>T</td><td>H</td><td>⋯</td><td>T</td><td>T</td><td>T</td><td>H</td><td>T</td><td>T</td><td>T</td><td>H</td><td>T</td><td>H</td></tr>\n",
       "\t<tr><td>T</td><td>T</td><td>T</td><td>H</td><td>H</td><td>T</td><td>H</td><td>H</td><td>H</td><td>H</td><td>⋯</td><td>T</td><td>T</td><td>H</td><td>T</td><td>T</td><td>H</td><td>T</td><td>H</td><td>H</td><td>H</td></tr>\n",
       "\t<tr><td>H</td><td>T</td><td>H</td><td>H</td><td>H</td><td>T</td><td>T</td><td>H</td><td>H</td><td>T</td><td>⋯</td><td>T</td><td>T</td><td>T</td><td>T</td><td>T</td><td>T</td><td>T</td><td>H</td><td>H</td><td>H</td></tr>\n",
       "</tbody>\n",
       "</table>\n"
      ],
      "text/latex": [
       "A matrix: 4 × 10000 of type chr\n",
       "\\begin{tabular}{lllllllllllllllllllll}\n",
       "\t T & H & T & T & T & T & T & T & T & T & ⋯ & H & T & T & T & H & H & T & T & T & T\\\\\n",
       "\t T & H & H & H & H & T & T & T & T & H & ⋯ & T & T & T & H & T & T & T & H & T & H\\\\\n",
       "\t T & T & T & H & H & T & H & H & H & H & ⋯ & T & T & H & T & T & H & T & H & H & H\\\\\n",
       "\t H & T & H & H & H & T & T & H & H & T & ⋯ & T & T & T & T & T & T & T & H & H & H\\\\\n",
       "\\end{tabular}\n"
      ],
      "text/markdown": [
       "\n",
       "A matrix: 4 × 10000 of type chr\n",
       "\n",
       "| T | H | T | T | T | T | T | T | T | T | ⋯ | H | T | T | T | H | H | T | T | T | T |\n",
       "| T | H | H | H | H | T | T | T | T | H | ⋯ | T | T | T | H | T | T | T | H | T | H |\n",
       "| T | T | T | H | H | T | H | H | H | H | ⋯ | T | T | H | T | T | H | T | H | H | H |\n",
       "| H | T | H | H | H | T | T | H | H | T | ⋯ | T | T | T | T | T | T | T | H | H | H |\n",
       "\n"
      ],
      "text/plain": [
       "     [,1] [,2] [,3] [,4] [,5] [,6] [,7] [,8] [,9] [,10] [,11] [,12] [,13] [,14]\n",
       "[1,] T    H    T    T    T    T    T    T    T    T     ⋯     H     T     T    \n",
       "[2,] T    H    H    H    H    T    T    T    T    H     ⋯     T     T     T    \n",
       "[3,] T    T    T    H    H    T    H    H    H    H     ⋯     T     T     H    \n",
       "[4,] H    T    H    H    H    T    T    H    H    T     ⋯     T     T     T    \n",
       "     [,15] [,16] [,17] [,18] [,19] [,20] [,21]\n",
       "[1,] T     H     H     T     T     T     T    \n",
       "[2,] H     T     T     T     H     T     H    \n",
       "[3,] T     T     H     T     H     H     H    \n",
       "[4,] T     T     T     T     H     H     H    "
      ]
     },
     "metadata": {},
     "output_type": "display_data"
    },
    {
     "data": {
      "text/html": [
       "<table>\n",
       "<caption>A data.frame: 6 × 4</caption>\n",
       "<thead>\n",
       "\t<tr><th></th><th scope=col>V1</th><th scope=col>V2</th><th scope=col>V3</th><th scope=col>V4</th></tr>\n",
       "\t<tr><th></th><th scope=col>&lt;fct&gt;</th><th scope=col>&lt;fct&gt;</th><th scope=col>&lt;fct&gt;</th><th scope=col>&lt;fct&gt;</th></tr>\n",
       "</thead>\n",
       "<tbody>\n",
       "\t<tr><th scope=row>1</th><td>T</td><td>T</td><td>T</td><td>H</td></tr>\n",
       "\t<tr><th scope=row>2</th><td>H</td><td>H</td><td>T</td><td>T</td></tr>\n",
       "\t<tr><th scope=row>3</th><td>T</td><td>H</td><td>T</td><td>H</td></tr>\n",
       "\t<tr><th scope=row>4</th><td>T</td><td>H</td><td>H</td><td>H</td></tr>\n",
       "\t<tr><th scope=row>5</th><td>T</td><td>H</td><td>H</td><td>H</td></tr>\n",
       "\t<tr><th scope=row>6</th><td>T</td><td>T</td><td>T</td><td>T</td></tr>\n",
       "</tbody>\n",
       "</table>\n"
      ],
      "text/latex": [
       "A data.frame: 6 × 4\n",
       "\\begin{tabular}{r|llll}\n",
       "  & V1 & V2 & V3 & V4\\\\\n",
       "  & <fct> & <fct> & <fct> & <fct>\\\\\n",
       "\\hline\n",
       "\t1 & T & T & T & H\\\\\n",
       "\t2 & H & H & T & T\\\\\n",
       "\t3 & T & H & T & H\\\\\n",
       "\t4 & T & H & H & H\\\\\n",
       "\t5 & T & H & H & H\\\\\n",
       "\t6 & T & T & T & T\\\\\n",
       "\\end{tabular}\n"
      ],
      "text/markdown": [
       "\n",
       "A data.frame: 6 × 4\n",
       "\n",
       "| <!--/--> | V1 &lt;fct&gt; | V2 &lt;fct&gt; | V3 &lt;fct&gt; | V4 &lt;fct&gt; |\n",
       "|---|---|---|---|---|\n",
       "| 1 | T | T | T | H |\n",
       "| 2 | H | H | T | T |\n",
       "| 3 | T | H | T | H |\n",
       "| 4 | T | H | H | H |\n",
       "| 5 | T | H | H | H |\n",
       "| 6 | T | T | T | T |\n",
       "\n"
      ],
      "text/plain": [
       "  V1 V2 V3 V4\n",
       "1 T  T  T  H \n",
       "2 H  H  T  T \n",
       "3 T  H  T  H \n",
       "4 T  H  H  H \n",
       "5 T  H  H  H \n",
       "6 T  T  T  T "
      ]
     },
     "metadata": {},
     "output_type": "display_data"
    }
   ],
   "source": [
    "# Simulate flipping a coin four times using sample()\n",
    "flip_coin <- function() {\n",
    "  sample(c(\"H\", \"T\"), size = 4, replace = TRUE)\n",
    "}\n",
    "\n",
    "# Use replicate() to repeat the coin-flipping process 10,000 times\n",
    "flips_matrix <- replicate(10000, flip_coin())\n",
    "\n",
    "# Print the first few rows to verify the output\n",
    "head(flips_matrix)\n",
    "\n",
    "# Optional: Convert matrix to a data frame for easier manipulation\n",
    "flips_df <- as.data.frame(t(flips_matrix))\n",
    "head(flips_df)\n"
   ]
  },
  {
   "cell_type": "markdown",
   "metadata": {
    "deletable": false,
    "editable": false,
    "nbgrader": {
     "cell_type": "markdown",
     "checksum": "0cc597edc76d4ec44eb8261a82bb0d60",
     "grade": false,
     "grade_id": "cell-e767f634bceed89d",
     "locked": true,
     "schema_version": 3,
     "solution": false,
     "task": false
    }
   },
   "source": [
    "## Part IV: Working with Data Frames\n",
    "\n",
    "Datasets in R are stored as *data frames*. Data frames are just tables of data (vectors of data of equal length). It will be important for future assignments (and in life!) for you to be able to work with data frames.\n",
    "\n",
    "#### Take the vectors below and store them in a data frame, called `mydataframe`, using the function `data.frame()`."
   ]
  },
  {
   "cell_type": "code",
   "execution_count": 43,
   "metadata": {
    "deletable": false,
    "nbgrader": {
     "cell_type": "code",
     "checksum": "e55d865fb0b9d6353b2393a19e9fd231",
     "grade": false,
     "grade_id": "cell-2e83c5c5da5b8762",
     "locked": false,
     "schema_version": 3,
     "solution": true,
     "task": false
    }
   },
   "outputs": [],
   "source": [
    "d = c(1, 2, 3, 4)\n",
    "e = c(\"red\", \"white\", \"blue\", NA)\n",
    "f = c(TRUE, TRUE, TRUE, FALSE)\n",
    "\n",
    "mydataframe <- data.frame(ID = c(1, 2, 3, 4),\n",
    "                          Color = c(\"red\", \"white\", \"blue\", NA),\n",
    "                          Passed = c(TRUE, TRUE, TRUE, FALSE))\n"
   ]
  },
  {
   "cell_type": "code",
   "execution_count": null,
   "metadata": {
    "deletable": false,
    "editable": false,
    "nbgrader": {
     "cell_type": "code",
     "checksum": "3dd8cd4a037baa28f8f019347c0a770c",
     "grade": true,
     "grade_id": "cell-e80d3dbdead4ab90",
     "locked": true,
     "points": 1,
     "schema_version": 3,
     "solution": false,
     "task": false
    }
   },
   "outputs": [],
   "source": []
  },
  {
   "cell_type": "markdown",
   "metadata": {
    "deletable": false,
    "editable": false,
    "nbgrader": {
     "cell_type": "markdown",
     "checksum": "787d1209862c3c625e0ac6c3f8d554e4",
     "grade": false,
     "grade_id": "cell-6fc6446b84d381c6",
     "locked": true,
     "schema_version": 3,
     "solution": false,
     "task": false
    }
   },
   "source": [
    "Note that the names of the columns aren't informative (they are just the names of the vectors used to create that dataframe). We can change that..."
   ]
  },
  {
   "cell_type": "code",
   "execution_count": null,
   "metadata": {},
   "outputs": [],
   "source": [
    "#rename columns of data frame\n",
    "names(mydataframe) = c(\"ID\", \"Color\", \"Passed\")\n",
    "mydataframe\n",
    "\n",
    "#name columns while creating data frame\n",
    "dataframe2 = data.frame(ID=d, Color=e, Passed=f)\n",
    "dataframe2"
   ]
  },
  {
   "cell_type": "markdown",
   "metadata": {
    "deletable": false,
    "editable": false,
    "nbgrader": {
     "cell_type": "markdown",
     "checksum": "950a22158ce75dbd68fac684c8724086",
     "grade": false,
     "grade_id": "cell-215c5432837ea2b2",
     "locked": true,
     "schema_version": 3,
     "solution": false,
     "task": false
    }
   },
   "source": [
    "There are a few ways that you can access elements of a dataframe. \n",
    "\n",
    "1. You can access columns of a dataframe by typing `mydataframe$NameOfColumn` or by typing `mydataframe[ ,i]` (the latter will print the $i^{th}$ column).\n",
    "\n",
    "2. To access the $i^{th}$ row, type `mydataframe[i, ]`.\n",
    "\n",
    "3. To access the $[i,j]$ element, type `mydataframe[i,j]`. Note that data frames are indexed just like matrices: [row, column].\n",
    "\n",
    "**Print the `Color` column of the dataframe from above in two different ways. Print the second row. Print the element containing \"white\".**"
   ]
  },
  {
   "cell_type": "code",
   "execution_count": 44,
   "metadata": {
    "deletable": false,
    "nbgrader": {
     "cell_type": "code",
     "checksum": "a85406a027efcd82094a1120364dc85a",
     "grade": true,
     "grade_id": "cell-627500e27ac3576e",
     "locked": false,
     "points": 0,
     "schema_version": 3,
     "solution": true,
     "task": false
    }
   },
   "outputs": [
    {
     "data": {
      "text/html": [
       "<style>\n",
       ".list-inline {list-style: none; margin:0; padding: 0}\n",
       ".list-inline>li {display: inline-block}\n",
       ".list-inline>li:not(:last-child)::after {content: \"\\00b7\"; padding: 0 .5ex}\n",
       "</style>\n",
       "<ol class=list-inline><li>red</li><li>white</li><li>blue</li><li>&lt;NA&gt;</li></ol>\n",
       "\n",
       "<details>\n",
       "\t<summary style=display:list-item;cursor:pointer>\n",
       "\t\t<strong>Levels</strong>:\n",
       "\t</summary>\n",
       "\t<style>\n",
       "\t.list-inline {list-style: none; margin:0; padding: 0}\n",
       "\t.list-inline>li {display: inline-block}\n",
       "\t.list-inline>li:not(:last-child)::after {content: \"\\00b7\"; padding: 0 .5ex}\n",
       "\t</style>\n",
       "\t<ol class=list-inline><li>'blue'</li><li>'red'</li><li>'white'</li></ol>\n",
       "</details>"
      ],
      "text/latex": [
       "\\begin{enumerate*}\n",
       "\\item red\n",
       "\\item white\n",
       "\\item blue\n",
       "\\item <NA>\n",
       "\\end{enumerate*}\n",
       "\n",
       "\\emph{Levels}: \\begin{enumerate*}\n",
       "\\item 'blue'\n",
       "\\item 'red'\n",
       "\\item 'white'\n",
       "\\end{enumerate*}\n"
      ],
      "text/markdown": [
       "1. red\n",
       "2. white\n",
       "3. blue\n",
       "4. &lt;NA&gt;\n",
       "\n",
       "\n",
       "\n",
       "**Levels**: 1. 'blue'\n",
       "2. 'red'\n",
       "3. 'white'\n",
       "\n",
       "\n"
      ],
      "text/plain": [
       "[1] red   white blue  <NA> \n",
       "Levels: blue red white"
      ]
     },
     "metadata": {},
     "output_type": "display_data"
    },
    {
     "data": {
      "text/html": [
       "<style>\n",
       ".list-inline {list-style: none; margin:0; padding: 0}\n",
       ".list-inline>li {display: inline-block}\n",
       ".list-inline>li:not(:last-child)::after {content: \"\\00b7\"; padding: 0 .5ex}\n",
       "</style>\n",
       "<ol class=list-inline><li>red</li><li>white</li><li>blue</li><li>&lt;NA&gt;</li></ol>\n",
       "\n",
       "<details>\n",
       "\t<summary style=display:list-item;cursor:pointer>\n",
       "\t\t<strong>Levels</strong>:\n",
       "\t</summary>\n",
       "\t<style>\n",
       "\t.list-inline {list-style: none; margin:0; padding: 0}\n",
       "\t.list-inline>li {display: inline-block}\n",
       "\t.list-inline>li:not(:last-child)::after {content: \"\\00b7\"; padding: 0 .5ex}\n",
       "\t</style>\n",
       "\t<ol class=list-inline><li>'blue'</li><li>'red'</li><li>'white'</li></ol>\n",
       "</details>"
      ],
      "text/latex": [
       "\\begin{enumerate*}\n",
       "\\item red\n",
       "\\item white\n",
       "\\item blue\n",
       "\\item <NA>\n",
       "\\end{enumerate*}\n",
       "\n",
       "\\emph{Levels}: \\begin{enumerate*}\n",
       "\\item 'blue'\n",
       "\\item 'red'\n",
       "\\item 'white'\n",
       "\\end{enumerate*}\n"
      ],
      "text/markdown": [
       "1. red\n",
       "2. white\n",
       "3. blue\n",
       "4. &lt;NA&gt;\n",
       "\n",
       "\n",
       "\n",
       "**Levels**: 1. 'blue'\n",
       "2. 'red'\n",
       "3. 'white'\n",
       "\n",
       "\n"
      ],
      "text/plain": [
       "[1] red   white blue  <NA> \n",
       "Levels: blue red white"
      ]
     },
     "metadata": {},
     "output_type": "display_data"
    },
    {
     "data": {
      "text/html": [
       "<table>\n",
       "<caption>A data.frame: 1 × 3</caption>\n",
       "<thead>\n",
       "\t<tr><th></th><th scope=col>ID</th><th scope=col>Color</th><th scope=col>Passed</th></tr>\n",
       "\t<tr><th></th><th scope=col>&lt;dbl&gt;</th><th scope=col>&lt;fct&gt;</th><th scope=col>&lt;lgl&gt;</th></tr>\n",
       "</thead>\n",
       "<tbody>\n",
       "\t<tr><th scope=row>2</th><td>2</td><td>white</td><td>TRUE</td></tr>\n",
       "</tbody>\n",
       "</table>\n"
      ],
      "text/latex": [
       "A data.frame: 1 × 3\n",
       "\\begin{tabular}{r|lll}\n",
       "  & ID & Color & Passed\\\\\n",
       "  & <dbl> & <fct> & <lgl>\\\\\n",
       "\\hline\n",
       "\t2 & 2 & white & TRUE\\\\\n",
       "\\end{tabular}\n"
      ],
      "text/markdown": [
       "\n",
       "A data.frame: 1 × 3\n",
       "\n",
       "| <!--/--> | ID &lt;dbl&gt; | Color &lt;fct&gt; | Passed &lt;lgl&gt; |\n",
       "|---|---|---|---|\n",
       "| 2 | 2 | white | TRUE |\n",
       "\n"
      ],
      "text/plain": [
       "  ID Color Passed\n",
       "2 2  white TRUE  "
      ]
     },
     "metadata": {},
     "output_type": "display_data"
    },
    {
     "data": {
      "text/html": [
       "<table>\n",
       "<caption>A data.frame: 2 × 3</caption>\n",
       "<thead>\n",
       "\t<tr><th></th><th scope=col>ID</th><th scope=col>Color</th><th scope=col>Passed</th></tr>\n",
       "\t<tr><th></th><th scope=col>&lt;dbl&gt;</th><th scope=col>&lt;fct&gt;</th><th scope=col>&lt;lgl&gt;</th></tr>\n",
       "</thead>\n",
       "<tbody>\n",
       "\t<tr><th scope=row>2</th><td> 2</td><td>white</td><td>TRUE</td></tr>\n",
       "\t<tr><th scope=row>NA</th><td>NA</td><td>NA   </td><td>  NA</td></tr>\n",
       "</tbody>\n",
       "</table>\n"
      ],
      "text/latex": [
       "A data.frame: 2 × 3\n",
       "\\begin{tabular}{r|lll}\n",
       "  & ID & Color & Passed\\\\\n",
       "  & <dbl> & <fct> & <lgl>\\\\\n",
       "\\hline\n",
       "\t2 &  2 & white & TRUE\\\\\n",
       "\tNA & NA & NA    &   NA\\\\\n",
       "\\end{tabular}\n"
      ],
      "text/markdown": [
       "\n",
       "A data.frame: 2 × 3\n",
       "\n",
       "| <!--/--> | ID &lt;dbl&gt; | Color &lt;fct&gt; | Passed &lt;lgl&gt; |\n",
       "|---|---|---|---|\n",
       "| 2 |  2 | white | TRUE |\n",
       "| NA | NA | NA    |   NA |\n",
       "\n"
      ],
      "text/plain": [
       "   ID Color Passed\n",
       "2   2 white TRUE  \n",
       "NA NA NA      NA  "
      ]
     },
     "metadata": {},
     "output_type": "display_data"
    }
   ],
   "source": [
    "mydataframe$Color\n",
    "mydataframe[,2]\n",
    "mydataframe[2, ]\n",
    "mydataframe[mydataframe$Color == \"white\", ]\n"
   ]
  },
  {
   "cell_type": "markdown",
   "metadata": {
    "deletable": false,
    "editable": false,
    "nbgrader": {
     "cell_type": "markdown",
     "checksum": "7259194cf21271790d7f600601039e96",
     "grade": false,
     "grade_id": "cell-321dcf6f17a78835",
     "locked": true,
     "schema_version": 3,
     "solution": false,
     "task": false
    }
   },
   "source": [
    "You can save a dataframe using the function `write.table()`. \n",
    "\n",
    "#### Below, I give code to save `mydataframe` in a location on my computer. Modify the code to save it somewhere on your computer. I would take this time to think about being organized with your files for this course!\n",
    "\n",
    "Notice the `sep` argument is set to ` \"\\t\"`. This saves the file as a tab separated file. Look at the help file to see other options here."
   ]
  },
  {
   "cell_type": "markdown",
   "metadata": {},
   "source": [
    "!!! Note: Coursera won't let us run code that writes/reads data in or out of Coursera. So these writing/reading cells are for your future reference. "
   ]
  },
  {
   "cell_type": "code",
   "execution_count": 45,
   "metadata": {},
   "outputs": [],
   "source": [
    "###Writing data to file\n",
    "#write.table(mydataframe, paste(\"~/Google Drive/University of Colorado/example.txt\", sep = \"\"), sep = \"\\t\")"
   ]
  },
  {
   "cell_type": "markdown",
   "metadata": {
    "deletable": false,
    "editable": false,
    "nbgrader": {
     "cell_type": "markdown",
     "checksum": "e079e2e54cf6bea8b5320b92b1302f73",
     "grade": false,
     "grade_id": "cell-057bd2977900e19a",
     "locked": true,
     "schema_version": 3,
     "solution": false,
     "task": false
    }
   },
   "source": [
    "Now, let's read the file you saved back into R (this is going to be important for homework assignments!). \n",
    "\n",
    "**Modify the code below to read your file back into R. Investigate what the `header` argument is doing!**\n",
    "\n",
    "Note that the `head()` function prints the first few rows of your data frame. This can be helpful when you want to see how your data are organized, but don't want to print the whole thing."
   ]
  },
  {
   "cell_type": "code",
   "execution_count": 46,
   "metadata": {},
   "outputs": [],
   "source": [
    "#data = read.table(paste(\"~/Google Drive/University of Colorado/Boulder\",\n",
    "    #                     \"example.txt\", sep = \"\"), header = TRUE, sep = \"\\t\")\n",
    "#head(data)"
   ]
  },
  {
   "cell_type": "markdown",
   "metadata": {
    "deletable": false,
    "editable": false,
    "nbgrader": {
     "cell_type": "markdown",
     "checksum": "c33e56983f7f7ed69c2d608b0e7f7687",
     "grade": false,
     "grade_id": "cell-f311d3270e565a94",
     "locked": true,
     "schema_version": 3,
     "solution": false,
     "task": false
    }
   },
   "source": [
    "# Part V: Real-World Data Example\n",
    "\n",
    "## Topic #4: t-tests in R\n",
    "\n",
    "\n",
    "Let's explore a [dataset](https://dasl.datadescription.com/datafile/amazon-books/?_sfm_methods=Multiple+Regression&_sfm_cases=4+59943) about book prices from Amazon. The data consists of data on $n = 325$ books and includes measurements of:\n",
    "\n",
    "- `aprice`: The price listed on Amazon (dollars)\n",
    "\n",
    "\n",
    "- `lprice`: The book's list price (dollars)\n",
    "\n",
    "\n",
    "- `weight`: The book's weight (ounces)\n",
    "\n",
    "\n",
    "- `pages`: The number of pages in the book\n",
    "\n",
    "\n",
    "- `height`: The book's height (inches)\n",
    "\n",
    "\n",
    "- `width`: The book's width (inches)\n",
    "\n",
    "\n",
    "- `thick`: The thickness of the book (inches)\n",
    "\n",
    "\n",
    "- `cover`: Whether the book is a hard cover of paperback.\n",
    "\n",
    "\n",
    "- And other variables...\n",
    "\n",
    "First, we'll read this data in from Github..."
   ]
  },
  {
   "cell_type": "code",
   "execution_count": 47,
   "metadata": {},
   "outputs": [
    {
     "data": {
      "text/html": [
       "<style>\n",
       ".list-inline {list-style: none; margin:0; padding: 0}\n",
       ".list-inline>li {display: inline-block}\n",
       ".list-inline>li:not(:last-child)::after {content: \"\\00b7\"; padding: 0 .5ex}\n",
       "</style>\n",
       "<ol class=list-inline><li>'Title'</li><li>'Author'</li><li>'List.Price'</li><li>'Amazon.Price'</li><li>'Hard..Paper'</li><li>'NumPages'</li><li>'Publisher'</li><li>'Pub.year'</li><li>'ISBN.10'</li><li>'Height'</li><li>'Width'</li><li>'Thick'</li><li>'Weight..oz.'</li></ol>\n"
      ],
      "text/latex": [
       "\\begin{enumerate*}\n",
       "\\item 'Title'\n",
       "\\item 'Author'\n",
       "\\item 'List.Price'\n",
       "\\item 'Amazon.Price'\n",
       "\\item 'Hard..Paper'\n",
       "\\item 'NumPages'\n",
       "\\item 'Publisher'\n",
       "\\item 'Pub.year'\n",
       "\\item 'ISBN.10'\n",
       "\\item 'Height'\n",
       "\\item 'Width'\n",
       "\\item 'Thick'\n",
       "\\item 'Weight..oz.'\n",
       "\\end{enumerate*}\n"
      ],
      "text/markdown": [
       "1. 'Title'\n",
       "2. 'Author'\n",
       "3. 'List.Price'\n",
       "4. 'Amazon.Price'\n",
       "5. 'Hard..Paper'\n",
       "6. 'NumPages'\n",
       "7. 'Publisher'\n",
       "8. 'Pub.year'\n",
       "9. 'ISBN.10'\n",
       "10. 'Height'\n",
       "11. 'Width'\n",
       "12. 'Thick'\n",
       "13. 'Weight..oz.'\n",
       "\n",
       "\n"
      ],
      "text/plain": [
       " [1] \"Title\"        \"Author\"       \"List.Price\"   \"Amazon.Price\" \"Hard..Paper\" \n",
       " [6] \"NumPages\"     \"Publisher\"    \"Pub.year\"     \"ISBN.10\"      \"Height\"      \n",
       "[11] \"Width\"        \"Thick\"        \"Weight..oz.\" "
      ]
     },
     "metadata": {},
     "output_type": "display_data"
    }
   ],
   "source": [
    "library(RCurl) #a package that includes the function getURL(), which allows for reading data from github.\n",
    "library(ggplot2) #a package for nice plots!\n",
    "\n",
    "#getURL is a nice way of reading in data from the web\n",
    "url = getURL(paste0(\"https://raw.githubusercontent.com/bzaharatos/\",\n",
    "                    \"-Statistical-Modeling-for-Data-Science-Applications/\",\n",
    "                    \"master/Modern%20Regression%20Analysis%20/Datasets/amazon.txt\"))\n",
    "#stores the data in the dataframe amazon\n",
    "amazon = read.csv(text = url, sep = \"\\t\")\n",
    "\n",
    "#prints the names in the dataframe\n",
    "names(amazon)"
   ]
  },
  {
   "cell_type": "markdown",
   "metadata": {
    "deletable": false,
    "editable": false,
    "nbgrader": {
     "cell_type": "markdown",
     "checksum": "cda684cb34a89e58c5dc0badcbf0ecd3",
     "grade": false,
     "grade_id": "cell-30085bf34985bca5",
     "locked": true,
     "schema_version": 3,
     "solution": false,
     "task": false
    }
   },
   "source": [
    "Next, let's create a new data frame, called `df`, and store a subset of the variables. In addition, we'll change the names of the variables in the dataframe to something cleaner and easier to work with. Take note of how to do this :)"
   ]
  },
  {
   "cell_type": "code",
   "execution_count": 48,
   "metadata": {},
   "outputs": [
    {
     "data": {
      "text/plain": [
       "     aprice           lprice           pages           width      \n",
       " Min.   :  0.77   Min.   :  1.50   Min.   : 24.0   Min.   :4.100  \n",
       " 1st Qu.:  8.60   1st Qu.: 13.95   1st Qu.:208.0   1st Qu.:5.200  \n",
       " Median : 10.20   Median : 15.00   Median :320.0   Median :5.400  \n",
       " Mean   : 13.33   Mean   : 18.58   Mean   :335.9   Mean   :5.585  \n",
       " 3rd Qu.: 13.13   3rd Qu.: 19.95   3rd Qu.:416.0   3rd Qu.:5.900  \n",
       " Max.   :139.95   Max.   :139.95   Max.   :896.0   Max.   :9.500  \n",
       "                  NA's   :1        NA's   :2       NA's   :5      \n",
       "     weight          height           thick        cover  \n",
       " Min.   : 1.20   Min.   : 5.100   Min.   :0.1000   H: 89  \n",
       " 1st Qu.: 7.80   1st Qu.: 7.900   1st Qu.:0.6000   P:236  \n",
       " Median :11.20   Median : 8.100   Median :0.9000          \n",
       " Mean   :12.49   Mean   : 8.163   Mean   :0.9077          \n",
       " 3rd Qu.:16.00   3rd Qu.: 8.500   3rd Qu.:1.1000          \n",
       " Max.   :35.20   Max.   :12.100   Max.   :2.1000          \n",
       " NA's   :9       NA's   :4        NA's   :1               "
      ]
     },
     "metadata": {},
     "output_type": "display_data"
    }
   ],
   "source": [
    "df = data.frame(aprice = amazon$Amazon.Price, lprice = as.numeric(amazon$List.Price),  \n",
    "                pages = amazon$NumPages, width = amazon$Width, weight = amazon$Weight..oz,  \n",
    "                height = amazon$Height, thick = amazon$Thick, cover = amazon$Hard..Paper)\n",
    "\n",
    "summary(df)\n"
   ]
  },
  {
   "cell_type": "markdown",
   "metadata": {
    "deletable": false,
    "editable": false,
    "nbgrader": {
     "cell_type": "markdown",
     "checksum": "8749f89006f7b3ed5e23f64719f23ca1",
     "grade": false,
     "grade_id": "cell-49e2cc4014b2bb7d",
     "locked": true,
     "schema_version": 3,
     "solution": false,
     "task": false
    }
   },
   "source": [
    "From the summary, we can see that there are missing values in the dataset, coded as `NA`. There are many ways to deal with missing data. Suppose that sample unit $i$ has a missing measurement for variable $z_j$. We could:\n",
    "\n",
    "1. Delete sample unit $i$ from the dataset, i.e., delete the entire row. That might be reasonable if there are very view missing values and if we think the values are missing at random.\n",
    "\n",
    "2. Delete the variable $z_j$ from the dataset, i.e., delete the entire column. This might be reasonable if there are many many other missing values for $z_j$ and if we think $z_j$ might not be neccesary for our overall prediction/explanation goals.\n",
    "\n",
    "3.  Impute missing values by substituting each missing value with an estimate.\n",
    "\n",
    "For more information on missing values, see this [resource](https://www.bu.edu/sph/files/2014/05/Marina-tech-report.pdf).\n",
    "\n",
    "Since most of our columns/variables are not missing values, and since these variables will be useful to us in our analysis, option 2 seems unreasonable. Let's first try option 3: impute the missing values of `lprice`, `pages`, `width`, `weight`, `height`, and `thick` with the mean of each. The `which()` and `is.na()` functions might help:"
   ]
  },
  {
   "cell_type": "code",
   "execution_count": 49,
   "metadata": {
    "deletable": false,
    "editable": false,
    "nbgrader": {
     "cell_type": "code",
     "checksum": "6407576a324d7046328ca3793deb1598",
     "grade": false,
     "grade_id": "cell-682d4c0f562df588",
     "locked": true,
     "schema_version": 3,
     "solution": false,
     "task": false
    }
   },
   "outputs": [
    {
     "data": {
      "text/html": [
       "205"
      ],
      "text/latex": [
       "205"
      ],
      "text/markdown": [
       "205"
      ],
      "text/plain": [
       "[1] 205"
      ]
     },
     "metadata": {},
     "output_type": "display_data"
    }
   ],
   "source": [
    "which(is.na(df$lprice))"
   ]
  },
  {
   "cell_type": "code",
   "execution_count": 50,
   "metadata": {
    "deletable": false,
    "nbgrader": {
     "cell_type": "code",
     "checksum": "c043d0dbde4c6451ed6eba2ed142eac4",
     "grade": false,
     "grade_id": "cell-51e343bf94becddd",
     "locked": false,
     "schema_version": 3,
     "solution": true,
     "task": false
    }
   },
   "outputs": [],
   "source": [
    "df$lprice[is.na(df$lprice)] <- mean(df$lprice, na.rm = TRUE)\n",
    "df$pages[is.na(df$pages)] <- mean(df$pages, na.rm = TRUE)\n",
    "df$weight[is.na(df$weight)] <- mean(df$weight, na.rm = TRUE)\n",
    "df$thick[is.na(df$thick)] <- mean(df$thick, na.rm = TRUE)\n"
   ]
  },
  {
   "cell_type": "code",
   "execution_count": null,
   "metadata": {
    "deletable": false,
    "editable": false,
    "nbgrader": {
     "cell_type": "code",
     "checksum": "8f2f74f880c7c6c4950bec19a42eb1f2",
     "grade": true,
     "grade_id": "cell-a95747020e7b897e",
     "locked": true,
     "points": 1,
     "schema_version": 3,
     "solution": false,
     "task": false
    }
   },
   "outputs": [],
   "source": []
  },
  {
   "cell_type": "markdown",
   "metadata": {
    "deletable": false,
    "editable": false,
    "nbgrader": {
     "cell_type": "markdown",
     "checksum": "19975871e9c1938da8183306f2249dbe",
     "grade": false,
     "grade_id": "cell-1e5018df495011b9",
     "locked": true,
     "schema_version": 3,
     "solution": false,
     "task": false
    }
   },
   "source": [
    "#### Use the `summary()` function to print numerical summaries of this dataset. "
   ]
  },
  {
   "cell_type": "code",
   "execution_count": 51,
   "metadata": {
    "deletable": false,
    "nbgrader": {
     "cell_type": "code",
     "checksum": "09e0eaaed77d255bc99c8091646305d0",
     "grade": true,
     "grade_id": "cell-fa0930e7fb0848a7",
     "locked": false,
     "points": 0,
     "schema_version": 3,
     "solution": true,
     "task": false
    }
   },
   "outputs": [
    {
     "data": {
      "text/plain": [
       "     aprice           lprice           pages           width      \n",
       " Min.   :  0.77   Min.   :  1.50   Min.   : 24.0   Min.   :4.100  \n",
       " 1st Qu.:  8.60   1st Qu.: 13.95   1st Qu.:208.0   1st Qu.:5.200  \n",
       " Median : 10.20   Median : 15.00   Median :320.0   Median :5.400  \n",
       " Mean   : 13.33   Mean   : 18.58   Mean   :335.9   Mean   :5.585  \n",
       " 3rd Qu.: 13.13   3rd Qu.: 19.95   3rd Qu.:416.0   3rd Qu.:5.900  \n",
       " Max.   :139.95   Max.   :139.95   Max.   :896.0   Max.   :9.500  \n",
       "                                                   NA's   :5      \n",
       "     weight          height           thick        cover  \n",
       " Min.   : 1.20   Min.   : 5.100   Min.   :0.1000   H: 89  \n",
       " 1st Qu.: 7.80   1st Qu.: 7.900   1st Qu.:0.6000   P:236  \n",
       " Median :11.20   Median : 8.100   Median :0.9000          \n",
       " Mean   :12.49   Mean   : 8.163   Mean   :0.9077          \n",
       " 3rd Qu.:16.00   3rd Qu.: 8.500   3rd Qu.:1.1000          \n",
       " Max.   :35.20   Max.   :12.100   Max.   :2.1000          \n",
       "                 NA's   :4                                "
      ]
     },
     "metadata": {},
     "output_type": "display_data"
    }
   ],
   "source": [
    "summary(df)\n"
   ]
  },
  {
   "cell_type": "markdown",
   "metadata": {
    "deletable": false,
    "editable": false,
    "nbgrader": {
     "cell_type": "markdown",
     "checksum": "53552406d15dd125ea8f726d259c5cb0",
     "grade": false,
     "grade_id": "cell-0ec9894ac6aded1f",
     "locked": true,
     "schema_version": 3,
     "solution": false,
     "task": false
    }
   },
   "source": [
    "#### Use the `sort()` function to order the`lprice` variable from lowest to highest. Remember to use the `df` data frame!"
   ]
  },
  {
   "cell_type": "code",
   "execution_count": 52,
   "metadata": {
    "deletable": false,
    "nbgrader": {
     "cell_type": "code",
     "checksum": "03d2494e9917ae3c7babc94350be38d7",
     "grade": true,
     "grade_id": "cell-dbf19728a4143ca9",
     "locked": false,
     "points": 0,
     "schema_version": 3,
     "solution": true,
     "task": false
    }
   },
   "outputs": [],
   "source": [
    "df$lprice <- sort(df$lprice)\n"
   ]
  },
  {
   "cell_type": "markdown",
   "metadata": {
    "deletable": false,
    "editable": false,
    "nbgrader": {
     "cell_type": "markdown",
     "checksum": "092d6f86104e4510b618b2fd2d8c96e6",
     "grade": false,
     "grade_id": "cell-a04f79d0a3404a7f",
     "locked": true,
     "schema_version": 3,
     "solution": false,
     "task": false
    }
   },
   "source": [
    "#### Code the `cover`  varible as a factor."
   ]
  },
  {
   "cell_type": "code",
   "execution_count": 53,
   "metadata": {
    "deletable": false,
    "nbgrader": {
     "cell_type": "code",
     "checksum": "f438ce15a0157ec258c379e2f15a515e",
     "grade": false,
     "grade_id": "cell-00b558fade12e38d",
     "locked": false,
     "schema_version": 3,
     "solution": true,
     "task": false
    }
   },
   "outputs": [],
   "source": [
    "df$cover <- factor(df$cover)\n",
    "levels(df$cover) <- c(\"Hardcover\", \"Paperback\")\n"
   ]
  },
  {
   "cell_type": "code",
   "execution_count": null,
   "metadata": {
    "deletable": false,
    "editable": false,
    "nbgrader": {
     "cell_type": "code",
     "checksum": "3e52988746aa14b7e953c0f6e3ce43e8",
     "grade": true,
     "grade_id": "cell-d3b231c19c8662f2",
     "locked": true,
     "points": 1,
     "schema_version": 3,
     "solution": false,
     "task": false
    }
   },
   "outputs": [],
   "source": []
  },
  {
   "cell_type": "markdown",
   "metadata": {
    "deletable": false,
    "editable": false,
    "nbgrader": {
     "cell_type": "markdown",
     "checksum": "829463ee6acfb365b883a50836b67879",
     "grade": false,
     "grade_id": "cell-ddabb3f4c0f62f4f",
     "locked": true,
     "schema_version": 3,
     "solution": false,
     "task": false
    }
   },
   "source": [
    "#### Note that you could provide more descriptive labels for the levels of this factor (note that `H` = \"Hardcover\" and `P` = \"Paperback\"). The easiest way do do this is with the `levels()` function: `levels(x) = value`. "
   ]
  },
  {
   "cell_type": "code",
   "execution_count": 54,
   "metadata": {},
   "outputs": [
    {
     "data": {
      "text/plain": [
       "     aprice           lprice           pages           width      \n",
       " Min.   :  0.77   Min.   :  1.50   Min.   : 24.0   Min.   :4.100  \n",
       " 1st Qu.:  8.60   1st Qu.: 13.95   1st Qu.:208.0   1st Qu.:5.200  \n",
       " Median : 10.20   Median : 15.00   Median :320.0   Median :5.400  \n",
       " Mean   : 13.33   Mean   : 18.58   Mean   :335.9   Mean   :5.585  \n",
       " 3rd Qu.: 13.13   3rd Qu.: 19.95   3rd Qu.:416.0   3rd Qu.:5.900  \n",
       " Max.   :139.95   Max.   :139.95   Max.   :896.0   Max.   :9.500  \n",
       "                                                   NA's   :5      \n",
       "     weight          height           thick              cover    \n",
       " Min.   : 1.20   Min.   : 5.100   Min.   :0.1000   Hardcover: 89  \n",
       " 1st Qu.: 7.80   1st Qu.: 7.900   1st Qu.:0.6000   Paperback:236  \n",
       " Median :11.20   Median : 8.100   Median :0.9000                  \n",
       " Mean   :12.49   Mean   : 8.163   Mean   :0.9077                  \n",
       " 3rd Qu.:16.00   3rd Qu.: 8.500   3rd Qu.:1.1000                  \n",
       " Max.   :35.20   Max.   :12.100   Max.   :2.1000                  \n",
       "                 NA's   :4                                        "
      ]
     },
     "metadata": {},
     "output_type": "display_data"
    }
   ],
   "source": [
    "levels(df$cover) = c(\"Hardcover\",\"Paperback\")\n",
    "summary(df)"
   ]
  },
  {
   "cell_type": "markdown",
   "metadata": {
    "deletable": false,
    "editable": false,
    "nbgrader": {
     "cell_type": "markdown",
     "checksum": "9954cd23685f3edef02f03775ad7d905",
     "grade": false,
     "grade_id": "cell-0c5f9ab6045d4f7a",
     "locked": true,
     "schema_version": 3,
     "solution": false,
     "task": false
    }
   },
   "source": [
    "#### Print a histogram of the `pages` variable. Comment on it's shape."
   ]
  },
  {
   "cell_type": "code",
   "execution_count": 55,
   "metadata": {
    "deletable": false,
    "nbgrader": {
     "cell_type": "code",
     "checksum": "e0693cd6ee5681479aea23c140da8d42",
     "grade": true,
     "grade_id": "cell-e985293a62940ef7",
     "locked": false,
     "points": 0,
     "schema_version": 3,
     "solution": true,
     "task": false
    }
   },
   "outputs": [
    {
     "data": {
      "image/png": "[encoded data removed]",
      "text/plain": [
       "Plot with title “Distribution of Pages”"
      ]
     },
     "metadata": {
      "image/png": {
       "height": 420,
       "width": 420
      },
      "text/plain": {
       "height": 420,
       "width": 420
      }
     },
     "output_type": "display_data"
    }
   ],
   "source": [
    "hist(df$pages, main=\"Distribution of Pages\", xlab=\"Number of Pages\")\n"
   ]
  },
  {
   "cell_type": "markdown",
   "metadata": {
    "deletable": false,
    "nbgrader": {
     "cell_type": "markdown",
     "checksum": "cec5b2e8214469dcd2a6efd0f885aeeb",
     "grade": true,
     "grade_id": "cell-c092ae95b3dd2f02",
     "locked": false,
     "points": 0,
     "schema_version": 3,
     "solution": true,
     "task": false
    }
   },
   "source": [
    "Observation: The shape might be right-skewed or normally distributed."
   ]
  },
  {
   "cell_type": "markdown",
   "metadata": {
    "deletable": false,
    "editable": false,
    "nbgrader": {
     "cell_type": "markdown",
     "checksum": "83e0b175247cf3aebaf454a70afd095b",
     "grade": false,
     "grade_id": "cell-bcf9df5a9a9f9f9a",
     "locked": true,
     "schema_version": 3,
     "solution": false,
     "task": false
    }
   },
   "source": [
    "#### Use the `plot()` function to produce a scatterplot of `aprice` ($y$) against `lprice` ($x$). What do you notice about this plot?"
   ]
  },
  {
   "cell_type": "code",
   "execution_count": 56,
   "metadata": {
    "deletable": false,
    "nbgrader": {
     "cell_type": "code",
     "checksum": "7ac9fd587d1b6806fc3619aeb2cdb323",
     "grade": true,
     "grade_id": "cell-10715440cbfc4328",
     "locked": false,
     "points": 0,
     "schema_version": 3,
     "solution": true,
     "task": false
    }
   },
   "outputs": [
    {
     "data": {
      "image/png": "[encoded data removed]",
      "text/plain": [
       "Plot with title “Price Comparison”"
      ]
     },
     "metadata": {
      "image/png": {
       "height": 420,
       "width": 420
      },
      "text/plain": {
       "height": 420,
       "width": 420
      }
     },
     "output_type": "display_data"
    }
   ],
   "source": [
    "plot(df$lprice, df$aprice, xlab=\"List Price\", ylab=\"Amazon Price\", main=\"Price Comparison\")\n"
   ]
  },
  {
   "cell_type": "markdown",
   "metadata": {
    "deletable": false,
    "nbgrader": {
     "cell_type": "markdown",
     "checksum": "df95326a14ad164ee4c6d360b5daea28",
     "grade": true,
     "grade_id": "cell-8a92f7e5688ebef9",
     "locked": false,
     "points": 0,
     "schema_version": 3,
     "solution": true,
     "task": false
    }
   },
   "source": [
    "Observation: There may be a positive correlation."
   ]
  },
  {
   "cell_type": "markdown",
   "metadata": {
    "deletable": false,
    "editable": false,
    "nbgrader": {
     "cell_type": "markdown",
     "checksum": "83a64a7cf668fbcd711cef326e8b8328",
     "grade": false,
     "grade_id": "cell-c5aa494c40ce32a9",
     "locked": true,
     "schema_version": 3,
     "solution": false,
     "task": false
    }
   },
   "source": [
    "#### Use the `boxplot()` function to produce a boxplot of `pages` conditioned on `cover`. Interpret this plot."
   ]
  },
  {
   "cell_type": "code",
   "execution_count": 57,
   "metadata": {
    "deletable": false,
    "nbgrader": {
     "cell_type": "code",
     "checksum": "90a08e652c94a59cd9d37c012dbe9dc0",
     "grade": true,
     "grade_id": "cell-75862cff4a93c8f5",
     "locked": false,
     "points": 0,
     "schema_version": 3,
     "solution": true,
     "task": false
    }
   },
   "outputs": [
    {
     "data": {
      "image/png": "[encoded data removed]",
      "text/plain": [
       "Plot with title “Page Count by Cover Type”"
      ]
     },
     "metadata": {
      "image/png": {
       "height": 420,
       "width": 420
      },
      "text/plain": {
       "height": 420,
       "width": 420
      }
     },
     "output_type": "display_data"
    }
   ],
   "source": [
    "boxplot(df$pages ~ df$cover, xlab=\"Cover Type\", ylab=\"Pages\", main=\"Page Count by Cover Type\")\n"
   ]
  },
  {
   "cell_type": "markdown",
   "metadata": {
    "deletable": false,
    "nbgrader": {
     "cell_type": "markdown",
     "checksum": "5b2d0c134dbbafba3398870f33d00078",
     "grade": true,
     "grade_id": "cell-d3bce347cdf5a62e",
     "locked": false,
     "points": 0,
     "schema_version": 3,
     "solution": true,
     "task": false
    }
   },
   "source": [
    "Observation: Hardcovers might generally have more pages than paperbacks."
   ]
  },
  {
   "cell_type": "markdown",
   "metadata": {
    "deletable": false,
    "editable": false,
    "nbgrader": {
     "cell_type": "markdown",
     "checksum": "631e518743d1cf6fe738b120b011175d",
     "grade": false,
     "grade_id": "cell-6132102c0a984443",
     "locked": true,
     "schema_version": 3,
     "solution": false,
     "task": false
    }
   },
   "source": [
    "Note another way to read data from the web..."
   ]
  },
  {
   "cell_type": "code",
   "execution_count": 58,
   "metadata": {
    "deletable": false,
    "editable": false,
    "nbgrader": {
     "cell_type": "code",
     "checksum": "963a35afad4a5e13c90538507dd9dfa0",
     "grade": false,
     "grade_id": "cell-6982a3c861737ad0",
     "locked": true,
     "schema_version": 3,
     "solution": false,
     "task": false
    }
   },
   "outputs": [
    {
     "data": {
      "text/html": [
       "<table>\n",
       "<caption>A data.frame: 100 × 5</caption>\n",
       "<thead>\n",
       "\t<tr><th scope=col>V1</th><th scope=col>V2</th><th scope=col>V3</th><th scope=col>V4</th><th scope=col>V5</th></tr>\n",
       "\t<tr><th scope=col>&lt;int&gt;</th><th scope=col>&lt;int&gt;</th><th scope=col>&lt;int&gt;</th><th scope=col>&lt;dbl&gt;</th><th scope=col>&lt;int&gt;</th></tr>\n",
       "</thead>\n",
       "<tbody>\n",
       "\t<tr><td> 1</td><td>307</td><td> 930</td><td>36.58</td><td>0</td></tr>\n",
       "\t<tr><td> 2</td><td>307</td><td> 940</td><td>36.73</td><td>0</td></tr>\n",
       "\t<tr><td> 3</td><td>307</td><td> 950</td><td>36.93</td><td>0</td></tr>\n",
       "\t<tr><td> 4</td><td>307</td><td>1000</td><td>37.15</td><td>0</td></tr>\n",
       "\t<tr><td> 5</td><td>307</td><td>1010</td><td>37.23</td><td>0</td></tr>\n",
       "\t<tr><td> 6</td><td>307</td><td>1020</td><td>37.24</td><td>0</td></tr>\n",
       "\t<tr><td> 7</td><td>307</td><td>1030</td><td>37.24</td><td>0</td></tr>\n",
       "\t<tr><td> 8</td><td>307</td><td>1040</td><td>36.90</td><td>0</td></tr>\n",
       "\t<tr><td> 9</td><td>307</td><td>1050</td><td>36.95</td><td>0</td></tr>\n",
       "\t<tr><td>10</td><td>307</td><td>1100</td><td>36.89</td><td>0</td></tr>\n",
       "\t<tr><td>11</td><td>307</td><td>1110</td><td>36.95</td><td>0</td></tr>\n",
       "\t<tr><td>12</td><td>307</td><td>1120</td><td>37.00</td><td>0</td></tr>\n",
       "\t<tr><td>13</td><td>307</td><td>1130</td><td>36.90</td><td>0</td></tr>\n",
       "\t<tr><td>14</td><td>307</td><td>1140</td><td>36.99</td><td>0</td></tr>\n",
       "\t<tr><td>15</td><td>307</td><td>1150</td><td>36.99</td><td>0</td></tr>\n",
       "\t<tr><td>16</td><td>307</td><td>1200</td><td>37.01</td><td>0</td></tr>\n",
       "\t<tr><td>17</td><td>307</td><td>1210</td><td>37.04</td><td>0</td></tr>\n",
       "\t<tr><td>18</td><td>307</td><td>1220</td><td>37.04</td><td>0</td></tr>\n",
       "\t<tr><td>19</td><td>307</td><td>1230</td><td>37.14</td><td>0</td></tr>\n",
       "\t<tr><td>20</td><td>307</td><td>1240</td><td>37.07</td><td>0</td></tr>\n",
       "\t<tr><td>21</td><td>307</td><td>1250</td><td>36.98</td><td>0</td></tr>\n",
       "\t<tr><td>22</td><td>307</td><td>1300</td><td>37.01</td><td>0</td></tr>\n",
       "\t<tr><td>23</td><td>307</td><td>1310</td><td>36.97</td><td>0</td></tr>\n",
       "\t<tr><td>24</td><td>307</td><td>1320</td><td>36.97</td><td>0</td></tr>\n",
       "\t<tr><td>25</td><td>307</td><td>1330</td><td>37.12</td><td>0</td></tr>\n",
       "\t<tr><td>26</td><td>307</td><td>1340</td><td>37.13</td><td>0</td></tr>\n",
       "\t<tr><td>27</td><td>307</td><td>1350</td><td>37.14</td><td>0</td></tr>\n",
       "\t<tr><td>28</td><td>307</td><td>1400</td><td>37.15</td><td>0</td></tr>\n",
       "\t<tr><td>29</td><td>307</td><td>1410</td><td>37.17</td><td>0</td></tr>\n",
       "\t<tr><td>30</td><td>307</td><td>1420</td><td>37.12</td><td>0</td></tr>\n",
       "\t<tr><td>⋮</td><td>⋮</td><td>⋮</td><td>⋮</td><td>⋮</td></tr>\n",
       "\t<tr><td> 71</td><td>307</td><td>2110</td><td>37.95</td><td>1</td></tr>\n",
       "\t<tr><td> 72</td><td>307</td><td>2120</td><td>37.95</td><td>1</td></tr>\n",
       "\t<tr><td> 73</td><td>307</td><td>2130</td><td>37.76</td><td>1</td></tr>\n",
       "\t<tr><td> 74</td><td>307</td><td>2140</td><td>37.60</td><td>1</td></tr>\n",
       "\t<tr><td> 75</td><td>307</td><td>2150</td><td>37.89</td><td>1</td></tr>\n",
       "\t<tr><td> 76</td><td>307</td><td>2200</td><td>37.86</td><td>1</td></tr>\n",
       "\t<tr><td> 77</td><td>307</td><td>2210</td><td>37.71</td><td>1</td></tr>\n",
       "\t<tr><td> 78</td><td>307</td><td>2220</td><td>37.78</td><td>1</td></tr>\n",
       "\t<tr><td> 79</td><td>307</td><td>2230</td><td>37.82</td><td>1</td></tr>\n",
       "\t<tr><td> 80</td><td>307</td><td>2240</td><td>37.76</td><td>1</td></tr>\n",
       "\t<tr><td> 81</td><td>307</td><td>2250</td><td>37.81</td><td>1</td></tr>\n",
       "\t<tr><td> 82</td><td>307</td><td>2300</td><td>37.84</td><td>1</td></tr>\n",
       "\t<tr><td> 83</td><td>307</td><td>2310</td><td>38.01</td><td>1</td></tr>\n",
       "\t<tr><td> 84</td><td>307</td><td>2320</td><td>38.10</td><td>1</td></tr>\n",
       "\t<tr><td> 85</td><td>307</td><td>2330</td><td>38.15</td><td>1</td></tr>\n",
       "\t<tr><td> 86</td><td>307</td><td>2340</td><td>37.92</td><td>1</td></tr>\n",
       "\t<tr><td> 87</td><td>307</td><td>2350</td><td>37.64</td><td>1</td></tr>\n",
       "\t<tr><td> 88</td><td>308</td><td>   0</td><td>37.70</td><td>1</td></tr>\n",
       "\t<tr><td> 89</td><td>308</td><td>  10</td><td>37.46</td><td>1</td></tr>\n",
       "\t<tr><td> 90</td><td>308</td><td>  20</td><td>37.41</td><td>1</td></tr>\n",
       "\t<tr><td> 91</td><td>308</td><td>  30</td><td>37.46</td><td>1</td></tr>\n",
       "\t<tr><td> 92</td><td>308</td><td>  40</td><td>37.56</td><td>1</td></tr>\n",
       "\t<tr><td> 93</td><td>308</td><td>  50</td><td>37.55</td><td>1</td></tr>\n",
       "\t<tr><td> 94</td><td>308</td><td> 100</td><td>37.75</td><td>1</td></tr>\n",
       "\t<tr><td> 95</td><td>308</td><td> 110</td><td>37.76</td><td>1</td></tr>\n",
       "\t<tr><td> 96</td><td>308</td><td> 120</td><td>37.73</td><td>1</td></tr>\n",
       "\t<tr><td> 97</td><td>308</td><td> 130</td><td>37.77</td><td>1</td></tr>\n",
       "\t<tr><td> 98</td><td>308</td><td> 140</td><td>38.01</td><td>1</td></tr>\n",
       "\t<tr><td> 99</td><td>308</td><td> 150</td><td>38.04</td><td>1</td></tr>\n",
       "\t<tr><td>100</td><td>308</td><td> 200</td><td>38.07</td><td>1</td></tr>\n",
       "</tbody>\n",
       "</table>\n"
      ],
      "text/latex": [
       "A data.frame: 100 × 5\n",
       "\\begin{tabular}{lllll}\n",
       " V1 & V2 & V3 & V4 & V5\\\\\n",
       " <int> & <int> & <int> & <dbl> & <int>\\\\\n",
       "\\hline\n",
       "\t  1 & 307 &  930 & 36.58 & 0\\\\\n",
       "\t  2 & 307 &  940 & 36.73 & 0\\\\\n",
       "\t  3 & 307 &  950 & 36.93 & 0\\\\\n",
       "\t  4 & 307 & 1000 & 37.15 & 0\\\\\n",
       "\t  5 & 307 & 1010 & 37.23 & 0\\\\\n",
       "\t  6 & 307 & 1020 & 37.24 & 0\\\\\n",
       "\t  7 & 307 & 1030 & 37.24 & 0\\\\\n",
       "\t  8 & 307 & 1040 & 36.90 & 0\\\\\n",
       "\t  9 & 307 & 1050 & 36.95 & 0\\\\\n",
       "\t 10 & 307 & 1100 & 36.89 & 0\\\\\n",
       "\t 11 & 307 & 1110 & 36.95 & 0\\\\\n",
       "\t 12 & 307 & 1120 & 37.00 & 0\\\\\n",
       "\t 13 & 307 & 1130 & 36.90 & 0\\\\\n",
       "\t 14 & 307 & 1140 & 36.99 & 0\\\\\n",
       "\t 15 & 307 & 1150 & 36.99 & 0\\\\\n",
       "\t 16 & 307 & 1200 & 37.01 & 0\\\\\n",
       "\t 17 & 307 & 1210 & 37.04 & 0\\\\\n",
       "\t 18 & 307 & 1220 & 37.04 & 0\\\\\n",
       "\t 19 & 307 & 1230 & 37.14 & 0\\\\\n",
       "\t 20 & 307 & 1240 & 37.07 & 0\\\\\n",
       "\t 21 & 307 & 1250 & 36.98 & 0\\\\\n",
       "\t 22 & 307 & 1300 & 37.01 & 0\\\\\n",
       "\t 23 & 307 & 1310 & 36.97 & 0\\\\\n",
       "\t 24 & 307 & 1320 & 36.97 & 0\\\\\n",
       "\t 25 & 307 & 1330 & 37.12 & 0\\\\\n",
       "\t 26 & 307 & 1340 & 37.13 & 0\\\\\n",
       "\t 27 & 307 & 1350 & 37.14 & 0\\\\\n",
       "\t 28 & 307 & 1400 & 37.15 & 0\\\\\n",
       "\t 29 & 307 & 1410 & 37.17 & 0\\\\\n",
       "\t 30 & 307 & 1420 & 37.12 & 0\\\\\n",
       "\t ⋮ & ⋮ & ⋮ & ⋮ & ⋮\\\\\n",
       "\t  71 & 307 & 2110 & 37.95 & 1\\\\\n",
       "\t  72 & 307 & 2120 & 37.95 & 1\\\\\n",
       "\t  73 & 307 & 2130 & 37.76 & 1\\\\\n",
       "\t  74 & 307 & 2140 & 37.60 & 1\\\\\n",
       "\t  75 & 307 & 2150 & 37.89 & 1\\\\\n",
       "\t  76 & 307 & 2200 & 37.86 & 1\\\\\n",
       "\t  77 & 307 & 2210 & 37.71 & 1\\\\\n",
       "\t  78 & 307 & 2220 & 37.78 & 1\\\\\n",
       "\t  79 & 307 & 2230 & 37.82 & 1\\\\\n",
       "\t  80 & 307 & 2240 & 37.76 & 1\\\\\n",
       "\t  81 & 307 & 2250 & 37.81 & 1\\\\\n",
       "\t  82 & 307 & 2300 & 37.84 & 1\\\\\n",
       "\t  83 & 307 & 2310 & 38.01 & 1\\\\\n",
       "\t  84 & 307 & 2320 & 38.10 & 1\\\\\n",
       "\t  85 & 307 & 2330 & 38.15 & 1\\\\\n",
       "\t  86 & 307 & 2340 & 37.92 & 1\\\\\n",
       "\t  87 & 307 & 2350 & 37.64 & 1\\\\\n",
       "\t  88 & 308 &    0 & 37.70 & 1\\\\\n",
       "\t  89 & 308 &   10 & 37.46 & 1\\\\\n",
       "\t  90 & 308 &   20 & 37.41 & 1\\\\\n",
       "\t  91 & 308 &   30 & 37.46 & 1\\\\\n",
       "\t  92 & 308 &   40 & 37.56 & 1\\\\\n",
       "\t  93 & 308 &   50 & 37.55 & 1\\\\\n",
       "\t  94 & 308 &  100 & 37.75 & 1\\\\\n",
       "\t  95 & 308 &  110 & 37.76 & 1\\\\\n",
       "\t  96 & 308 &  120 & 37.73 & 1\\\\\n",
       "\t  97 & 308 &  130 & 37.77 & 1\\\\\n",
       "\t  98 & 308 &  140 & 38.01 & 1\\\\\n",
       "\t  99 & 308 &  150 & 38.04 & 1\\\\\n",
       "\t 100 & 308 &  200 & 38.07 & 1\\\\\n",
       "\\end{tabular}\n"
      ],
      "text/markdown": [
       "\n",
       "A data.frame: 100 × 5\n",
       "\n",
       "| V1 &lt;int&gt; | V2 &lt;int&gt; | V3 &lt;int&gt; | V4 &lt;dbl&gt; | V5 &lt;int&gt; |\n",
       "|---|---|---|---|---|\n",
       "|  1 | 307 |  930 | 36.58 | 0 |\n",
       "|  2 | 307 |  940 | 36.73 | 0 |\n",
       "|  3 | 307 |  950 | 36.93 | 0 |\n",
       "|  4 | 307 | 1000 | 37.15 | 0 |\n",
       "|  5 | 307 | 1010 | 37.23 | 0 |\n",
       "|  6 | 307 | 1020 | 37.24 | 0 |\n",
       "|  7 | 307 | 1030 | 37.24 | 0 |\n",
       "|  8 | 307 | 1040 | 36.90 | 0 |\n",
       "|  9 | 307 | 1050 | 36.95 | 0 |\n",
       "| 10 | 307 | 1100 | 36.89 | 0 |\n",
       "| 11 | 307 | 1110 | 36.95 | 0 |\n",
       "| 12 | 307 | 1120 | 37.00 | 0 |\n",
       "| 13 | 307 | 1130 | 36.90 | 0 |\n",
       "| 14 | 307 | 1140 | 36.99 | 0 |\n",
       "| 15 | 307 | 1150 | 36.99 | 0 |\n",
       "| 16 | 307 | 1200 | 37.01 | 0 |\n",
       "| 17 | 307 | 1210 | 37.04 | 0 |\n",
       "| 18 | 307 | 1220 | 37.04 | 0 |\n",
       "| 19 | 307 | 1230 | 37.14 | 0 |\n",
       "| 20 | 307 | 1240 | 37.07 | 0 |\n",
       "| 21 | 307 | 1250 | 36.98 | 0 |\n",
       "| 22 | 307 | 1300 | 37.01 | 0 |\n",
       "| 23 | 307 | 1310 | 36.97 | 0 |\n",
       "| 24 | 307 | 1320 | 36.97 | 0 |\n",
       "| 25 | 307 | 1330 | 37.12 | 0 |\n",
       "| 26 | 307 | 1340 | 37.13 | 0 |\n",
       "| 27 | 307 | 1350 | 37.14 | 0 |\n",
       "| 28 | 307 | 1400 | 37.15 | 0 |\n",
       "| 29 | 307 | 1410 | 37.17 | 0 |\n",
       "| 30 | 307 | 1420 | 37.12 | 0 |\n",
       "| ⋮ | ⋮ | ⋮ | ⋮ | ⋮ |\n",
       "|  71 | 307 | 2110 | 37.95 | 1 |\n",
       "|  72 | 307 | 2120 | 37.95 | 1 |\n",
       "|  73 | 307 | 2130 | 37.76 | 1 |\n",
       "|  74 | 307 | 2140 | 37.60 | 1 |\n",
       "|  75 | 307 | 2150 | 37.89 | 1 |\n",
       "|  76 | 307 | 2200 | 37.86 | 1 |\n",
       "|  77 | 307 | 2210 | 37.71 | 1 |\n",
       "|  78 | 307 | 2220 | 37.78 | 1 |\n",
       "|  79 | 307 | 2230 | 37.82 | 1 |\n",
       "|  80 | 307 | 2240 | 37.76 | 1 |\n",
       "|  81 | 307 | 2250 | 37.81 | 1 |\n",
       "|  82 | 307 | 2300 | 37.84 | 1 |\n",
       "|  83 | 307 | 2310 | 38.01 | 1 |\n",
       "|  84 | 307 | 2320 | 38.10 | 1 |\n",
       "|  85 | 307 | 2330 | 38.15 | 1 |\n",
       "|  86 | 307 | 2340 | 37.92 | 1 |\n",
       "|  87 | 307 | 2350 | 37.64 | 1 |\n",
       "|  88 | 308 |    0 | 37.70 | 1 |\n",
       "|  89 | 308 |   10 | 37.46 | 1 |\n",
       "|  90 | 308 |   20 | 37.41 | 1 |\n",
       "|  91 | 308 |   30 | 37.46 | 1 |\n",
       "|  92 | 308 |   40 | 37.56 | 1 |\n",
       "|  93 | 308 |   50 | 37.55 | 1 |\n",
       "|  94 | 308 |  100 | 37.75 | 1 |\n",
       "|  95 | 308 |  110 | 37.76 | 1 |\n",
       "|  96 | 308 |  120 | 37.73 | 1 |\n",
       "|  97 | 308 |  130 | 37.77 | 1 |\n",
       "|  98 | 308 |  140 | 38.01 | 1 |\n",
       "|  99 | 308 |  150 | 38.04 | 1 |\n",
       "| 100 | 308 |  200 | 38.07 | 1 |\n",
       "\n"
      ],
      "text/plain": [
       "    V1  V2  V3   V4    V5\n",
       "1    1  307  930 36.58 0 \n",
       "2    2  307  940 36.73 0 \n",
       "3    3  307  950 36.93 0 \n",
       "4    4  307 1000 37.15 0 \n",
       "5    5  307 1010 37.23 0 \n",
       "6    6  307 1020 37.24 0 \n",
       "7    7  307 1030 37.24 0 \n",
       "8    8  307 1040 36.90 0 \n",
       "9    9  307 1050 36.95 0 \n",
       "10  10  307 1100 36.89 0 \n",
       "11  11  307 1110 36.95 0 \n",
       "12  12  307 1120 37.00 0 \n",
       "13  13  307 1130 36.90 0 \n",
       "14  14  307 1140 36.99 0 \n",
       "15  15  307 1150 36.99 0 \n",
       "16  16  307 1200 37.01 0 \n",
       "17  17  307 1210 37.04 0 \n",
       "18  18  307 1220 37.04 0 \n",
       "19  19  307 1230 37.14 0 \n",
       "20  20  307 1240 37.07 0 \n",
       "21  21  307 1250 36.98 0 \n",
       "22  22  307 1300 37.01 0 \n",
       "23  23  307 1310 36.97 0 \n",
       "24  24  307 1320 36.97 0 \n",
       "25  25  307 1330 37.12 0 \n",
       "26  26  307 1340 37.13 0 \n",
       "27  27  307 1350 37.14 0 \n",
       "28  28  307 1400 37.15 0 \n",
       "29  29  307 1410 37.17 0 \n",
       "30  30  307 1420 37.12 0 \n",
       "⋮   ⋮   ⋮   ⋮    ⋮     ⋮ \n",
       "71   71 307 2110 37.95 1 \n",
       "72   72 307 2120 37.95 1 \n",
       "73   73 307 2130 37.76 1 \n",
       "74   74 307 2140 37.60 1 \n",
       "75   75 307 2150 37.89 1 \n",
       "76   76 307 2200 37.86 1 \n",
       "77   77 307 2210 37.71 1 \n",
       "78   78 307 2220 37.78 1 \n",
       "79   79 307 2230 37.82 1 \n",
       "80   80 307 2240 37.76 1 \n",
       "81   81 307 2250 37.81 1 \n",
       "82   82 307 2300 37.84 1 \n",
       "83   83 307 2310 38.01 1 \n",
       "84   84 307 2320 38.10 1 \n",
       "85   85 307 2330 38.15 1 \n",
       "86   86 307 2340 37.92 1 \n",
       "87   87 307 2350 37.64 1 \n",
       "88   88 308    0 37.70 1 \n",
       "89   89 308   10 37.46 1 \n",
       "90   90 308   20 37.41 1 \n",
       "91   91 308   30 37.46 1 \n",
       "92   92 308   40 37.56 1 \n",
       "93   93 308   50 37.55 1 \n",
       "94   94 308  100 37.75 1 \n",
       "95   95 308  110 37.76 1 \n",
       "96   96 308  120 37.73 1 \n",
       "97   97 308  130 37.77 1 \n",
       "98   98 308  140 38.01 1 \n",
       "99   99 308  150 38.04 1 \n",
       "100 100 308  200 38.07 1 "
      ]
     },
     "metadata": {},
     "output_type": "display_data"
    }
   ],
   "source": [
    "### Reading data from the web...\n",
    "read.table(\"http://www.stats.ox.ac.uk/pub/datasets/csb/ch11b.dat\")"
   ]
  },
  {
   "cell_type": "code",
   "execution_count": 89,
   "metadata": {},
   "outputs": [
    {
     "name": "stdout",
     "output_type": "stream",
     "text": [
      "[1] \"Thank you , this is the end By: Sulay Inpired by University of Colorado Boulder 2025-01-20\"\n"
     ]
    }
   ],
   "source": [
    "print(\"Thank you , this is the end By: Sulay Inpired by University of Colorado Boulder 2025-01-20\")"
   ]
  },
  {
   "cell_type": "code",
   "execution_count": 90,
   "metadata": {},
   "outputs": [
    {
     "data": {
      "image/png": "[encoded data removed]",
      "text/plain": [
       "Plot with title “Happy Face!”"
      ]
     },
     "metadata": {
      "image/png": {
       "height": 420,
       "width": 420
      },
      "text/plain": {
       "height": 420,
       "width": 420
      }
     },
     "output_type": "display_data"
    }
   ],
   "source": [
    "# Create a blank plot area\n",
    "plot(0, 0, type = \"n\", xlim = c(-2, 2), ylim = c(-2, 2), xlab = \"\", ylab = \"\", asp = 1, axes = FALSE, main = \"Happy Face!\")\n",
    "\n",
    "# Draw the face outline\n",
    "symbols(0, 0, circles = 1.5, inches = FALSE, add = TRUE, fg = \"black\", lwd = 3)\n",
    "\n",
    "# Draw the eyes\n",
    "points(-0.5, 0.5, pch = 19, cex = 2)  # Left eye\n",
    "points(0.5, 0.5, pch = 19, cex = 2)   # Right eye\n",
    "\n",
    "# Draw the smile using a curve\n",
    "x <- seq(-0.8, 0.8, length.out = 100)\n",
    "y <- -0.5 * sqrt(1 - (x/0.8)^2) - 0.3  # Equation for a smile curve\n",
    "lines(x, y, lwd = 3, col = \"red\")\n",
    "\n",
    "# Add some blush\n",
    "symbols(-0.8, 0.3, circles = 0.3, inches = FALSE, add = TRUE, fg = \"pink\", bg = \"pink\")\n",
    "symbols(0.8, 0.3, circles = 0.3, inches = FALSE, add = TRUE, fg = \"pink\", bg = \"pink\")\n",
    "\n",
    "# Enjoy the happy face!\n"
   ]
  },
  {
   "cell_type": "code",
   "execution_count": null,
   "metadata": {},
   "outputs": [],
   "source": []
  }
 ],
 "metadata": {
  "kernelspec": {
   "display_name": "R",
   "language": "R",
   "name": "ir"
  }
 },
 "nbformat": 4,
 "nbformat_minor": 2
}
