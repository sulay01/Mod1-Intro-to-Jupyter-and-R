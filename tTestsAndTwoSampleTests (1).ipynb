{
 "cells": [
  {
   "cell_type": "markdown",
   "metadata": {},
   "source": [
    "# t-Tests and Two Sample Tests\n",
    "\n",
    "> In this lab, we will take a close look at t-tests and two samples tests, in order to get an idea for how they can be applied to real data."
   ]
  },
  {
   "cell_type": "markdown",
   "metadata": {},
   "source": [
    "> What is a t-test, and when do we use it? A t-test is used to compare the means of one or two samples, when the underlying population parameters of those samples (mean and standard deviation) are unknown. Like a z-test, the t-test assumes that the sample follows a normal distribution. In particular, this test is useful for when we have a small sample size, as we can not use the Central Limit Theorem to use a z-test.\n",
    ">\n",
    "> There are two kinds of t-tests:\n",
    "> 1. One Sample t-tests\n",
    "> 2. Two Sample t-tests\n",
    ">\n",
    "> We will go through both in this exercise. \n",
    "> \n",
    "> Before we test anything, we will need some data. In particular, some normal data. Let $\\mu_{True}=10$ and $\\sigma_{True}=3$ for the underlying normal population, then use the `rnorm()` function with your selected parameters to generate 20 samples from that particular normal distribution. Your final code will look something like `rnorm(20, mean=10, sd=3)`. If you want your code to be reproducable, make sure to set a seed as well using `set.seed()`."
   ]
  },
  {
   "cell_type": "code",
   "execution_count": 6,
   "metadata": {},
   "outputs": [
    {
     "data": {
      "text/html": [
       "<style>\n",
       ".list-inline {list-style: none; margin:0; padding: 0}\n",
       ".list-inline>li {display: inline-block}\n",
       ".list-inline>li:not(:last-child)::after {content: \"\\00b7\"; padding: 0 .5ex}\n",
       "</style>\n",
       "<ol class=list-inline><li>63.7095844714667</li><li>44.3530182860391</li><li>53.6312841133734</li><li>56.3286260496104</li><li>54.04268323141</li><li>48.9387548390852</li></ol>\n"
      ],
      "text/latex": [
       "\\begin{enumerate*}\n",
       "\\item 63.7095844714667\n",
       "\\item 44.3530182860391\n",
       "\\item 53.6312841133734\n",
       "\\item 56.3286260496104\n",
       "\\item 54.04268323141\n",
       "\\item 48.9387548390852\n",
       "\\end{enumerate*}\n"
      ],
      "text/markdown": [
       "1. 63.7095844714667\n",
       "2. 44.3530182860391\n",
       "3. 53.6312841133734\n",
       "4. 56.3286260496104\n",
       "5. 54.04268323141\n",
       "6. 48.9387548390852\n",
       "\n",
       "\n"
      ],
      "text/plain": [
       "[1] 63.70958 44.35302 53.63128 56.32863 54.04268 48.93875"
      ]
     },
     "metadata": {},
     "output_type": "display_data"
    }
   ],
   "source": [
    "# Load necessary library\n",
    "set.seed(42)\n",
    "\n",
    "# Generate a random sample dataset\n",
    "sample_data <- rnorm(30, mean=50, sd=10)\n",
    "\n",
    "# Display first few data points\n",
    "head(sample_data)"
   ]
  },
  {
   "cell_type": "markdown",
   "metadata": {},
   "source": [
    "> Now imagine that you where just given this data, without knowing the underlying parameters. How would you go about estimating the true mean of the population from the sample? We would need to do some hypothesis testing.\n",
    ">\n",
    "> Let's start with a \"reasonable\" hypothesis that $\\mu = 10$ (we know this is true, but suppose you don't for the sake of the test) and an alternate hypothesis that $\\mu \\ne 10$. To test this, we need to think about certian attributes of our sample:\n",
    "> 1. Is the sample size \"large\" (n>30)? No, the sample size is n=20.\n",
    "> 2. Do we know any of the underlying parameters? No, the true mean and standard deviation are unknown.\n",
    "> 3. Is the sample approximately normally distributed? Hmm, let's check. Use the `hist()` function to plot your samples and check if they follow an approximately normal distribution."
   ]
  },
  {
   "cell_type": "code",
   "execution_count": 7,
   "metadata": {},
   "outputs": [
    {
     "name": "stdout",
     "output_type": "stream",
     "text": [
      "\n",
      "\tOne Sample t-test\n",
      "\n",
      "data:  sample_data\n",
      "t = 0.29933, df = 29, p-value = 0.7668\n",
      "alternative hypothesis: true mean is not equal to 50\n",
      "95 percent confidence interval:\n",
      " 45.99952 55.37222\n",
      "sample estimates:\n",
      "mean of x \n",
      " 50.68587 \n",
      "\n"
     ]
    }
   ],
   "source": [
    "# One-sample t-test\n",
    "# Test if the mean of sample_data is significantly different from 50\n",
    "\n",
    "t_test_result <- t.test(sample_data, mu=50)\n",
    "print(t_test_result)"
   ]
  },
  {
   "cell_type": "markdown",
   "metadata": {},
   "source": [
    "> From there, we can see that we should use a t-test. To calculate a t-statistic from our data, it's just plugging values into the formula:\n",
    ">\n",
    "> $$ \\text{t-stat} = \\frac{\\bar{x}-\\mu_0}{s/\\sqrt{n}} $$\n",
    ">\n",
    "> where $\\bar{x}$ is the sample mean, $\\mu_0$ is the true mean when assuming that the null is correct, $s$ is the sample standard deviation, and $n$ is the sample size. Then our t-statistic will follow a Student's t-distribution, which we can use to determine the probability of observing our data, given the null hypothesis. Use the `mean()` and `sd()` functions on your samples to solve for these values, and then calculate the t-statistic for your data."
   ]
  },
  {
   "cell_type": "code",
   "execution_count": 8,
   "metadata": {},
   "outputs": [
    {
     "name": "stdout",
     "output_type": "stream",
     "text": [
      "\n",
      "\tWelch Two Sample t-test\n",
      "\n",
      "data:  sample1 and sample2\n",
      "t = 2.3112, df = 56.249, p-value = 0.02451\n",
      "alternative hypothesis: true difference in means is not equal to 0\n",
      "95 percent confidence interval:\n",
      "  0.920669 12.889238\n",
      "sample estimates:\n",
      "mean of x mean of y \n",
      " 55.68587  48.78091 \n",
      "\n"
     ]
    }
   ],
   "source": [
    "# Generate two independent sample datasets\n",
    "set.seed(42)\n",
    "sample1 <- rnorm(30, mean=55, sd=10)\n",
    "sample2 <- rnorm(30, mean=50, sd=10)\n",
    "\n",
    "# Perform an independent (unpaired) two-sample t-test\n",
    "t_test_result <- t.test(sample1, sample2, var.equal=FALSE)  # Welch's t-test\n",
    "\n",
    "print(t_test_result)"
   ]
  },
  {
   "cell_type": "markdown",
   "metadata": {},
   "source": [
    "> We have a test statistic, now we want to determine how likely it was that we observed our test statistic. We can calculate this with a p-value, just as we did with a z-test. However, there is an extra step with a t-test. \n",
    "> \n",
    "> The Student's t-distribution has a \"Degrees of Freedom\" parameter (typically annotated as $\\nu$) which affects the spread of data values of the underlying distribution. The higher the degree of freedom, the less spread that will be observed. This parameter is based on the number of samples observed. \n",
    "> \n",
    "> Before we apply this to our sample, let's take a quick theoretical detour to see how different degrees of freedom affect the different shapes. Execute the cell below to plot the PDFs for different t-distributions, where the only difference is the degrees of freedom."
   ]
  },
  {
   "cell_type": "code",
   "execution_count": 1,
   "metadata": {},
   "outputs": [
    {
     "data": {
      "image/png": "[encoded data removed]",
      "text/plain": [
       "plot without title"
      ]
     },
     "metadata": {
      "image/png": {
       "height": 420,
       "width": 420
      },
      "text/plain": {
       "height": 420,
       "width": 420
      }
     },
     "output_type": "display_data"
    }
   ],
   "source": [
    "x = seq(-4, 4, 0.05)\n",
    "\n",
    "y.1 = dt(x, 1)\n",
    "y.3 = dt(x, 3)\n",
    "y.5 = dt(x, 5)\n",
    "y.20 = dt(x, 20)\n",
    "\n",
    "plot(0,0,xlim = c(-4,4),ylim = c(-0.01, 0.4),type = \"n\")\n",
    "lines(x, y.1, col=\"blue\")\n",
    "lines(x, y.3, col=\"green\")\n",
    "lines(x, y.5, col=\"red\")\n",
    "lines(x, y.20, col=\"black\")\n",
    "legend(\"topleft\", legend=c(1,3,5,20), col=c(\"blue\", \"green\", \"red\", \"black\"), lty=c(1,1), title=\"Degrees of Freedom\")"
   ]
  },
  {
   "cell_type": "markdown",
   "metadata": {},
   "source": [
    "> For a one sample t-test, the degrees of freedom is calculated as $\\nu = n-1$. So, for our data, we get $\\nu = 20 - 1 = 19$ degrees of freedom.\n",
    ">\n",
    "> One of the ways to check the . Since we're using a two-tailed test (because our alternative hypothesis is $\\mu_0 \\ne 10$), we need to calculate the probability that the true mean is significantly above or below the observed data. We can solve this using the equation: $\\text{p-value}= 2 F_t(-|t|, dof=n-1)$. Note that $F_t$ is the CDF of the t-distribution, which we can calculate in R using the `pt()` function, and that $t$ is the test statistic we calculated earlier.\n",
    ">\n",
    "> Putting those all together, we can calculate the p-value using similar to `2*pt(-abs(test.stat), df=n-1)`."
   ]
  },
  {
   "cell_type": "code",
   "execution_count": 12,
   "metadata": {},
   "outputs": [
    {
     "name": "stdout",
     "output_type": "stream",
     "text": [
      "\n",
      "\tPaired t-test\n",
      "\n",
      "data:  before and after\n",
      "t = -4.5802, df = 29, p-value = 8.133e-05\n",
      "alternative hypothesis: true difference in means is not equal to 0\n",
      "95 percent confidence interval:\n",
      " -6.350945 -2.429970\n",
      "sample estimates:\n",
      "mean of the differences \n",
      "              -4.390457 \n",
      "\n"
     ]
    }
   ],
   "source": [
    "# Paired t-test example\n",
    "# Generate paired samples before and after treatment\n",
    "set.seed(42)\n",
    "before <- rnorm(30, mean=100, sd=15)\n",
    "after <- before + rnorm(30, mean=5, sd=5)  # Adding small change\n",
    "\n",
    "# Perform a paired t-test\n",
    "t_test_result <- t.test(before, after, paired=TRUE)\n",
    "\n",
    "print(t_test_result)"
   ]
  },
  {
   "cell_type": "markdown",
   "metadata": {},
   "source": [
    "> Our null hypothesis was that $\\mu=10$. Based on your results, and at a significance level of $\\alpha=0.1$, does your data support or reject that null hypothesis?\n",
    ">\n",
    "> Using the same data, try testing some \"unreasonable\" guess at the true mean, such as $\\mu=100$. Does the test correctly reject the mean?"
   ]
  },
  {
   "cell_type": "code",
   "execution_count": 11,
   "metadata": {},
   "outputs": [
    {
     "name": "stdout",
     "output_type": "stream",
     "text": [
      "\n",
      "\tShapiro-Wilk normality test\n",
      "\n",
      "data:  sample_data\n",
      "W = 0.96209, p-value = 0.35\n",
      "\n"
     ]
    }
   ],
   "source": [
    "# Checking assumptions: Normality test using Shapiro-Wilk test\n",
    "shapiro_test <- shapiro.test(sample_data)\n",
    "\n",
    "print(shapiro_test)"
   ]
  },
  {
   "cell_type": "markdown",
   "metadata": {},
   "source": [
    "> The other use for t-tests are when you want to compare the mean of two different samples. This is a Two Sample t-Test.\n",
    ">\n",
    "> Let your original sample be Sample A. Create a second sample (Sample B) that specifically has the *same* mean $\\mu_B=10$ but a *different* standard deviation. Have 15 observations in Sample B."
   ]
  },
  {
   "cell_type": "code",
   "execution_count": 17,
   "metadata": {},
   "outputs": [
    {
     "name": "stdout",
     "output_type": "stream",
     "text": [
      " [1] 16.854792  7.176509 11.815642 13.164313 12.021342  9.469377 17.557610\n",
      " [8]  9.526705 20.092119  9.686430 16.524348 21.433227  3.055696  8.606056\n",
      "[15]  9.333393\n"
     ]
    }
   ],
   "source": [
    "# Set seed for reproducibility\n",
    "set.seed(42)\n",
    "\n",
    "# Generate Sample B with mean 10 and a different standard deviation (e.g., 5)\n",
    "sample_B <- rnorm(15, mean=10, sd=5)\n",
    "\n",
    "# Print Sample B to confirm\n",
    "print(sample_B)\n"
   ]
  },
  {
   "cell_type": "code",
   "execution_count": 22,
   "metadata": {},
   "outputs": [
    {
     "name": "stdout",
     "output_type": "stream",
     "text": [
      " [1] 54.32818 41.88607 64.44101 45.68554 56.55648 53.21925 42.16161 65.75728\n",
      " [9] 56.42899 50.89761 52.76551 56.79289 50.89833 20.06910 52.84883 46.32765\n",
      "[17] 51.85231 55.81824 63.99737 42.72708 63.02543 53.35848 60.38506 59.20729\n",
      "[25] 57.20878 39.56881 49.09814 56.23518 40.46477 44.57171\n",
      " [1] 16.854792  7.176509 11.815642 13.164313 12.021342  9.469377 17.557610\n",
      " [8]  9.526705 20.092119  9.686430 16.524348 21.433227  3.055696  8.606056\n",
      "[15]  9.333393\n"
     ]
    }
   ],
   "source": [
    "print(sample_A)\n",
    "print(sample_B)\n"
   ]
  },
  {
   "cell_type": "code",
   "execution_count": 24,
   "metadata": {},
   "outputs": [],
   "source": [
    "set.seed(42)  # Ensure reproducibility\n",
    "sample_A <- rnorm(30, mean=50, sd=10)  # Sample A with mean=50, SD=10, 30 observations\n"
   ]
  },
  {
   "cell_type": "code",
   "execution_count": 25,
   "metadata": {},
   "outputs": [
    {
     "name": "stdout",
     "output_type": "stream",
     "text": [
      "\n",
      "\tWelch Two Sample t-test\n",
      "\n",
      "data:  sample_A and sample_B\n",
      "t = 14.46, df = 41.915, p-value < 2.2e-16\n",
      "alternative hypothesis: true difference in means is not equal to 0\n",
      "95 percent confidence interval:\n",
      " 32.9242 43.6052\n",
      "sample estimates:\n",
      "mean of x mean of y \n",
      " 50.68587  12.42117 \n",
      "\n"
     ]
    }
   ],
   "source": [
    "t_test_result <- t.test(sample_A, sample_B, var.equal=FALSE)\n",
    "print(t_test_result)\n"
   ]
  },
  {
   "cell_type": "code",
   "execution_count": 26,
   "metadata": {},
   "outputs": [
    {
     "name": "stdout",
     "output_type": "stream",
     "text": [
      "\n",
      "\tWelch Two Sample t-test\n",
      "\n",
      "data:  sample_A and sample_B\n",
      "t = 14.46, df = 41.915, p-value < 2.2e-16\n",
      "alternative hypothesis: true difference in means is not equal to 0\n",
      "95 percent confidence interval:\n",
      " 32.9242 43.6052\n",
      "sample estimates:\n",
      "mean of x mean of y \n",
      " 50.68587  12.42117 \n",
      "\n"
     ]
    }
   ],
   "source": [
    "# Ensure samples exist\n",
    "if (!exists(\"sample_A\")) {\n",
    "    sample_A <- rnorm(30, mean=50, sd=10)\n",
    "}\n",
    "if (!exists(\"sample_B\")) {\n",
    "    sample_B <- rnorm(15, mean=10, sd=5)\n",
    "}\n",
    "\n",
    "# Remove NA values if any\n",
    "sample_A <- na.omit(sample_A)\n",
    "sample_B <- na.omit(sample_B)\n",
    "\n",
    "# Convert to numeric in case of type issues\n",
    "sample_A <- as.numeric(sample_A)\n",
    "sample_B <- as.numeric(sample_B)\n",
    "\n",
    "# Perform two-sample t-test\n",
    "t_test_result <- t.test(sample_A, sample_B, var.equal=FALSE)\n",
    "\n",
    "# Print result\n",
    "print(t_test_result)\n"
   ]
  },
  {
   "cell_type": "markdown",
   "metadata": {},
   "source": [
    "> Let's test whether the two samples have the same underlying mean. In particular, we have the null hypothesis that $\\mu_A - \\mu_B = 0$ and the alternative hypothesis that $\\mu_A - \\mu_B \\ne 0$.\n",
    ">\n",
    "> To test this, we can calculate a test statistic that will follow the t-distribution using the equation:\n",
    ">\n",
    "> $$\\text{t-stat}=\\frac{\\bar{X}_A - \\bar{X}_B}{\\sqrt{s_A^2/n_A + s_B^2/n_B}}$$\n",
    ">\n",
    "> Another difference from the One Sample test is the degrees of freedom, as it's based on both samples. For the Two Sample Test, we have $\\nu = n_A + n_B - 2$.\n",
    "> \n",
    "> Once we have our test statistic and degrees of freedom, we can calculate the p-value in the same was as we did for the One Sample t-test. Use the same functions as you did in the One Sample test to solve for this p-value. What are the results from the test at a significance level of $\\alpha=0.1$?"
   ]
  },
  {
   "cell_type": "code",
   "execution_count": 33,
   "metadata": {},
   "outputs": [
    {
     "name": "stdout",
     "output_type": "stream",
     "text": [
      "[1] 63.70958 44.35302 53.63128 56.32863 54.04268 48.93875\n",
      "[1] 12.277251 13.524187 15.175518  6.955368 12.524776  1.414957\n"
     ]
    }
   ],
   "source": [
    "# Ensure reproducibility\n",
    "set.seed(42)\n",
    "\n",
    "# Generate Sample A and Sample B\n",
    "sample_A <- rnorm(30, mean=50, sd=10)  # Sample A: 30 observations, mean=50, sd=10\n",
    "sample_B <- rnorm(15, mean=10, sd=5)   # Sample B: 15 observations, mean=10, sd=5\n",
    "\n",
    "# Print the first few values of each sample to verify\n",
    "print(head(sample_A))\n",
    "print(head(sample_B))\n"
   ]
  },
  {
   "cell_type": "code",
   "execution_count": 34,
   "metadata": {},
   "outputs": [
    {
     "name": "stdout",
     "output_type": "stream",
     "text": [
      "[1] \"T-Statistic: 16.132411536656\"\n"
     ]
    }
   ],
   "source": [
    "# Calculate sample means\n",
    "mean_A <- mean(sample_A)\n",
    "mean_B <- mean(sample_B)\n",
    "\n",
    "# Calculate sample standard deviations\n",
    "sd_A <- sd(sample_A)\n",
    "sd_B <- sd(sample_B)\n",
    "\n",
    "# Sample sizes\n",
    "n_A <- length(sample_A)\n",
    "n_B <- length(sample_B)\n",
    "\n",
    "# Compute t-statistic\n",
    "t_stat <- (mean_A - mean_B) / sqrt((sd_A^2 / n_A) + (sd_B^2 / n_B))\n",
    "\n",
    "# Print the t-statistic\n",
    "print(paste(\"T-Statistic:\", t_stat))\n"
   ]
  },
  {
   "cell_type": "code",
   "execution_count": 35,
   "metadata": {},
   "outputs": [
    {
     "name": "stdout",
     "output_type": "stream",
     "text": [
      "[1] \"Degrees of Freedom: 43\"\n"
     ]
    }
   ],
   "source": [
    "df <- n_A + n_B - 2\n",
    "print(paste(\"Degrees of Freedom:\", df))\n"
   ]
  },
  {
   "cell_type": "code",
   "execution_count": 36,
   "metadata": {},
   "outputs": [
    {
     "name": "stdout",
     "output_type": "stream",
     "text": [
      "[1] \"P-Value: 7.49918880257324e-20\"\n"
     ]
    }
   ],
   "source": [
    "# Compute the two-tailed p-value\n",
    "p_value <- 2 * pt(-abs(t_stat), df=df)\n",
    "\n",
    "# Print the p-value\n",
    "print(paste(\"P-Value:\", p_value))\n"
   ]
  },
  {
   "cell_type": "code",
   "execution_count": 37,
   "metadata": {},
   "outputs": [
    {
     "name": "stdout",
     "output_type": "stream",
     "text": [
      "[1] \"Reject the Null Hypothesis: The means are significantly different.\"\n"
     ]
    }
   ],
   "source": [
    "alpha <- 0.1  # Significance level\n",
    "\n",
    "if (p_value < alpha) {\n",
    "    print(\"Reject the Null Hypothesis: The means are significantly different.\")\n",
    "} else {\n",
    "    print(\"Fail to Reject the Null Hypothesis: No significant difference in means.\")\n",
    "}\n"
   ]
  },
  {
   "cell_type": "code",
   "execution_count": 38,
   "metadata": {},
   "outputs": [
    {
     "name": "stdout",
     "output_type": "stream",
     "text": [
      "\n",
      "\tWelch Two Sample t-test\n",
      "\n",
      "data:  sample_A and sample_B\n",
      "t = 16.132, df = 41.606, p-value < 2.2e-16\n",
      "alternative hypothesis: true difference in means is not equal to 0\n",
      "95 percent confidence interval:\n",
      " 37.09114 47.70121\n",
      "sample estimates:\n",
      "mean of x mean of y \n",
      "50.685868  8.289693 \n",
      "\n"
     ]
    }
   ],
   "source": [
    "t_test_result <- t.test(sample_A, sample_B, var.equal=FALSE)\n",
    "print(t_test_result)\n"
   ]
  },
  {
   "cell_type": "code",
   "execution_count": 42,
   "metadata": {},
   "outputs": [
    {
     "name": "stdout",
     "output_type": "stream",
     "text": [
      "[1] \"Thank you for stopping by, Sulay Cay University of Colorado Boulder !\"\n"
     ]
    }
   ],
   "source": [
    "print('Thank you for stopping by, Sulay Cay University of Colorado Boulder !')"
   ]
  },
  {
   "cell_type": "code",
   "execution_count": null,
   "metadata": {},
   "outputs": [],
   "source": []
  }
 ],
 "metadata": {
  "kernelspec": {
   "display_name": "R",
   "language": "R",
   "name": "ir"
  }
 },
 "nbformat": 4,
 "nbformat_minor": 4
}
